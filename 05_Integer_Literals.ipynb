{
 "cells": [
  {
   "cell_type": "markdown",
   "id": "4e682bfb",
   "metadata": {},
   "source": [
    "# Python Course | Muhammad Shariq"
   ]
  },
  {
   "cell_type": "markdown",
   "id": "a9d76dbe",
   "metadata": {},
   "source": [
    "## Integer Literals in Python\n",
    "Integer literals are whole numbers you directly write in Python code — like 5, 100, or -20.\n",
    "They tell Python you mean a number, not text or something else.\n",
    "\n",
    "## Memory Space Sharing\n",
    "In Python, integer literals can share the same memory space under certain conditions. This is due to a process called interning, where Python stores a pool of interned objects that can be reused when the same value is needed again."
   ]
  },
  {
   "cell_type": "code",
   "execution_count": 1,
   "id": "ce366ee3",
   "metadata": {},
   "outputs": [
    {
     "name": "stdout",
     "output_type": "stream",
     "text": [
      "Value of x = 1, and id(x) = 140730434922936\n",
      "Value of y = 1, and id(y) = 140730434922936\n",
      "Value of z = 1, and id(z) = 140730434922936\n",
      "id(x) == id(y) =  True\n",
      "id(x) is id(y) =  False\n"
     ]
    }
   ],
   "source": [
    "x: int = 1\n",
    "y: int = 1\n",
    "z: int = x\n",
    "\n",
    "print(\"Value of x = \" + str(x) + \", and id(x) = \" + str(id(x))) # when you need to concatinate any thing with string you need to first cast it to str()\n",
    "print(\"Value of y = \" + str(y) + \", and id(y) = \" + str(id(y)))\n",
    "print(\"Value of z = \" + str(z) + \", and id(z) = \" + str(id(z)))\n",
    "print(\"id(x) == id(y) = \", id(x) == id(y) )\n",
    "print(\"id(x) is id(y) = \", id(x) is id(y) ) # ;)"
   ]
  },
  {
   "cell_type": "markdown",
   "id": "550ced16",
   "metadata": {},
   "source": [
    "### Integer Interning in Python\n",
    "In Python, integers in the range -5 to 256 are interned, meaning that they are stored in a pool of interned objects. This means that when you create an integer literal within this range, Python returns a reference to the existing object in the pool."
   ]
  },
  {
   "cell_type": "code",
   "execution_count": 2,
   "id": "ea110383",
   "metadata": {},
   "outputs": [
    {
     "name": "stdout",
     "output_type": "stream",
     "text": [
      "Value of x = -6, and id(x) = 2432683878960\n",
      "Value of y = -6, and id(y) = 2432683869968\n",
      "Value of z = -6, and id(z) = 2432683878960\n",
      "\n",
      " ===================== \n",
      "\n",
      "Value of x = 257, and id(a) = 2432683879312\n",
      "Value of y = 257, and id(b) = 2432683878576\n",
      "Value of z = 257, and id(c) = 2432683879312\n"
     ]
    }
   ],
   "source": [
    "x = -6\n",
    "y = -6\n",
    "z = x\n",
    "\n",
    "print(\"Value of x = \" + str(x) + \", and id(x) = \" + str(id(x)))\n",
    "print(\"Value of y = \" + str(y) + \", and id(y) = \" + str(id(y)))\n",
    "print(\"Value of z = \" + str(z) + \", and id(z) = \" + str(id(z)))\n",
    "\n",
    "print(\"\\n ===================== \\n\")\n",
    "\n",
    "a = 257\n",
    "b = 257\n",
    "c = a\n",
    "\n",
    "print(\"Value of x = \" + str(a) + \", and id(a) = \" + str(id(a)))\n",
    "print(\"Value of y = \" + str(b) + \", and id(b) = \" + str(id(b)))\n",
    "print(\"Value of z = \" + str(c) + \", and id(c) = \" + str(id(c)))"
   ]
  },
  {
   "cell_type": "markdown",
   "id": "c0edca1e",
   "metadata": {},
   "source": [
    "# Follow me on LinkedIn for more Tips and News! [Muhammad Shariq](https://www.linkedin.com/in/muhammad---shariq)\n"
   ]
  }
 ],
 "metadata": {
  "kernelspec": {
   "display_name": "base",
   "language": "python",
   "name": "python3"
  },
  "language_info": {
   "codemirror_mode": {
    "name": "ipython",
    "version": 3
   },
   "file_extension": ".py",
   "mimetype": "text/x-python",
   "name": "python",
   "nbconvert_exporter": "python",
   "pygments_lexer": "ipython3",
   "version": "3.12.7"
  }
 },
 "nbformat": 4,
 "nbformat_minor": 5
}
