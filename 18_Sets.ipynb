{
 "cells": [
  {
   "cell_type": "markdown",
   "id": "bfd43c24",
   "metadata": {},
   "source": [
    "# **Python Course | Muhammad Shariq**"
   ]
  },
  {
   "cell_type": "markdown",
   "id": "4edef3f4",
   "metadata": {},
   "source": [
    "## Set\n",
    "A set is unordered, unindexed, and mutable\n",
    "\n",
    "An object cannot appear more than once in a set.\n",
    "\n",
    "Python also includes a data type for sets. A set is an unordered collection with no duplicate elements. Basic uses include membership testing and eliminating duplicate entries. Set objects also support mathematical operations like union, intersection, difference, and symmetric difference.\n",
    "\n",
    "Curly braces or the set() function can be used to create sets. Note: to create an empty set you have to use set(), not {}; the latter creates an empty dictionary, a data structure that we discuss in the next section."
   ]
  },
  {
   "cell_type": "code",
   "execution_count": 1,
   "id": "523ff95f",
   "metadata": {},
   "outputs": [
    {
     "name": "stdout",
     "output_type": "stream",
     "text": [
      "my_set            =  {123, 452, 5, 6}\n",
      "my_set2           =  {123, 452, 5, 6}\n",
      "type(my_set)      =  <class 'set'>\n",
      "type(my_set2)     =  <class 'set'>\n",
      "type(unknown)     =  <class 'dict'>\n",
      "type(empty_set)   =  <class 'set'>\n",
      "my_set == my_set2 =  True\n"
     ]
    }
   ],
   "source": [
    "my_set: set = {123, 452, 5, 6}\n",
    "my_set2: set = set([123, 452, 5, 6])\n",
    "unknown: set = {} # set or dectionary\n",
    "empty_set: set = set()\n",
    "\n",
    "print(\"my_set            = \", my_set)\n",
    "print(\"my_set2           = \", my_set2)\n",
    "print(\"type(my_set)      = \", type(my_set))\n",
    "print(\"type(my_set2)     = \", type(my_set2))\n",
    "print(\"type(unknown)     = \", type(unknown))\n",
    "print(\"type(empty_set)   = \", type(empty_set))\n",
    "print(\"my_set == my_set2 = \", my_set == my_set2)"
   ]
  },
  {
   "cell_type": "markdown",
   "id": "097e1f66",
   "metadata": {},
   "source": [
    "### Holds only Immutable Objects\n",
    "A set can store only immutable objects such as number (int, float, complex or bool), string or tuple. If you try to put a list or a dictionary in the set collection, Python raises a TypeError."
   ]
  },
  {
   "cell_type": "code",
   "execution_count": 2,
   "id": "5769edee",
   "metadata": {},
   "outputs": [
    {
     "ename": "TypeError",
     "evalue": "unhashable type: 'list'",
     "output_type": "error",
     "traceback": [
      "\u001b[1;31m---------------------------------------------------------------------------\u001b[0m",
      "\u001b[1;31mTypeError\u001b[0m                                 Traceback (most recent call last)",
      "Cell \u001b[1;32mIn[2], line 1\u001b[0m\n\u001b[1;32m----> 1\u001b[0m my_set \u001b[38;5;241m=\u001b[39m {[\u001b[38;5;241m123\u001b[39m, \u001b[38;5;241m452\u001b[39m, \u001b[38;5;241m5\u001b[39m, \u001b[38;5;241m6\u001b[39m]} \u001b[38;5;66;03m# TypeError: unhashable type: 'list'\u001b[39;00m\n\u001b[0;32m      2\u001b[0m \u001b[38;5;28mprint\u001b[39m(my_set)\n",
      "\u001b[1;31mTypeError\u001b[0m: unhashable type: 'list'"
     ]
    }
   ],
   "source": [
    "my_set = {[123, 452, 5, 6]} # TypeError: unhashable type: 'list'\n",
    "print(my_set)"
   ]
  },
  {
   "cell_type": "markdown",
   "id": "a923db4f",
   "metadata": {},
   "source": [
    "### Can hold multiple data types at once.\n"
   ]
  },
  {
   "cell_type": "code",
   "execution_count": 3,
   "id": "85618f6e",
   "metadata": {},
   "outputs": [
    {
     "name": "stdout",
     "output_type": "stream",
     "text": [
      "{False, True, 'Hello! World', 7, 9.0, (1, 5, 9, 'hi')}\n"
     ]
    }
   ],
   "source": [
    "multi_type_set: set = {7, 9.0, False, True, \"Hello! World\", (1,5,9,'hi') }\n",
    "print(multi_type_set)"
   ]
  },
  {
   "cell_type": "markdown",
   "id": "2059c365",
   "metadata": {},
   "source": [
    "### The set is unordered\n",
    "Note that items in the set collection may not follow the same order in which they are entered. The position of items is optimized by Python to perform operations over set as defined in mathematics."
   ]
  },
  {
   "cell_type": "code",
   "execution_count": 8,
   "id": "35e5be5d",
   "metadata": {},
   "outputs": [
    {
     "name": "stdout",
     "output_type": "stream",
     "text": [
      "{'java', 'Python', 'Java', 'JavaScript'}\n"
     ]
    }
   ],
   "source": [
    "set2: set = {'Java', 'Python', 'JavaScript', 'java'}\n",
    "print(set2)"
   ]
  },
  {
   "cell_type": "markdown",
   "id": "42b0a21b",
   "metadata": {},
   "source": [
    "\"Python sets are unordered collections, but internally, elements are stored based on their hash values. However, this internal structure is not predictable or stable across operations\"."
   ]
  },
  {
   "cell_type": "markdown",
   "id": "a1824973",
   "metadata": {},
   "source": [
    "### The set can not be Changed directly using []\n",
    "When we say that set items are unchangeable, it means that you cannot modify an individual item in a set directly. However, you can add or remove items from the set."
   ]
  },
  {
   "cell_type": "code",
   "execution_count": 9,
   "id": "ec3409bc",
   "metadata": {},
   "outputs": [
    {
     "name": "stdout",
     "output_type": "stream",
     "text": [
      "{1, 2, 3, 4, 5}\n",
      "'set' object does not support item assignment\n"
     ]
    }
   ],
   "source": [
    "# Create a set\n",
    "my_set: set = {1, 2, 3, 4, 5}\n",
    "print(my_set)  # Output: {1, 2, 3, 4, 5}\n",
    "\n",
    "# Try to change an item (this will raise an error)\n",
    "try:\n",
    "    my_set[0] = 10  # Sets are unordered, so indexing doesn't work\n",
    "except TypeError as e:\n",
    "    print(e)  # Output: 'set' object does not support item assignment"
   ]
  },
  {
   "cell_type": "markdown",
   "id": "438f331c",
   "metadata": {},
   "source": [
    "- set's are unordered, so indexing doesn't work ~~my_set[0]~~\n",
    "- set object does not support item assignment ~~my_set[0] = 10~~"
   ]
  },
  {
   "cell_type": "code",
   "execution_count": 10,
   "id": "58b43c3a",
   "metadata": {},
   "outputs": [
    {
     "name": "stdout",
     "output_type": "stream",
     "text": [
      "{1, 2, 3, 4, 5}\n",
      "*TypeError*  ABC :  'set' object does not support item assignment\n",
      "Program execution continues as normal because we handle the error condition in try except block\n"
     ]
    }
   ],
   "source": [
    "# Create a set\n",
    "my_set: set = {1, 2, 3, 4, 5}\n",
    "print(my_set)  # Output: {1, 2, 3, 4, 5}\n",
    "\n",
    "# Try to change an item (this will raise an error)\n",
    "try:\n",
    "    my_set[0] = 10  # Sets are unordered, so indexing doesn't work\n",
    "except TypeError as e:\n",
    "    print(\"*TypeError*  ABC : \", e)  # Output: 'set' object does not support item assignment\n",
    "\n",
    "print(\"Program execution continues as normal because we handle the error condition in try except block\")"
   ]
  },
  {
   "cell_type": "markdown",
   "id": "31b469e1",
   "metadata": {},
   "source": [
    "As you can see, you can't change an individual item in a set directly. Instead, you can remove the item and add a new one with the updated value. Alternatively, you can use the discard() or remove() methods to remove items and the add() or update() methods to add new items."
   ]
  },
  {
   "cell_type": "code",
   "execution_count": 11,
   "id": "8fdad035",
   "metadata": {},
   "outputs": [
    {
     "name": "stdout",
     "output_type": "stream",
     "text": [
      "{1, 2, 3, 4, 5, 'A', 'a'}\n",
      "{1, 2, 4, 5, 'a'}\n"
     ]
    }
   ],
   "source": [
    "my_set: set = {1, 2, 3, 4, 5, 'A', 'a'}\n",
    "print(my_set)\n",
    "# Remove an item\n",
    "my_set.remove(3)\n",
    "my_set.remove('A')\n",
    "print(my_set)  # Output: {1, 2, 4, 5}"
   ]
  },
  {
   "cell_type": "code",
   "execution_count": 12,
   "id": "4fb60af2",
   "metadata": {},
   "outputs": [
    {
     "name": "stdout",
     "output_type": "stream",
     "text": [
      "{1, 2, 4, 5, 6, 'a'}\n"
     ]
    }
   ],
   "source": [
    "my_set.add(6)\n",
    "print(my_set)  # Output: {1, 2, 4, 5, 6}"
   ]
  },
  {
   "cell_type": "code",
   "execution_count": 13,
   "id": "1d4f5f62",
   "metadata": {},
   "outputs": [
    {
     "name": "stdout",
     "output_type": "stream",
     "text": [
      "my_set =  {1, 2, 3, 4, 5, 'A', 'a'}\n",
      "None\n",
      "After: my_set =  {1, 2, 3, 4, 5, 'A', 'a'}\n",
      "After removing multiple elements: my_set =  {4, 5, 'A', 'a'}\n"
     ]
    }
   ],
   "source": [
    "my_set: set = {1, 2, 3, 4, 5, 'A', 'a'}\n",
    "print(\"my_set = \", my_set)\n",
    "\n",
    "# discard() only removes a single element.\n",
    "# {1, 2, 3} is a set itself, not an element within my_set.\n",
    "# Therefore, discard does not find it and returns None, without modifying the set.\n",
    "print(my_set.discard({1,2,3}))\n",
    "\n",
    "print(\"After: my_set = \", my_set) # return None\n",
    "\n",
    "# To remove multiple elements, iterate and discard each one individually:\n",
    "for item in {1, 2, 3}:\n",
    "    my_set.discard(item)\n",
    "\n",
    "print(\"After removing multiple elements: my_set = \", my_set)"
   ]
  },
  {
   "cell_type": "markdown",
   "id": "60c9b15c",
   "metadata": {},
   "source": [
    "### use difference_update() method to remove multiple element at once."
   ]
  },
  {
   "cell_type": "code",
   "execution_count": 14,
   "id": "b6bb4589",
   "metadata": {},
   "outputs": [
    {
     "name": "stdout",
     "output_type": "stream",
     "text": [
      "Before: my_set =  {1, 2, 3, 4, 5, 'A', 'a'}\n",
      "After:  my_set =  {2, 4, 'a'}\n"
     ]
    }
   ],
   "source": [
    "my_set: set = {1, 2, 3, 4, 5, 'A', 'a'}\n",
    "print(\"Before: my_set = \", my_set)\n",
    "my_set.difference_update({1, 5, 3, 'A'})\n",
    "print(\"After:  my_set = \", my_set)"
   ]
  },
  {
   "cell_type": "code",
   "execution_count": 15,
   "id": "ac6865dd",
   "metadata": {},
   "outputs": [
    {
     "name": "stdout",
     "output_type": "stream",
     "text": [
      "Before:  {2, 4, 'a'}\n",
      "{'Hello', 2, 4, 7, 8, 9, 'a'}\n"
     ]
    }
   ],
   "source": [
    "print(\"Before: \", my_set)\n",
    "# Add multiple items\n",
    "my_set.update([7, 8, 9, \"Hello\"])\n",
    "print(my_set)  # Output: {4, 5, 6, 7, 8, 9}"
   ]
  },
  {
   "cell_type": "markdown",
   "id": "2d01e96e",
   "metadata": {},
   "source": [
    "### Using the union() method or | operator:\n",
    "In Python, the union() method or the | operator is used to combine two sets into a single set. This operation returns a new set containing all unique elements from both sets.\n",
    "\n",
    "#### Using the union() method:\n",
    "\n",
    "The union() method is a built-in method of the set data type in Python. It takes an iterable (such as a set, list, or tuple) as an argument and returns a new set containing all unique elements from both the original set and the iterable."
   ]
  },
  {
   "cell_type": "code",
   "execution_count": 16,
   "id": "c7a045d7",
   "metadata": {},
   "outputs": [
    {
     "name": "stdout",
     "output_type": "stream",
     "text": [
      "{1, 2, 3, 5, 6, 7}\n"
     ]
    }
   ],
   "source": [
    "my_set: set   = {1, 2, 3, 5}\n",
    "my_set_2: set = {1, 5, 6, 7}\n",
    "\n",
    "my_set3: set  = my_set.union(my_set_2)\n",
    "print(my_set3)"
   ]
  },
  {
   "cell_type": "markdown",
   "id": "6b604156",
   "metadata": {},
   "source": [
    "#### Using the | operator:\n",
    "The | operator is a binary operator that can be used to combine two sets into a single set. It has the same effect as the union() method, but is often more concise and readable."
   ]
  },
  {
   "cell_type": "code",
   "execution_count": 17,
   "id": "417e64fe",
   "metadata": {},
   "outputs": [
    {
     "name": "stdout",
     "output_type": "stream",
     "text": [
      "{1, 2, 3, 5, 6, 7}\n"
     ]
    }
   ],
   "source": [
    "my_set: set   = {1, 2, 3, 5}\n",
    "my_set_2: set = {1, 5, 6, 7}\n",
    "\n",
    "my_set3: set  = my_set | my_set_2 # | operator\n",
    "print(my_set3)"
   ]
  },
  {
   "cell_type": "markdown",
   "id": "03cb36b6",
   "metadata": {},
   "source": [
    "Key aspects of union() and | operator:\n",
    "\n",
    "1. Unique elements: The resulting set contains only unique elements from both sets.\n",
    "\n",
    "2. Order does not matter: The order in which the sets are combined does not affect the result.\n",
    "\n",
    "3. Original sets remain unchanged: The original sets are not modified by the union operation.\n",
    "\n"
   ]
  },
  {
   "cell_type": "markdown",
   "id": "1b083255",
   "metadata": {},
   "source": [
    "### Unique Elements\n",
    "Note that sets only store unique elements, so if you try to add a duplicate item, it will be ignored. For example:"
   ]
  },
  {
   "cell_type": "code",
   "execution_count": 18,
   "id": "c1655e06",
   "metadata": {},
   "outputs": [
    {
     "name": "stdout",
     "output_type": "stream",
     "text": [
      "Before :  {'Hello! World', 1, 2, 3, 4, 5}\n",
      "After  :  {'Hello! World', 1, 2, 3, 4, 5}\n"
     ]
    }
   ],
   "source": [
    "my_set: set = {1,2,3,4,5, \"Hello! World\"}\n",
    "print(\"Before : \", my_set)\n",
    "\n",
    "my_set.add(2)\n",
    "my_set.add(\"Hello! World\")\n",
    "\n",
    "print(\"After  : \", my_set)"
   ]
  },
  {
   "cell_type": "markdown",
   "id": "ac7ef834",
   "metadata": {},
   "source": [
    "### discard() and remove() methods\n",
    "In Python, both discard() and remove() methods are used to remove items from a set. However, there is a key difference between the two methods:\n",
    "\n",
    "1. remove() method:\n",
    "    - The remove() method removes the specified item from the set.\n",
    "    - If the item is not found in the set, it raises a KeyError.\n",
    "    - This method is suitable when you are sure that the item exists in the set.\n",
    "\n",
    "2. discard() method:\n",
    "    - The discard() method also removes the specified item from the set.\n",
    "    - However, if the item is not found in the set, it does not raise any error. It simply does nothing.\n",
    "    - This method is suitable when you are not sure if the item exists in the set."
   ]
  },
  {
   "cell_type": "code",
   "execution_count": 19,
   "id": "63b0b98c",
   "metadata": {},
   "outputs": [
    {
     "ename": "KeyError",
     "evalue": "4",
     "output_type": "error",
     "traceback": [
      "\u001b[1;31m---------------------------------------------------------------------------\u001b[0m",
      "\u001b[1;31mKeyError\u001b[0m                                  Traceback (most recent call last)",
      "Cell \u001b[1;32mIn[19], line 4\u001b[0m\n\u001b[0;32m      1\u001b[0m \u001b[38;5;66;03m# Lets create an error to understand\u001b[39;00m\n\u001b[0;32m      2\u001b[0m my_set: \u001b[38;5;28mset\u001b[39m \u001b[38;5;241m=\u001b[39m {\u001b[38;5;241m1\u001b[39m,\u001b[38;5;241m2\u001b[39m,\u001b[38;5;241m3\u001b[39m}\n\u001b[1;32m----> 4\u001b[0m my_set\u001b[38;5;241m.\u001b[39mremove(\u001b[38;5;241m4\u001b[39m)\n\u001b[0;32m      5\u001b[0m \u001b[38;5;28mprint\u001b[39m(my_set)\n",
      "\u001b[1;31mKeyError\u001b[0m: 4"
     ]
    }
   ],
   "source": [
    "# Lets create an error to understand\n",
    "my_set: set = {1,2,3}\n",
    "\n",
    "my_set.remove(4)\n",
    "print(my_set)"
   ]
  },
  {
   "cell_type": "code",
   "execution_count": 25,
   "id": "7992f6b3",
   "metadata": {},
   "outputs": [
    {
     "name": "stdout",
     "output_type": "stream",
     "text": [
      "Before pop() =  {1, 2, 3}\n",
      "Before pop() =  {2, 3}\n"
     ]
    }
   ],
   "source": [
    "my_set: set = {1,2,3}\n",
    "print(\"Before pop() = \", my_set)\n",
    "\n",
    "#When you call `my_set.pop()`, it removes and returns an arbitrary element from the set.\n",
    "#Since sets are unordered data structures, the element that is removed and returned is not predictable.\n",
    "my_set.pop()\n",
    "print(\"Before pop() = \", my_set)"
   ]
  },
  {
   "cell_type": "code",
   "execution_count": 26,
   "id": "ab30c945",
   "metadata": {},
   "outputs": [
    {
     "name": "stdout",
     "output_type": "stream",
     "text": [
      "{1, 2, 3}\n"
     ]
    }
   ],
   "source": [
    "my_set = {1,2,3}\n",
    "\n",
    "my_set.discard(4) # method\n",
    "print(my_set)"
   ]
  },
  {
   "cell_type": "markdown",
   "id": "0c4c7e35",
   "metadata": {},
   "source": [
    "In summary:\n",
    "\n",
    "- Use remove() when you are sure that the item exists in the set and you want to handle the error if it does not exist.\n",
    "- Use discard() when you are not sure if the item exists in the set and you want to avoid raising an error if it does not exist.\n",
    "\n",
    "When to use each method:\n",
    "\n",
    "- remove():\n",
    "    - When working with small sets where performance is not a concern.\n",
    "    - When you need to handle the error if the item does not exist.\n",
    "\n",
    "- discard():\n",
    "    - When working with large sets where performance is a concern.\n",
    "    - When you do not care about handling the error if the item does not exist.\n",
    "    \n",
    "In general, if you are not sure which method to use, discard() is a safe choice as it does not raise an error if the item does not exist."
   ]
  },
  {
   "cell_type": "markdown",
   "id": "858bfd16",
   "metadata": {},
   "source": [
    "# Follow me on LinkedIn for more Tips and News! [Muhammad Shariq](https://www.linkedin.com/in/muhammad---shariq)"
   ]
  }
 ],
 "metadata": {
  "kernelspec": {
   "display_name": "base",
   "language": "python",
   "name": "python3"
  },
  "language_info": {
   "codemirror_mode": {
    "name": "ipython",
    "version": 3
   },
   "file_extension": ".py",
   "mimetype": "text/x-python",
   "name": "python",
   "nbconvert_exporter": "python",
   "pygments_lexer": "ipython3",
   "version": "3.12.7"
  }
 },
 "nbformat": 4,
 "nbformat_minor": 5
}
