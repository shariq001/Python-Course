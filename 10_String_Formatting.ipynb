{
 "cells": [
  {
   "cell_type": "markdown",
   "id": "910550b4",
   "metadata": {},
   "source": [
    "# Python Course | Muhammad Shariq"
   ]
  },
  {
   "cell_type": "markdown",
   "id": "5d2c3f16",
   "metadata": {},
   "source": [
    "## String Formatting\n",
    "Python provides several ways to format strings:\n",
    "1. % Operators:\n",
    "    - In Python, %s, %d, %c, %f are placeholders for values in a string. They are used with the % operator to insert values into a string.\n",
    "\n",
    "    - Note: The % operator is an older way of formatting strings in Python. The newer and more recommended way is to use the str.format() method or f-strings (introduced in Python 3.6).\n",
    "\n",
    "2. str.format()\n",
    "3. f-strings"
   ]
  },
  {
   "cell_type": "markdown",
   "id": "f6eec5fc",
   "metadata": {},
   "source": [
    "Placeholder | Meaning | Example\n",
    "----------- | ------- | -------\n",
    "%s | String | print(\"Hello, %s!\" % \"World\")  # Hello, World!\n",
    "%d | Integer | print(\"I am %d years old.\" % 20)\n",
    "%c | Character | print(\"First letter: %c\" % 'A')\n",
    "%f | Float | print(\"Value: %f\" % 3.14)\n",
    "%nf | Float with n decimal places | print(\"Rounded: %.2f\" % 3.14159)"
   ]
  }
 ],
 "metadata": {
  "language_info": {
   "name": "python"
  }
 },
 "nbformat": 4,
 "nbformat_minor": 5
}
