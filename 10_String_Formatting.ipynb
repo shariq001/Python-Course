{
 "cells": [
  {
   "cell_type": "markdown",
   "id": "910550b4",
   "metadata": {},
   "source": [
    "# Python Course | Muhammad Shariq"
   ]
  },
  {
   "cell_type": "markdown",
   "id": "5d2c3f16",
   "metadata": {},
   "source": [
    "## String Formatting\n",
    "Python provides several ways to format strings:\n",
    "1. % Operators:\n",
    "    - In Python, %s, %d, %c, %f are placeholders for values in a string. They are used with the % operator to insert values into a string.\n",
    "\n",
    "    - Note: The % operator is an older way of formatting strings in Python. The newer and more recommended way is to use the str.format() method or f-strings (introduced in Python 3.6).\n",
    "\n",
    "2. str.format()\n",
    "3. f-strings"
   ]
  },
  {
   "cell_type": "markdown",
   "id": "f6eec5fc",
   "metadata": {},
   "source": [
    "Placeholder | Meaning | Example\n",
    "----------- | ------- | -------\n",
    "%s | String | print(\"Hello, %s!\" % \"World\")  # Hello, World!\n",
    "%d | Integer | print(\"I am %d years old.\" % 20)\n",
    "%c | Character | print(\"First letter: %c\" % 'A')\n",
    "%f | Float | print(\"Value: %f\" % 3.14)\n",
    "%nf | Float with n decimal places | print(\"Rounded: %.2f\" % 3.14159)"
   ]
  },
  {
   "cell_type": "markdown",
   "id": "b7c0f38c",
   "metadata": {},
   "source": [
    "### % Operator"
   ]
  },
  {
   "cell_type": "code",
   "execution_count": 3,
   "id": "340c7bee",
   "metadata": {},
   "outputs": [
    {
     "name": "stdout",
     "output_type": "stream",
     "text": [
      "My name is John, \n",
      "first letter of my name is 'J', \n",
      "I am 20 years old and \n",
      "my weight id 70.532000 Kg.\n",
      "---\n",
      "My name is John, \n",
      "first letter of my name is 'J', \n",
      "I am 20 years old and \n",
      "my weight id 70.53 Kg.\n"
     ]
    }
   ],
   "source": [
    "name: str = 'John'\n",
    "age: int = 20\n",
    "first_letter: str = name[0]\n",
    "my_weight: float = 70.532000 # 70.536000\n",
    "\n",
    "#uncomment to see type\n",
    "#print(type((name, first_letter, age, my_weight)))\n",
    "\n",
    "# using % operator\n",
    "my_string: str = '''My name is %s, \n",
    "first letter of my name is \\'%c\\', \n",
    "I am %d years old and \n",
    "my weight id %f Kg.''' % (name, first_letter, age, my_weight)\n",
    "print(my_string)\n",
    "\n",
    "print(\"---\")\n",
    "\n",
    "my_string = '''My name is %s, \n",
    "first letter of my name is \\'%c\\', \n",
    "I am %d years old and \n",
    "my weight id %.2f Kg.''' % (name, first_letter, age, my_weight) # Dont forget period %.2f\n",
    "print(my_string)"
   ]
  },
  {
   "cell_type": "markdown",
   "id": "59b84e01",
   "metadata": {},
   "source": [
    "### Does Order Matter in String Formatting?\n",
    "Yes, order matters when using string formatting in Python, especially with the % operator, .format(), and f-strings (f\"\"). Let's break it down:"
   ]
  },
  {
   "cell_type": "code",
   "execution_count": null,
   "id": "29835f94",
   "metadata": {},
   "outputs": [],
   "source": [
    "# Error: TypeError: %d format: a real number is required, not str\n",
    "my_string: str = '''My name is %s, first letter of my name is \\'%c\\', I am %d years old and my weight id %f Kg.''' % (my_weight, age, name, first_letter)"
   ]
  },
  {
   "cell_type": "markdown",
   "id": "99628773",
   "metadata": {},
   "source": [
    "### str.format()"
   ]
  },
  {
   "cell_type": "code",
   "execution_count": 5,
   "id": "5eb7c2cb",
   "metadata": {},
   "outputs": [
    {
     "name": "stdout",
     "output_type": "stream",
     "text": [
      "Line 1:  My name is 18 and I am Muhammad Shariq years old.\n",
      "Line 2:  My name is Muhammad Shariq and I am 18 years old.\n"
     ]
    }
   ],
   "source": [
    "name : str = \"Muhammad Shariq\"\n",
    "age : int = 18\n",
    "\n",
    "# using str.format()\n",
    "my_string: str = \"My name is {} and I am {} years old.\".format(age, name) # order matters\n",
    "print(\"Line 1: \", my_string)\n",
    "\n",
    "my_string : str = \"My name is {1} and I am {0} years old.\".format(age, name) # using indexing\n",
    "print(\"Line 2: \", my_string)"
   ]
  },
  {
   "cell_type": "markdown",
   "id": "001740e8",
   "metadata": {},
   "source": [
    "### F-String"
   ]
  },
  {
   "cell_type": "code",
   "execution_count": 6,
   "id": "51965834",
   "metadata": {},
   "outputs": [
    {
     "name": "stdout",
     "output_type": "stream",
     "text": [
      "Line 1:  My name is Muhammad Shariq and I am 18 years old.\n"
     ]
    }
   ],
   "source": [
    "name : str = \"Muhammad Shariq\"\n",
    "age : int = 18\n",
    "\n",
    "my_string : str = f\"My name is {name} and I am {age} years old.\"\n",
    "print(\"Line 1: \", my_string)"
   ]
  },
  {
   "cell_type": "markdown",
   "id": "20155670",
   "metadata": {},
   "source": [
    "## Pool of String Literals in Python\n",
    "In Python, a pool of string literals is a mechanism used by the interpreter to manage memory allocation for string objects. When a string literal is encountered in the code, Python checks if an identical string already exists in memory. If it does, the new string is not created, and instead, a reference to the existing string is used.\n",
    "\n",
    "### How it Works\n",
    "When Python encounters a string literal, it checks the following:\n",
    "\n",
    "1. Interning: Python checks if the string is already interned, meaning it has been created and stored in memory before. If it is, Python returns a reference to the existing string.\n",
    "2. String Literal Pool: If the string is not interned, Python checks the string literal pool, which is a cache(Pronunciation: kash) of recently created strings. If the string is found in the pool, Python returns a reference to the existing string.\n",
    "3. Create New String: If the string is not found in the pool or interned, Python creates a new string object and stores it in memory.\n",
    "\n",
    "### Benefits\n",
    "The pool of string literals provides several benefits:\n",
    "\n",
    "- Memory Efficiency: By reusing existing strings, Python reduces memory allocation and deallocation overhead.\n",
    "- Performance: Looking up strings in the pool is faster than creating new strings.\n",
    "- Internalization: The pool helps to internalize strings, making them more efficient to use in comparisons and other operations."
   ]
  },
  {
   "cell_type": "code",
   "execution_count": 7,
   "id": "0541b6e2",
   "metadata": {},
   "outputs": [
    {
     "name": "stdout",
     "output_type": "stream",
     "text": [
      "2029717759984\n",
      "2029717759984\n"
     ]
    }
   ],
   "source": [
    "a: str = \"hello\"\n",
    "b: str = \"hello\"\n",
    "\n",
    "#Both variable a and b have same id.\n",
    "print(id(a))\n",
    "print(id(b))"
   ]
  },
  {
   "cell_type": "code",
   "execution_count": 8,
   "id": "bad322e3",
   "metadata": {},
   "outputs": [
    {
     "name": "stdout",
     "output_type": "stream",
     "text": [
      "2029717759984\n"
     ]
    }
   ],
   "source": [
    "c: str = a +\"\" # Nothing happen because we are appending a empty string.\n",
    "print(id(c))"
   ]
  },
  {
   "cell_type": "code",
   "execution_count": 9,
   "id": "6e335dee",
   "metadata": {},
   "outputs": [
    {
     "name": "stdout",
     "output_type": "stream",
     "text": [
      "2029741783776\n"
     ]
    }
   ],
   "source": [
    "c: str = a +\" \" # A new string object is created in the pool.\n",
    "print(id(c))"
   ]
  },
  {
   "cell_type": "markdown",
   "id": "eedbce91",
   "metadata": {},
   "source": [
    "# Follow me on LinkedIn for more Tips and News! [Muhammad Shariq](https://www.linkedin.com/in/muhammad---shariq)"
   ]
  }
 ],
 "metadata": {
  "kernelspec": {
   "display_name": "base",
   "language": "python",
   "name": "python3"
  },
  "language_info": {
   "codemirror_mode": {
    "name": "ipython",
    "version": 3
   },
   "file_extension": ".py",
   "mimetype": "text/x-python",
   "name": "python",
   "nbconvert_exporter": "python",
   "pygments_lexer": "ipython3",
   "version": "3.12.7"
  }
 },
 "nbformat": 4,
 "nbformat_minor": 5
}
