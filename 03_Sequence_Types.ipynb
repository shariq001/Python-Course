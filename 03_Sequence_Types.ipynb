{
 "cells": [
  {
   "cell_type": "markdown",
   "id": "43c1aee1",
   "metadata": {},
   "source": [
    "# Python Course | Muhammad Shariq"
   ]
  },
  {
   "cell_type": "markdown",
   "id": "fc35ddb6",
   "metadata": {},
   "source": [
    "## Sequence Types\n",
    "These store multiple items in an ordered way."
   ]
  },
  {
   "cell_type": "markdown",
   "id": "8a38370a",
   "metadata": {},
   "source": [
    "### a. String (str)\n",
    "A sequence of characters enclosed in quotes."
   ]
  },
  {
   "cell_type": "code",
   "execution_count": 1,
   "id": "c8c234e1",
   "metadata": {},
   "outputs": [
    {
     "name": "stdout",
     "output_type": "stream",
     "text": [
      "<class 'str'> Text with double quotes:  Hello, Python\n",
      "<class 'str'> Text with single quotes:  Hello, Python\n",
      "<class 'str'> Multi Line Text with double quotes:  Hello, \n",
      "Python\n",
      "<class 'str'> Multi Line Text with single quotes:  Hello, \n",
      "Python\n"
     ]
    }
   ],
   "source": [
    "text_double: str = \"Hello, Python\" # Strings with double quotes\n",
    "text_single: str = 'Hello, Python' # Strings with single quotes\n",
    "text_multi_double: str = \"\"\"Hello, \n",
    "Python\"\"\" # Multi-line strings with double quotes\n",
    "text_multi_single: str = '''Hello, \n",
    "Python''' # Multi-line strings with single quotes\n",
    "\n",
    "print(type(text_double), \"Text with double quotes: \", text_double)\n",
    "print(type(text_single), \"Text with single quotes: \", text_single)\n",
    "print(type(text_multi_double), \"Multi Line Text with double quotes: \", text_multi_double)\n",
    "print(type(text_multi_single), \"Multi Line Text with single quotes: \", text_multi_single)\n"
   ]
  },
  {
   "cell_type": "markdown",
   "id": "bec8f177",
   "metadata": {},
   "source": [
    "#### Key Takeaways\n",
    "- Double Quotes (\"): Use when the string contains single quotes.\n",
    "- Single Quotes ('): Use when the string contains double quotes.\n",
    "- Triple Quotes (''' or \"\"\"): Use for multi-line strings or docstrings."
   ]
  },
  {
   "cell_type": "markdown",
   "id": "f68944af",
   "metadata": {},
   "source": [
    "### b. List (list)\n",
    "An ordered, mutable (changeable) collection."
   ]
  },
  {
   "cell_type": "code",
   "execution_count": 1,
   "id": "c3421e3c",
   "metadata": {},
   "outputs": [
    {
     "name": "stdout",
     "output_type": "stream",
     "text": [
      "<class 'list'> List:  [1, 'Muhammad Shariq', 2.5, True]\n"
     ]
    }
   ],
   "source": [
    "list1: list = [1, \"Muhammad Shariq\", 2.5, True]\n",
    "\n",
    "print(type(list1), \"List: \", list1)"
   ]
  },
  {
   "cell_type": "markdown",
   "id": "5a35d681",
   "metadata": {},
   "source": [
    "### c. Tuple (tuple)\n",
    "An ordered, immutable(not changeable), collection."
   ]
  },
  {
   "cell_type": "code",
   "execution_count": 2,
   "id": "210f4ac2",
   "metadata": {},
   "outputs": [
    {
     "name": "stdout",
     "output_type": "stream",
     "text": [
      "<class 'tuple'> Tuple:  (1, 'Muhammad Shariq', 2.6, True)\n"
     ]
    }
   ],
   "source": [
    "tuple1: tuple = (1, \"Muhammad Shariq\", 2.6, True)\n",
    "\n",
    "print(type(tuple1), \"Tuple: \", tuple1)"
   ]
  },
  {
   "cell_type": "markdown",
   "id": "522ef075",
   "metadata": {},
   "source": [
    "### d. Range (range)\n",
    "Represents a sequence of numbers."
   ]
  },
  {
   "cell_type": "code",
   "execution_count": 6,
   "id": "2fba8469",
   "metadata": {},
   "outputs": [
    {
     "name": "stdout",
     "output_type": "stream",
     "text": [
      "<class 'range'> Range:  range(1, 10, 2)\n",
      "2\n",
      "1\n",
      "3\n",
      "5\n",
      "7\n",
      "9\n"
     ]
    }
   ],
   "source": [
    "range1: range = range(1, 10, 2) #range(start, stop, step)\n",
    "\n",
    "print(type(range1), \"Range: \", range1)\n",
    "\n",
    "# Printing the step one\n",
    "print(range1.step)\n",
    "\n",
    "# Using it in loop\n",
    "for i in range(1, 10, 2): # start loop from 1 to 10 steps 2 divisibles\n",
    "    print(i)"
   ]
  },
  {
   "cell_type": "markdown",
   "id": "cbde4c4e",
   "metadata": {},
   "source": [
    "## Set Types\n",
    "Unordered collections with unique elements"
   ]
  },
  {
   "cell_type": "markdown",
   "id": "098b912a",
   "metadata": {},
   "source": [
    "### a. Set (set)\n",
    "Mutable, unordered (printed in any order), contains unique value"
   ]
  },
  {
   "cell_type": "code",
   "execution_count": 7,
   "id": "c135d84b",
   "metadata": {},
   "outputs": [
    {
     "name": "stdout",
     "output_type": "stream",
     "text": [
      "<class 'set'> Set:  {1, 2, 5, 33}\n"
     ]
    }
   ],
   "source": [
    "set1: set = {1, 2, 33, 2, 5}\n",
    "\n",
    "print(type(set1), \"Set: \", set1) # set will remove duplicates"
   ]
  },
  {
   "cell_type": "markdown",
   "id": "5332fa47",
   "metadata": {},
   "source": [
    "### b. Frozen Set (frozenset)\n",
    "Immutable version of a set"
   ]
  },
  {
   "cell_type": "code",
   "execution_count": 8,
   "id": "df9a433c",
   "metadata": {},
   "outputs": [
    {
     "name": "stdout",
     "output_type": "stream",
     "text": [
      "<class 'frozenset'> frozenset:  frozenset({1, 11, 5, 9})\n"
     ]
    }
   ],
   "source": [
    "frozenset1: frozenset = frozenset([1, 5, 9, 11])\n",
    "\n",
    "print(type(frozenset1), \"frozenset: \", frozenset1)"
   ]
  },
  {
   "cell_type": "markdown",
   "id": "75e7e504",
   "metadata": {},
   "source": [
    "## Mapping Type\n",
    "Dictionary (dict) Stores key-value pairs."
   ]
  },
  {
   "cell_type": "code",
   "execution_count": 9,
   "id": "87881fec",
   "metadata": {},
   "outputs": [
    {
     "name": "stdout",
     "output_type": "stream",
     "text": [
      "<class 'dict'> Dictionary:  {'name': 'Muhammad Shariq', 'age': 18, 'is_Married': False}\n"
     ]
    }
   ],
   "source": [
    "dictionary1: dict = {\"name\": \"Muhammad Shariq\", \"age\": 18, \"is_Married\": False}\n",
    "\n",
    "print(type(dictionary1), \"Dictionary: \", dictionary1)"
   ]
  },
  {
   "cell_type": "markdown",
   "id": "7d5db92f",
   "metadata": {},
   "source": [
    "## Binary Types\n",
    "Used to handle binary data, such as bytes, binary files or data exchanged over networks. \n",
    "\n"
   ]
  },
  {
   "cell_type": "markdown",
   "id": "f7c99aa7",
   "metadata": {},
   "source": [
    "### a. Bytes (bytes)\n",
    "An immutable sequence of bytes\n",
    "\n",
    "In Python, bytes is a data type used to store binary data (like files, images, or network data).\n",
    "\n",
    "It's like a string, but instead of letters, it holds numbers from 0 to 255.\n",
    "\n",
    "Used to represent binary data, such as byte sequencys coming from files, network communications or raw data.\n",
    "\n",
    "- A bytes object is immutable, meaning you cannot modify its content after creation.\n",
    "- It is often used when you need to work with fixed binary data.\n",
    "- Literal syntax: b\"...\" or b'...'."
   ]
  },
  {
   "cell_type": "code",
   "execution_count": 10,
   "id": "5e16871a",
   "metadata": {},
   "outputs": [
    {
     "name": "stdout",
     "output_type": "stream",
     "text": [
      "<class 'bytes'> Bytes:  b'Hello World'\n"
     ]
    }
   ],
   "source": [
    "bytes1: bytes = b\"Hello World\"\n",
    "\n",
    "print(type(bytes1), \"Bytes: \", bytes1)"
   ]
  },
  {
   "cell_type": "markdown",
   "id": "444cbbbb",
   "metadata": {},
   "source": [
    "### b. Bytearray (bytearray)\n",
    "A mutable sequence of bytes.\n",
    "\n",
    "In Python, bytearray is like bytes but changeable (mutable).\n",
    "\n",
    "You can edit the data inside a bytearray, but you can't with bytes.\n",
    "\n",
    "- You can modify the content of a bytearray object in place.\n",
    "- Suitable for cases where you need to update or manipulate binary data frequently.\n",
    "- Literal syntax: Does not have direct literal syntax (must use bytearray() constructor)."
   ]
  },
  {
   "cell_type": "code",
   "execution_count": 12,
   "id": "6feea6d2",
   "metadata": {},
   "outputs": [
    {
     "name": "stdout",
     "output_type": "stream",
     "text": [
      "bytearray(b'Hello')\n"
     ]
    }
   ],
   "source": [
    "b = bytearray(b'hello')\n",
    "b[0] = 72  # changes 'h' to 'H'\n",
    "print(b)  # output: bytearray(b'Hello')"
   ]
  }
 ],
 "metadata": {
  "kernelspec": {
   "display_name": "base",
   "language": "python",
   "name": "python3"
  },
  "language_info": {
   "codemirror_mode": {
    "name": "ipython",
    "version": 3
   },
   "file_extension": ".py",
   "mimetype": "text/x-python",
   "name": "python",
   "nbconvert_exporter": "python",
   "pygments_lexer": "ipython3",
   "version": "3.12.7"
  }
 },
 "nbformat": 4,
 "nbformat_minor": 5
}
