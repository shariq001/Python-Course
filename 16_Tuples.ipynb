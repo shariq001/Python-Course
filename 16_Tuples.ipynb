{
 "cells": [
  {
   "cell_type": "markdown",
   "id": "7239c6f3",
   "metadata": {},
   "source": [
    "# Python Course | Muhammad Shariq"
   ]
  },
  {
   "cell_type": "markdown",
   "id": "b78a0919",
   "metadata": {},
   "source": [
    "## Tuple\n",
    "A tuple is an ordered, immutable (unchangeable) sequence of elements. Tuples are useful for fixed data collections.\n",
    "\n",
    "In Python, a tuple is an immutable data type. This means that once a tuple is created, its elements cannot be changed, added, or removed.\n",
    "\n",
    "### 1. Cannot Modify Elements:\n",
    "- Once a tuple is created, you cannot change its elements.\n",
    "### 2. Cannot Add or Remove Elements:\n",
    "- You cannot add new elements to a tuple or remove existing ones.\n",
    "\n",
    "### Why Use Tuples?\n",
    "1. Immutable: Since tuples cannot be changed, they are safer to use when you want to ensure that the data remains constant.\n",
    "\n",
    "2. Hashable: Tuples can be used as keys in dictionaries because they are immutable.\n",
    "\n",
    "3. Performance: Tuples are generally faster than lists because of their immutability.\n",
    "\n",
    "### When to Use Tuples vs Lists\n",
    "- Use tuples when you want to store data that should not change (e.g., coordinates, constants).\n",
    "\n",
    "- Use lists when you need a collection that can be modified (e.g., adding or removing elements)."
   ]
  },
  {
   "cell_type": "code",
   "execution_count": 1,
   "id": "b149563d",
   "metadata": {},
   "outputs": [
    {
     "name": "stdout",
     "output_type": "stream",
     "text": [
      "tuple1      = ('apple', 'banana', 'cherry')\n",
      "tuple2      = (10, 20, 30)\n",
      "mixed_tuple = ('hello', 42, 3.14, True)\n"
     ]
    }
   ],
   "source": [
    "tuple1: tuple = tuple([\"apple\", \"banana\", \"cherry\"]) # cast a list into tuple\n",
    "tuple2: tuple = (10, 20, 30) # tuple\n",
    "mixed_tuple: tuple = (\"hello\", 42, 3.14, True) # tuple\n",
    "\n",
    "print(\"tuple1      =\", tuple1)\n",
    "print(\"tuple2      =\", tuple2)\n",
    "print(\"mixed_tuple =\", mixed_tuple)"
   ]
  },
  {
   "cell_type": "markdown",
   "id": "d0217988",
   "metadata": {},
   "source": [
    "Even though tuples are immutable, Python may create new instances in memory when you define identical tuples in separate assignments. This is why id(tuple_1) and id(tuple_2) may differ."
   ]
  },
  {
   "cell_type": "code",
   "execution_count": null,
   "id": "2cfb55a7",
   "metadata": {},
   "outputs": [
    {
     "name": "stdout",
     "output_type": "stream",
     "text": [
      "id(tuple_1) =  2457505358144\n",
      "id(tuple_2) =  2457505286016\n",
      "False\n",
      "tuple_1 == tuple_2 =  True\n"
     ]
    }
   ],
   "source": [
    "tuple_1: tuple = (10, 20, 30) # tuple\n",
    "tuple_2: tuple = (10, 20, 30) # tuple\n",
    "\n",
    "print(\"id(tuple_1) = \", id(tuple_1)) # unique memory address\n",
    "print(\"id(tuple_2) = \", id(tuple_2)) # unique memory address\n",
    "\n",
    "print(tuple_1 is tuple_2) # False\n",
    "\n",
    "print(\"tuple_1 == tuple_2 = \", tuple_1 == tuple_2) # comparing by value"
   ]
  },
  {
   "cell_type": "markdown",
   "id": "bedfb8a9",
   "metadata": {},
   "source": [
    "### Why are Tuples Immutable?\n",
    "\n",
    "There are several reasons why tuples are immutable:\n",
    "\n",
    "1. Memory Efficiency: Immutable tuples can be stored in a single block of memory, which makes them more memory-efficient than lists.\n",
    "2. Thread Safety: Immutable tuples are thread-safe, meaning that they can be safely accessed and shared between multiple threads without fear of modification.\n",
    "3. Hashability: Immutable tuples are hashable, meaning that they can be used as keys in dictionaries."
   ]
  },
  {
   "cell_type": "code",
   "execution_count": 4,
   "id": "396bf12b",
   "metadata": {},
   "outputs": [
    {
     "name": "stdout",
     "output_type": "stream",
     "text": [
      "tuple1[0] = apple\n",
      "------------\n",
      "tuple2[1:] = (20, 30)\n",
      "------------\n",
      "Length of tuple1: 3\n",
      "------------\n",
      "Iterating through tuple2:\n",
      "10\n",
      "20\n",
      "30\n",
      "------------\n",
      "Is 20 in tuple2? True\n",
      "------------\n",
      "tuple1 + tuple2 = ('apple', 'banana', 'cherry', 10, 20, 30)\n",
      "------------\n",
      "tuple2 * 2 = (10, 20, 30, 10, 20, 30)\n",
      "------------\n",
      "nested_tuple = (('apple', 'banana', 'cherry'), (10, 20, 30))\n",
      "------------\n",
      "Unpacking tuple1: apple banana cherry\n",
      "------------\n",
      "90\n"
     ]
    }
   ],
   "source": [
    "# Creating a Tuple\n",
    "tuple1: tuple      = tuple([\"apple\", \"banana\", \"cherry\"])  # cast a list into tuple\n",
    "tuple2: tuple      = (10, 20, 30)  # tuple\n",
    "mixed_tuple: tuple = (\"hello\", 42, 3.14, True)  # tuple\n",
    "\n",
    "# Accessing elements in a tuple\n",
    "print(\"tuple1[0] =\", tuple1[0])  # Accessing first element\n",
    "\n",
    "print(\"------------\")\n",
    "\n",
    "# Tuple slicing\n",
    "print(\"tuple2[1:] =\", tuple2[1:])  # Slicing from index 1\n",
    "\n",
    "print(\"------------\")\n",
    "\n",
    "# Tuple length\n",
    "print(\"Length of tuple1:\", len(tuple1))\n",
    "\n",
    "print(\"------------\")\n",
    "\n",
    "# Iterating through a tuple\n",
    "print(\"Iterating through tuple2:\")\n",
    "for item in tuple2:\n",
    "  print(item)\n",
    "  \n",
    "print(\"------------\")\n",
    "\n",
    "# Checking if an item exists in a tuple\n",
    "print(\"Is 20 in tuple2?\", 20 in tuple2)\n",
    "\n",
    "print(\"------------\")\n",
    "\n",
    "# Concatenating tuples\n",
    "tuple3: tuple = tuple1 + tuple2\n",
    "print(\"tuple1 + tuple2 =\", tuple3)\n",
    "\n",
    "print(\"------------\")\n",
    "\n",
    "# Repeating tuples\n",
    "tuple4: tuple = tuple2 * 2\n",
    "print(\"tuple2 * 2 =\", tuple4)\n",
    "\n",
    "print(\"------------\")\n",
    "\n",
    "# Nested tuples\n",
    "nested_tuple = (tuple1, tuple2)\n",
    "print(\"nested_tuple =\", nested_tuple)\n",
    "\n",
    "print(\"------------\")\n",
    "\n",
    "# Unpacking tuples\n",
    "a, b, c = tuple1\n",
    "print(\"Unpacking tuple1:\", a, b, c)\n",
    "\n",
    "print(\"------------\")\n",
    "\n",
    "# Using tuples as keys in dictionaries (because they are immutable)\n",
    "# Using a tuple as a key\n",
    "student_scores = {\n",
    "    (\"Ali\", \"Math\"): 85,\n",
    "    (\"Ali\", \"Science\"): 90,\n",
    "    (\"Sara\", \"Math\"): 95\n",
    "}\n",
    "\n",
    "# Accessing a value using the tuple key\n",
    "print(student_scores[(\"Ali\", \"Science\")])  # Output: 90"
   ]
  },
  {
   "cell_type": "code",
   "execution_count": 5,
   "id": "e491606c",
   "metadata": {},
   "outputs": [
    {
     "name": "stdout",
     "output_type": "stream",
     "text": [
      "apple\n",
      "apple\n",
      "1\n",
      "0\n"
     ]
    }
   ],
   "source": [
    "print(tuple1[0])   # Output: apple\n",
    "print(tuple1[-3])  # Output: apple\n",
    "print(tuple1.count(\"apple\"))\n",
    "print(tuple1.index(\"apple\"))\n",
    "\n",
    "#error\n",
    "#tuple1.sort()\n",
    "#tuple1.reverse()\n",
    "#tuple1.append(\"mango\")\n",
    "#tuple1.extend([\"grape\", \"kiwi\"])\n",
    "#tuple1.remove(\"banana\")\n",
    "#deleted = tuple1.pop(1)"
   ]
  },
  {
   "cell_type": "code",
   "execution_count": 10,
   "id": "8e2e676f",
   "metadata": {},
   "outputs": [
    {
     "data": {
      "text/plain": [
       "['count', 'index']"
      ]
     },
     "execution_count": 10,
     "metadata": {},
     "output_type": "execute_result"
    }
   ],
   "source": [
    "# Printing List of methods and attributes of tuple (No Dunders)\n",
    "\n",
    "# Get a list of all attributes and methods of a tuple\n",
    "tuple_methods: list = [method for method in dir(tuple) if not method.startswith('__')]\n",
    "\n",
    "# Print the list of methods (excluding dunder methods)\n",
    "tuple_methods"
   ]
  },
  {
   "cell_type": "code",
   "execution_count": 11,
   "id": "8ec4bbd8",
   "metadata": {},
   "outputs": [
    {
     "name": "stdout",
     "output_type": "stream",
     "text": [
      "1\n",
      "0\n",
      "('count', 'index')\n"
     ]
    }
   ],
   "source": [
    "# prompt: generate a example of ['count', 'index'] in tuple\n",
    "\n",
    "tuple1: tuple = tuple([\"apple\", \"banana\", \"cherry\"])\n",
    "print(tuple1.count(\"apple\"))  # Output: 1\n",
    "print(tuple1.index(\"apple\"))  # Output: 0\n",
    "example_tuple: tuple = ('count', 'index')\n",
    "print(example_tuple) # Output: ('count', 'index')"
   ]
  },
  {
   "cell_type": "markdown",
   "id": "d7e1dcb9",
   "metadata": {},
   "source": [
    "# Follow me on LinkedIn for more Tips and News! [Muhammad Shariq](https://www.linkedin.com/in/muhammad---shariq)"
   ]
  }
 ],
 "metadata": {
  "kernelspec": {
   "display_name": "base",
   "language": "python",
   "name": "python3"
  },
  "language_info": {
   "codemirror_mode": {
    "name": "ipython",
    "version": 3
   },
   "file_extension": ".py",
   "mimetype": "text/x-python",
   "name": "python",
   "nbconvert_exporter": "python",
   "pygments_lexer": "ipython3",
   "version": "3.12.7"
  }
 },
 "nbformat": 4,
 "nbformat_minor": 5
}
