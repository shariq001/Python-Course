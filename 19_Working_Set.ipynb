{
 "cells": [
  {
   "cell_type": "markdown",
   "id": "262379a5",
   "metadata": {},
   "source": [
    "# Python Course | Muhammad Shariq"
   ]
  },
  {
   "cell_type": "markdown",
   "id": "a483a3aa",
   "metadata": {},
   "source": [
    "## Working of Set\n",
    "### The Hashing\n",
    "- Hashing is a mechanism in computer science which enables quicker searching of objects in computer's memory. Only immutable objects are hashable.\n",
    "\n",
    "- Immutable data types in Python come with a built-in method for computing their hash value, which is called hash.\n",
    "\n",
    "- A hash table is a data structure that can map keys to values and that implements a hash function to compute the index to an array of buckets or slots"
   ]
  },
  {
   "cell_type": "code",
   "execution_count": 1,
   "id": "e4f6dc7c",
   "metadata": {},
   "outputs": [
    {
     "name": "stdout",
     "output_type": "stream",
     "text": [
      "id(a) =  1929551404912\n",
      "id(b) =  1929552740208\n"
     ]
    }
   ],
   "source": [
    "a: str = \"Hello! World\"\n",
    "b: str = \"Hello! World\"\n",
    "\n",
    "print(\"id(a) = \", id(a))\n",
    "print(\"id(b) = \", id(b))"
   ]
  },
  {
   "cell_type": "code",
   "execution_count": 2,
   "id": "66ed0ec1",
   "metadata": {},
   "outputs": [
    {
     "name": "stdout",
     "output_type": "stream",
     "text": [
      "hash(a) =  -2471038128544112128\n",
      "hash(b) =  -2471038128544112128\n",
      "-----------\n",
      "hash(a)      =  -2471038128544112128\n",
      "a.__hash__() =  -2471038128544112128\n"
     ]
    }
   ],
   "source": [
    "print(\"hash(a) = \", hash(a))\n",
    "print(\"hash(b) = \", hash(b))\n",
    "print(\"-----------\")\n",
    "print(\"hash(a)      = \",hash(a))\n",
    "print(\"a.__hash__() = \", a.__hash__()) # __dunder__()"
   ]
  },
  {
   "cell_type": "markdown",
   "id": "206fa354",
   "metadata": {},
   "source": [
    "#### Important Note:\n",
    "- Even if a set only allows immutable items, the set itself is mutable. Hence, add/delete/update operations are permitted on a set object\n",
    "\n",
    "- In Python, a dictionary key must be an immutable object, meaning its value cannot be changed after it's created. This is because dictionaries use a hash table to store key-value pairs, and mutable objects cannot be hashed.\n",
    "\n",
    "- Lets pass the set as key in dictionary which only accept immutable item as a key."
   ]
  },
  {
   "cell_type": "code",
   "execution_count": 3,
   "id": "ea582414",
   "metadata": {},
   "outputs": [
    {
     "ename": "TypeError",
     "evalue": "unhashable type: 'set'",
     "output_type": "error",
     "traceback": [
      "\u001b[1;31m---------------------------------------------------------------------------\u001b[0m",
      "\u001b[1;31mTypeError\u001b[0m                                 Traceback (most recent call last)",
      "Cell \u001b[1;32mIn[3], line 3\u001b[0m\n\u001b[0;32m      1\u001b[0m \u001b[38;5;66;03m# TypeError: unhashable type: 'set'\u001b[39;00m\n\u001b[0;32m      2\u001b[0m my_set: \u001b[38;5;28mset\u001b[39m   \u001b[38;5;241m=\u001b[39m {\u001b[38;5;241m1\u001b[39m,\u001b[38;5;241m2\u001b[39m,\u001b[38;5;241m3\u001b[39m,\u001b[38;5;241m4\u001b[39m,\u001b[38;5;241m5\u001b[39m, \u001b[38;5;124m\"\u001b[39m\u001b[38;5;124mHello! World\u001b[39m\u001b[38;5;124m\"\u001b[39m}\n\u001b[1;32m----> 3\u001b[0m my_dict: \u001b[38;5;28mdict\u001b[39m \u001b[38;5;241m=\u001b[39m {my_set: \u001b[38;5;124m\"\u001b[39m\u001b[38;5;124mHello! World\u001b[39m\u001b[38;5;124m\"\u001b[39m} \u001b[38;5;66;03m# dictionary only accept immutable objects as a key\u001b[39;00m\n\u001b[0;32m      4\u001b[0m \u001b[38;5;28mprint\u001b[39m(my_dict)\n",
      "\u001b[1;31mTypeError\u001b[0m: unhashable type: 'set'"
     ]
    }
   ],
   "source": [
    "# TypeError: unhashable type: 'set'\n",
    "my_set: set   = {1,2,3,4,5, \"Hello! World\"}\n",
    "my_dict: dict = {my_set: \"Hello! World\"} # dictionary only accept immutable objects as a key\n",
    "print(my_dict)\n"
   ]
  },
  {
   "cell_type": "markdown",
   "id": "e4822757",
   "metadata": {},
   "source": [
    "### Hash\n",
    "A hash in Python is a number that represents the value of an object. It's used to store and find data quickly in sets and dictionaries."
   ]
  },
  {
   "cell_type": "markdown",
   "id": "ca5ec39d",
   "metadata": {},
   "source": [
    "### What is a Hash Table?\n",
    "A hash table is a special data structure that stores values using a key (in the case of a set, the value itself is used as the key). It uses a function called a hash function to convert the value into a number (hash), which decides where in memory the value is stored."
   ]
  },
  {
   "cell_type": "markdown",
   "id": "2e02012b",
   "metadata": {},
   "source": [
    "### How Sets Use Hash Tables\n",
    "In a Python set:\n",
    "\n",
    "- Each item is hashed (converted to a number).\n",
    "\n",
    "- That number tells Python where to store the item in memory.\n",
    "\n",
    "- This makes operations like add, remove, and check if item exists very fast — usually O(1) time.\n",
    "\n"
   ]
  },
  {
   "cell_type": "markdown",
   "id": "39019d10",
   "metadata": {},
   "source": [
    "### Why Is the Order Unpredictable?\n",
    "Because:\n",
    "\n",
    "1. Hash values decide positions in memory, not the order you add them in.\n",
    "\n",
    "2. Different runs of Python may assign different hash values.\n",
    "\n",
    "3. So when you print a set, the items may appear in a random-looking order."
   ]
  },
  {
   "cell_type": "markdown",
   "id": "280b4724",
   "metadata": {},
   "source": [
    "### O(1) average-time complexity\n",
    "Time complexity means how long an operation takes as the amount of data grows.\n",
    "\n",
    "O(1) means the operation takes the same amount of time, no matter how big the data is.\n",
    "\n",
    "So, even if a set has 10 items or 10,000 items, checking if something is in the set takes about the same time — that's constant time.\n",
    "\n",
    "Input size just means how much data the code is working with."
   ]
  },
  {
   "cell_type": "markdown",
   "id": "1f688c92",
   "metadata": {},
   "source": [
    "### Example\n",
    "O(1) is like: You know exactly where your favorite toy car is in the box. No matter how many other toys are in the box (10 toys or 100 toys), it always takes you the same amount of time to grab that specific car because you know exactly where it is. It doesn't take longer even if you have more toys. It's super fast and consistent!"
   ]
  },
  {
   "cell_type": "markdown",
   "id": "55aeb116",
   "metadata": {},
   "source": [
    "### Key Points About Hashing in Sets:\n",
    "1. Each element in a set is hashed to determine its storage position.\n",
    "\n",
    "2. The internal order is based on hash values, not insertion order.\n",
    "\n",
    "3. The order can change dynamically when elements are added or removed."
   ]
  },
  {
   "cell_type": "markdown",
   "id": "02d8e7a9",
   "metadata": {},
   "source": [
    "### Rehashing\n",
    "Rehashing means recalculating hash values and rebuilding the hash table when it gets too full.\n",
    "\n",
    "In simple words:\n",
    "- When a set or dictionary grows too big,\n",
    "\n",
    "- Python makes a bigger table,\n",
    "\n",
    "- And moves all items to new positions using new hash values.\n",
    "\n",
    "This keeps lookups fast even with lots of data."
   ]
  },
  {
   "cell_type": "code",
   "execution_count": 4,
   "id": "6a3f5693",
   "metadata": {},
   "outputs": [
    {
     "name": "stdout",
     "output_type": "stream",
     "text": [
      "{8, 10, 3, 5}\n",
      "{3, 5, 8, 10, 20}\n",
      "{3, 5, 8, 20}\n"
     ]
    }
   ],
   "source": [
    "# Initial set\n",
    "my_set = {10, 3, 5, 8}\n",
    "print(my_set)  # Output may be {8, 10, 3, 5} or another order\n",
    "\n",
    "# Adding an element\n",
    "my_set.add(20)\n",
    "print(my_set)  # The order might change unpredictably\n",
    "\n",
    "# Removing an element\n",
    "my_set.remove(10)\n",
    "print(my_set)  # Again, the order can change"
   ]
  },
  {
   "cell_type": "markdown",
   "id": "64e42ed1",
   "metadata": {},
   "source": [
    "### Why Does the Order Change?\n",
    "- New elements may trigger rehashing, leading to reallocation of storage.\n",
    "\n",
    "- Removing an element can also affect the layout, especially if rehashing is triggered due to shrinking.\n",
    "\n",
    "### Does This Mean Sets Are Ordered Internally?\n",
    "No!\n",
    "\n",
    "Even though elements are stored based on their hash values, this does not mean sets are ordered in the way lists or tuples are. Order can change unexpectedly, so it’s unreliable for ordered operations like indexing."
   ]
  },
  {
   "cell_type": "markdown",
   "id": "b0c06bcb",
   "metadata": {},
   "source": [
    "### Conclusion\n",
    "- Hashing determines where elements are stored, but this structure is not stable across operations.\n",
    "\n",
    "- Adding or removing elements can trigger rehashing, which causes internal storage reallocation and an unpredictable order."
   ]
  },
  {
   "cell_type": "markdown",
   "id": "7d9ae75b",
   "metadata": {},
   "source": [
    "# Follow me on LinkedIn for more Tips and News! [Muhammad Shariq](https://www.linkedin.com/in/muhammad---shariq)"
   ]
  }
 ],
 "metadata": {
  "kernelspec": {
   "display_name": "base",
   "language": "python",
   "name": "python3"
  },
  "language_info": {
   "codemirror_mode": {
    "name": "ipython",
    "version": 3
   },
   "file_extension": ".py",
   "mimetype": "text/x-python",
   "name": "python",
   "nbconvert_exporter": "python",
   "pygments_lexer": "ipython3",
   "version": "3.12.7"
  }
 },
 "nbformat": 4,
 "nbformat_minor": 5
}
