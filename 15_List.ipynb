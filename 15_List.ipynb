{
 "cells": [
  {
   "cell_type": "markdown",
   "id": "7911fa12",
   "metadata": {},
   "source": [
    "# **Python Course | Muhammad Shariq**"
   ]
  },
  {
   "cell_type": "markdown",
   "id": "b95c00e7",
   "metadata": {},
   "source": [
    "## Lists\n",
    "1. Ordered: Lists are ordered, meaning that the items in the list have a specific order and can be accessed by their index.\n",
    "2. Mutable: Lists are mutable, meaning that they can be modified after they are created.\n",
    "3. Indexed: Lists are indexed, meaning that each item in the list has a specific index that can be used to access it.\n",
    "4. Dynamic size: Lists can grow or shrink dynamically as elements are added or removed.\n",
    "5. Heterogeneous: Lists can contain elements of different data types, such as integers, strings, floats, and other lists.\n",
    "6. Supports duplicate values: Lists can contain duplicate values."
   ]
  },
  {
   "cell_type": "code",
   "execution_count": 2,
   "id": "0fb39bc3",
   "metadata": {},
   "outputs": [
    {
     "name": "stdout",
     "output_type": "stream",
     "text": [
      "fruits  =  ['apple', 'banana', 'cherry']\n",
      "numbers =  [10, 20, 30, 40]\n",
      "mixed   =  ['hello', 42, 3.14, True]\n"
     ]
    }
   ],
   "source": [
    "# Creating lists with different data types\n",
    "fruits: list  = [\"apple\", \"banana\", \"cherry\"]\n",
    "numbers: list = [10, 20, 30, 40]\n",
    "mixed: list   = [\"hello\", 42, 3.14, True]\n",
    "\n",
    "print(\"fruits  = \", fruits)\n",
    "print(\"numbers = \", numbers)\n",
    "print(\"mixed   = \", mixed)"
   ]
  },
  {
   "cell_type": "markdown",
   "id": "4d50684b",
   "metadata": {},
   "source": [
    "You can access elements using indexing (starting from 0) and negative indexing (starting from -1)."
   ]
  },
  {
   "cell_type": "code",
   "execution_count": 3,
   "id": "a98bf550",
   "metadata": {},
   "outputs": [
    {
     "name": "stdout",
     "output_type": "stream",
     "text": [
      "apple\n",
      "cherry\n"
     ]
    }
   ],
   "source": [
    "fruits: list = [\"apple\", \"banana\", \"cherry\"]\n",
    "print(fruits[0])   # Output: apple\n",
    "print(fruits[-1])  # Output: apple, accessing element in reverse order"
   ]
  },
  {
   "cell_type": "markdown",
   "id": "09514b09",
   "metadata": {},
   "source": [
    "Lists are mutable, meaning their elements can be changed."
   ]
  },
  {
   "cell_type": "code",
   "execution_count": 4,
   "id": "28769b13",
   "metadata": {},
   "outputs": [
    {
     "name": "stdout",
     "output_type": "stream",
     "text": [
      "['watermelon', 'banana', 'cherry']\n"
     ]
    }
   ],
   "source": [
    "fruits: list = [\"apple\", \"banana\", \"cherry\"]\n",
    "fruits[-3] = \"watermelon\" # replacing \"apple\" with \"watermelon\"\n",
    "print(fruits)  # Output: ['watermelon', 'banana', 'cherry']"
   ]
  },
  {
   "cell_type": "markdown",
   "id": "b237924d",
   "metadata": {},
   "source": [
    "Extract multiple elements using slicing."
   ]
  },
  {
   "cell_type": "code",
   "execution_count": 5,
   "id": "44544c38",
   "metadata": {},
   "outputs": [
    {
     "name": "stdout",
     "output_type": "stream",
     "text": [
      "['watermelon', 'banana']\n"
     ]
    }
   ],
   "source": [
    "print(fruits[0:2])  # Output: ['watermelon', 'banana'] 0 and 1"
   ]
  },
  {
   "cell_type": "markdown",
   "id": "a3cf92a2",
   "metadata": {},
   "source": [
    "Lists provide built-in methods for efficient data manipulation.\n",
    "\n",
    "Appending and Extending Lists"
   ]
  },
  {
   "cell_type": "code",
   "execution_count": null,
   "id": "cb6d4c51",
   "metadata": {},
   "outputs": [
    {
     "name": "stdout",
     "output_type": "stream",
     "text": [
      "['watermelon', 'banana', 'cherry', 'mango']\n"
     ]
    }
   ],
   "source": [
    "fruits.append(\"mango\")  # Adds a single element 'mango' to the end\n",
    "print(fruits)  # Output: ['watermelon', 'banana', 'cherry', 'mango']"
   ]
  },
  {
   "cell_type": "code",
   "execution_count": null,
   "id": "d264a635",
   "metadata": {},
   "outputs": [
    {
     "name": "stdout",
     "output_type": "stream",
     "text": [
      "['watermelon', 'banana', 'cherry', 'mango', 'grape', 'kiwi']\n"
     ]
    }
   ],
   "source": [
    "fruits.extend([\"grape\", \"kiwi\", \"banana\"])  # Adds multiple elements\n",
    "print(fruits)  # Output: ['watermelon', 'banana', 'cherry', 'mango', 'grape', 'kiwi']\n"
   ]
  },
  {
   "cell_type": "markdown",
   "id": "8a15a513",
   "metadata": {},
   "source": [
    "### Remove Method remove()\n",
    "\n",
    "In Python, remove() and pop() are two distinct methods used to manipulate lists. While they may seem similar, they have different purposes and behaviors.\n",
    "\n",
    "**Remove() Method**\n",
    "\n",
    "The remove() method is used to delete the first occurrence of a specified value from a list. If the value is not found in the list, a ValueError exception is raised.\n",
    "\n",
    "**Key aspects of remove():**\n",
    "\n",
    "1. Value-based: remove() searches for a specific value in the list.\n",
    "\n",
    "2. Returns None: The remove() method does not return any value.\n",
    "\n",
    "3. Raises ValueError: If the value is not found in the list, a ValueError exception is raised."
   ]
  },
  {
   "cell_type": "code",
   "execution_count": null,
   "id": "5bd4235d",
   "metadata": {},
   "outputs": [],
   "source": [
    "fruits.remove(\"banana\")  # Removes 'banana' # run multiple times to see error as \"banana\" is already removed\n",
    "print(fruits)"
   ]
  },
  {
   "cell_type": "markdown",
   "id": "b7d5a34f",
   "metadata": {},
   "source": [
    "### Pop Method pop()\n",
    "The pop() method is used to delete an item at a specified index from a list. If no index is provided, it removes and returns the last item in the list.\n",
    "\n",
    "Key aspects of pop():\n",
    "\n",
    "1. Index-based: pop() searches for an item at a specific index in the list.\n",
    "\n",
    "2. Returns the removed item: The pop() method returns the item that was removed from the list.\n",
    "\n",
    "3. Raises IndexError: If the index is out of range, an IndexError exception is raised."
   ]
  },
  {
   "cell_type": "code",
   "execution_count": 14,
   "id": "9f77ccf7",
   "metadata": {},
   "outputs": [
    {
     "name": "stdout",
     "output_type": "stream",
     "text": [
      "deleted element =  cherry\n",
      "['watermelon', 'mango', 'grape', 'kiwi']\n"
     ]
    }
   ],
   "source": [
    "deleted = fruits.pop(1)  # Removes and returns the element at index 1 # run it multiple time to see error\n",
    "print(\"deleted element = \", deleted)  # Output: 'cherry'\n",
    "print(fruits) # Output: ['watermelon', 'mango', 'grape', 'kiwi']"
   ]
  },
  {
   "cell_type": "markdown",
   "id": "fca9db9b",
   "metadata": {},
   "source": [
    "### Sorting List"
   ]
  },
  {
   "cell_type": "code",
   "execution_count": 15,
   "id": "5b4fe4cc",
   "metadata": {},
   "outputs": [
    {
     "name": "stdout",
     "output_type": "stream",
     "text": [
      "[1, 1, 3, 4, 5, 9]\n"
     ]
    }
   ],
   "source": [
    "numbers: list[int] = [3, 1, 4, 1, 5, 9] # unsorted list\n",
    "numbers.sort()\n",
    "print(numbers)  # Output: [1, 1, 3, 4, 5, 9]"
   ]
  },
  {
   "cell_type": "markdown",
   "id": "fb0ec78f",
   "metadata": {},
   "source": [
    "### Sorting in Descending Order (reverse=True)"
   ]
  },
  {
   "cell_type": "code",
   "execution_count": 16,
   "id": "c969b731",
   "metadata": {},
   "outputs": [
    {
     "name": "stdout",
     "output_type": "stream",
     "text": [
      "[9, 4, 2, 1]\n"
     ]
    }
   ],
   "source": [
    "numbers = [4, 2, 9, 1]\n",
    "numbers.sort(reverse=True)\n",
    "print(numbers)  # Output: [9, 4, 2, 1]\n"
   ]
  },
  {
   "cell_type": "markdown",
   "id": "75aa1a90",
   "metadata": {},
   "source": [
    "### Sorting by String Length (key=len)"
   ]
  },
  {
   "cell_type": "code",
   "execution_count": 17,
   "id": "379c6210",
   "metadata": {},
   "outputs": [
    {
     "name": "stdout",
     "output_type": "stream",
     "text": [
      "['kiwi', 'apple', 'banana']\n"
     ]
    }
   ],
   "source": [
    "words = [\"apple\", \"kiwi\", \"banana\"]\n",
    "words.sort(key=len)\n",
    "print(words)  # Output: ['kiwi', 'apple', 'banana']"
   ]
  },
  {
   "cell_type": "markdown",
   "id": "d2dbe3c3",
   "metadata": {},
   "source": [
    "### Sorting by Last Character (key=lambda word: word[-1])\n",
    "\n",
    "1. words = [\"apple\", \"kiwi\", \"banana\"]\n",
    "    - We have a list of words.\n",
    "\n",
    "2. words.sort(key=lambda word: word[-1])\n",
    "    - sort() will rearrange the list.\n",
    "    - key=... tells Python how to decide the sorting order.\n",
    "    - lambda word: word[-1] means:\n",
    "        - Take each word.\n",
    "        - Look at the last letter (word[-1]).\n",
    "        - Sort based on the last letter.\n",
    "\n",
    "3. How it works for each word:\n",
    "    - \"apple\" → last letter = \"e\"\n",
    "    - \"kiwi\" → last letter = \"i\"\n",
    "    - \"banana\" → last letter = \"a\"\n",
    "\n",
    "4. Now sorting by last letters alphabetically:\n",
    "    - \"a\" → \"banana\"\n",
    "    - \"e\" → \"apple\"\n",
    "    - \"i\" → \"kiwi\"\n",
    "\n",
    "5. Result:"
   ]
  },
  {
   "cell_type": "code",
   "execution_count": 18,
   "id": "5579c7b5",
   "metadata": {},
   "outputs": [
    {
     "name": "stdout",
     "output_type": "stream",
     "text": [
      "['banana', 'apple', 'kiwi']\n"
     ]
    }
   ],
   "source": [
    "words = [\"apple\", \"kiwi\", \"banana\"]\n",
    "words.sort(key=lambda word: word[-1])\n",
    "print(words)"
   ]
  },
  {
   "cell_type": "markdown",
   "id": "59a21d51",
   "metadata": {},
   "source": [
    "### Reverse Sorting"
   ]
  },
  {
   "cell_type": "code",
   "execution_count": 19,
   "id": "4b94cd35",
   "metadata": {},
   "outputs": [
    {
     "name": "stdout",
     "output_type": "stream",
     "text": [
      "[10, 7, 5, 2, 1]\n"
     ]
    }
   ],
   "source": [
    "numbers = [1, 2, 5, 7, 10]\n",
    "numbers.reverse()\n",
    "print(numbers)  # Output: [10, 7, 5, 2, 1]"
   ]
  },
  {
   "cell_type": "markdown",
   "id": "1fdfbbb7",
   "metadata": {},
   "source": [
    "### Iterating Over Lists\n",
    "Use loops to process elements in a list.\n",
    "\n",
    "Using a for-loop"
   ]
  },
  {
   "cell_type": "code",
   "execution_count": 20,
   "id": "1e47ba9d",
   "metadata": {},
   "outputs": [
    {
     "name": "stdout",
     "output_type": "stream",
     "text": [
      "watermelon\n",
      "mango\n",
      "grape\n",
      "kiwi\n"
     ]
    }
   ],
   "source": [
    "for fruit in fruits:\n",
    "    print(fruit)"
   ]
  },
  {
   "cell_type": "markdown",
   "id": "678f86b2",
   "metadata": {},
   "source": [
    "### Using List Comprehension\n",
    "List comprehension is a powerful feature in Python that allows you to create new lists in a concise and readable way. It's a compact way to create lists from existing lists or other iterables by applying a transformation or filter to each element.\n",
    "\n",
    "```python\n",
    "new_list = [expression for element in iterable if condition]\n",
    "```\n",
    "\n",
    "- expression is the operation you want to perform on each element.\n",
    "- element is the variable that takes on the value of each element in the iterable.\n",
    "- iterable is the list or other iterable that you want to process.\n",
    "- condition is an optional filter that determines whether an element is included in the new list."
   ]
  },
  {
   "cell_type": "code",
   "execution_count": null,
   "id": "a9995cf6",
   "metadata": {},
   "outputs": [
    {
     "name": "stdout",
     "output_type": "stream",
     "text": [
      "[1, 9, 25, 49, 81]  :  <class 'list'>\n"
     ]
    }
   ],
   "source": [
    "# With if condition\n",
    "squared: list = [x ** 2 for x in [1, 2, 3, 4, 5, 6, 7, 8, 9] if x % 2 != 0]\n",
    "\n",
    "print(squared, \" : \", type(squared))"
   ]
  },
  {
   "cell_type": "code",
   "execution_count": 2,
   "id": "d70f5df6",
   "metadata": {},
   "outputs": [
    {
     "name": "stdout",
     "output_type": "stream",
     "text": [
      "[1, 9, 25, 49]\n"
     ]
    }
   ],
   "source": [
    "# Without if Condition\n",
    "squared: list = [x ** 2 for x in [1, 3, 5, 7]]\n",
    "print(squared)"
   ]
  },
  {
   "cell_type": "markdown",
   "id": "0ae5bc32",
   "metadata": {},
   "source": [
    "- Transforming data: List comprehension can be used to transform data from one format to another.\n",
    "- Filtering data: List comprehension can be used to filter out unwanted data.\n",
    "- Creating new data: List comprehension can be used to create new data by combining existing data."
   ]
  },
  {
   "cell_type": "markdown",
   "id": "ae2b9a52",
   "metadata": {},
   "source": [
    "# Follow me on LinkedIn for more Tips and News! [Muhammad Shariq](https://www.linkedin.com/in/muhammad---shariq)"
   ]
  }
 ],
 "metadata": {
  "kernelspec": {
   "display_name": "base",
   "language": "python",
   "name": "python3"
  },
  "language_info": {
   "codemirror_mode": {
    "name": "ipython",
    "version": 3
   },
   "file_extension": ".py",
   "mimetype": "text/x-python",
   "name": "python",
   "nbconvert_exporter": "python",
   "pygments_lexer": "ipython3",
   "version": "3.12.7"
  }
 },
 "nbformat": 4,
 "nbformat_minor": 5
}
