{
 "cells": [
  {
   "cell_type": "markdown",
   "id": "c8ed538e",
   "metadata": {},
   "source": [
    "# **Python Course | Muhammad Shariq**"
   ]
  },
  {
   "cell_type": "markdown",
   "id": "78575ac7",
   "metadata": {},
   "source": [
    "## **Functions**\n",
    "A function in Python is like a mini-program that you can reuse whenever you want. To avoid repeating code and make your program organized."
   ]
  },
  {
   "cell_type": "markdown",
   "id": "5447f413",
   "metadata": {},
   "source": [
    "### **How to create a function?**"
   ]
  },
  {
   "cell_type": "code",
   "execution_count": null,
   "id": "4ca6d500",
   "metadata": {},
   "outputs": [],
   "source": [
    "def greet():\n",
    "    print(\"Hello!\")"
   ]
  },
  {
   "cell_type": "markdown",
   "id": "5bf28f86",
   "metadata": {},
   "source": [
    "### **How to call (run) a function?**"
   ]
  },
  {
   "cell_type": "code",
   "execution_count": null,
   "id": "5ae05c18",
   "metadata": {},
   "outputs": [],
   "source": [
    "greet()"
   ]
  },
  {
   "cell_type": "code",
   "execution_count": null,
   "id": "47b3ce42",
   "metadata": {},
   "outputs": [],
   "source": [
    "# This is a global function because it's defined at the top level of the module.\n",
    "def my_function():\n",
    "  print(\"Hello! World\")\n",
    "\n",
    "# The function can be called from anywhere in the module.\n",
    "my_function()"
   ]
  },
  {
   "cell_type": "markdown",
   "id": "1367cc01",
   "metadata": {},
   "source": [
    "A global function in Python is a function that’s defined in the main body of a module, rather than inside another function or class. This means that the function is available throughout the module, and if the module is imported into another file, the function can be accessed from there as well."
   ]
  },
  {
   "cell_type": "markdown",
   "id": "def3fe59",
   "metadata": {},
   "source": [
    "### **Key Points:**\n",
    "\n",
    "#### **Scope:**\n",
    "\n",
    "* Global functions have a module-level scope. They can be called by any code within that module, and if imported, they can be used elsewhere too.\n",
    "\n",
    "#### **Usage:**\n",
    "\n",
    "* Global functions are typically used to perform tasks that don't depend on a specific object's state. They’re ideal for utility functions, helper functions, or any code that can be reused in various parts of your program."
   ]
  },
  {
   "cell_type": "markdown",
   "id": "51c4c455",
   "metadata": {},
   "source": [
    "### **Types of Python Functions**\n",
    "\n",
    "Python provides the following types of functions −\n",
    "\n",
    "\n",
    "1)\t**Built-in functions**\n",
    "\n",
    "-   Python's standard library includes number of built-in functions. Some of Python's built-in functions are print(), int(), len(), sum(), etc. These functions are always available, as they are loaded into computer's memory as soon as you start Python interpreter.\n",
    "\n",
    "2)  **Functions defined in built-in modules**\n",
    "\n",
    "-   The standard library also bundles a number of modules. Each module defines a group of functions. These functions are not readily available. You need to import them into the memory from their respective modules.\n",
    "\n",
    "3)  **User-defined functions**\n",
    "\n",
    "-   In addition to the built-in functions and functions in the built-in modules, you can also create your own functions. These functions are called user-defined functions."
   ]
  },
  {
   "cell_type": "code",
   "execution_count": null,
   "id": "91a21038",
   "metadata": {},
   "outputs": [
    {
     "name": "stdout",
     "output_type": "stream",
     "text": [
      "Hello! World\n"
     ]
    }
   ],
   "source": [
    "# Built-in functions\n",
    "print(\"Hello! Python!\")"
   ]
  },
  {
   "cell_type": "code",
   "execution_count": 3,
   "id": "be03f433",
   "metadata": {},
   "outputs": [
    {
     "name": "stdout",
     "output_type": "stream",
     "text": [
      "0.5000845549607409\n"
     ]
    }
   ],
   "source": [
    "# Functions defined in built-in modules\n",
    "import random\n",
    "print(random.random())"
   ]
  },
  {
   "cell_type": "code",
   "execution_count": 11,
   "id": "0fdc95ce",
   "metadata": {},
   "outputs": [
    {
     "name": "stdout",
     "output_type": "stream",
     "text": [
      "PAF Vs IAF | ☠️ 🇵🇰 6 - Nill 😥 \n"
     ]
    }
   ],
   "source": [
    "# User-defined functions\n",
    "def my_function():\n",
    "  print(\"PAF Vs IAF | ☠️ 🇵🇰 6 - Nill 😥 \")\n",
    "\n",
    "my_function()"
   ]
  },
  {
   "cell_type": "markdown",
   "id": "22be5cf0",
   "metadata": {},
   "source": [
    "### **Syntax to Define a Python Function**\n",
    "\n",
    "```python\n",
    "def function_name( parameters ):\n",
    "   \"function_docstring\"\n",
    "   function_suite\n",
    "   return [expression]\n",
    "   ```"
   ]
  },
  {
   "cell_type": "code",
   "execution_count": 13,
   "id": "111c48f8",
   "metadata": {},
   "outputs": [
    {
     "name": "stdout",
     "output_type": "stream",
     "text": [
      "Pakistan Zindabad! 🇵🇰\n"
     ]
    }
   ],
   "source": [
    "def Pakistan():\n",
    "   \"This is docstring of Pakistan function\"\n",
    "   greet = 'Pakistan Zindabad! 🇵🇰'\n",
    "   return greet\n",
    "\n",
    "message = Pakistan()\n",
    "print(message)"
   ]
  },
  {
   "cell_type": "markdown",
   "id": "87f5ee89",
   "metadata": {},
   "source": [
    "### **Pass by Reference vs Value**\n",
    "Python uses \"pass by object reference\" (also called pass by assignment).\n",
    "\n",
    "- Immutable objects (like integers, strings, tuples) → Can’t be changed inside a function.\n",
    "\n",
    "- Mutable objects (like lists, dictionaries) → Can be changed inside a function."
   ]
  },
  {
   "cell_type": "code",
   "execution_count": 14,
   "id": "f8185dc5",
   "metadata": {},
   "outputs": [
    {
     "name": "stdout",
     "output_type": "stream",
     "text": [
      "5\n",
      "[1, 2, 3, 4]\n"
     ]
    }
   ],
   "source": [
    "def modify_value(x):\n",
    "    x = x + 1\n",
    "\n",
    "def modify_list(lst):\n",
    "    lst.append(4)\n",
    "\n",
    "x = 5\n",
    "lst = [1, 2, 3]\n",
    "\n",
    "modify_value(x)\n",
    "modify_list(lst)\n",
    "\n",
    "print(x)    # 5 → unchanged\n",
    "print(lst)  # [1, 2, 3, 4] → changed\n"
   ]
  },
  {
   "cell_type": "markdown",
   "id": "ce582ac8",
   "metadata": {},
   "source": [
    "### **Function Arguments**\n",
    "Function arguments are the values or variables passed into a function when it is called."
   ]
  },
  {
   "cell_type": "code",
   "execution_count": 17,
   "id": "073c0c78",
   "metadata": {},
   "outputs": [
    {
     "data": {
      "text/plain": [
       "'Salam, Muhammad Shariq. Hope you follow me on LinkedIn'"
      ]
     },
     "execution_count": 17,
     "metadata": {},
     "output_type": "execute_result"
    }
   ],
   "source": [
    "def Salam(name):\n",
    "    salam: str = f\"Salam, {name}. Hope you follow me on LinkedIn\"\n",
    "    return salam\n",
    "\n",
    "Salam(\"Muhammad Shariq\")\n",
    "   "
   ]
  },
  {
   "cell_type": "markdown",
   "id": "015b702f",
   "metadata": {},
   "source": [
    "### **Keyword Arguments**\n",
    "Keyword arguments let you pass values to a function by name, not just by position."
   ]
  },
  {
   "cell_type": "code",
   "execution_count": 18,
   "id": "5acd8cde",
   "metadata": {},
   "outputs": [
    {
     "name": "stdout",
     "output_type": "stream",
     "text": [
      "Hello Muhammad Shariq, you are 18 years old.\n"
     ]
    }
   ],
   "source": [
    "def greet(name, age):\n",
    "    print(f\"Hello {name}, you are {age} years old.\")\n",
    "\n",
    "# Using keyword arguments:\n",
    "greet(age=18, name=\"Muhammad Shariq\")"
   ]
  },
  {
   "cell_type": "code",
   "execution_count": 20,
   "id": "fe11be7b",
   "metadata": {},
   "outputs": [
    {
     "name": "stdout",
     "output_type": "stream",
     "text": [
      "30.0\n",
      "65.0\n"
     ]
    }
   ],
   "source": [
    "def add(x: int, y: int) -> float:\n",
    "    return float(x + y)\n",
    "\n",
    "print(float(add(10, 20)))\n",
    "\n",
    "print(add(y = 40, x = 25))"
   ]
  },
  {
   "cell_type": "markdown",
   "id": "d07437c7",
   "metadata": {},
   "source": [
    "### **`*`unpacking iterables**\n",
    "The * operator unpacks an iterable (list, tuple, set) into individual elements.\n",
    "\n",
    "When you use * before a list (or any iterable) in a function call, it unpacks the list and passes its elements as separate positional arguments to the function."
   ]
  },
  {
   "cell_type": "code",
   "execution_count": null,
   "id": "339ce517",
   "metadata": {},
   "outputs": [],
   "source": [
    "def add(a, b, c):\n",
    "    print(a + b + c)\n",
    "\n",
    "nums = [1, 2, 3]\n",
    "add(*nums)   # same as add(1, 2, 3)\n",
    "# Output: 6"
   ]
  },
  {
   "cell_type": "code",
   "execution_count": 21,
   "id": "1ca9beaf",
   "metadata": {},
   "outputs": [
    {
     "name": "stdout",
     "output_type": "stream",
     "text": [
      "[1, 2, 3, 4]\n"
     ]
    }
   ],
   "source": [
    "# Merging Lists\n",
    "\n",
    "a = [1, 2]\n",
    "b = [3, 4]\n",
    "c = [*a, *b]\n",
    "\n",
    "print(c)"
   ]
  },
  {
   "cell_type": "markdown",
   "id": "4ceecf47",
   "metadata": {},
   "source": [
    "### **Default Arguments**\n",
    "A default argument is an argument that assumes a default value if a value is not provided in the function call for that argument."
   ]
  },
  {
   "cell_type": "code",
   "execution_count": null,
   "id": "1ff7a69e",
   "metadata": {},
   "outputs": [
    {
     "name": "stdout",
     "output_type": "stream",
     "text": [
      "Name:  Muhammad Shariq\n",
      "Age:  18\n",
      "Name:  Muhammad Shariq\n",
      "Age:  35\n"
     ]
    }
   ],
   "source": [
    "def data(name, age = 35):\n",
    "    \n",
    "    print(\"Name: \", name)\n",
    "    print(\"Age: \", age)\n",
    "    return\n",
    "\n",
    "data(age = 18, name=\"Muhammad Shariq\")\n",
    "data(name=\"Muhammad Shariq\") # here we didn't gave the age value so it uses the default value provided above."
   ]
  },
  {
   "cell_type": "markdown",
   "id": "3c59ca79",
   "metadata": {},
   "source": [
    "### **Position-only arguments**\n",
    "Positional-only arguments mean: You must pass values by position, not by name.\n",
    "\n",
    "**How to define them?**\n",
    "\n",
    "Use / in the function definition."
   ]
  },
  {
   "cell_type": "code",
   "execution_count": 24,
   "id": "9859a901",
   "metadata": {},
   "outputs": [
    {
     "name": "stdout",
     "output_type": "stream",
     "text": [
      "Salam, Muhammad Shariq, Age: 18\n"
     ]
    }
   ],
   "source": [
    "def greet(name, age, /):\n",
    "    print(f\"Salam, {name}, Age: {age}\")\n",
    "    return\n",
    "\n",
    "greet(\"Muhammad Shariq\", 18)      # ✅ OK\n",
    "# greet(name=\"Muhammad Shariq\", age=18)  # ❌ Error (can’t use keywords)"
   ]
  },
  {
   "cell_type": "markdown",
   "id": "672db1bf",
   "metadata": {},
   "source": [
    "This means that arguments before the '/' must be specified by their position in the function call and cannot be passed using keyword arguments."
   ]
  },
  {
   "cell_type": "markdown",
   "id": "1f4baab8",
   "metadata": {},
   "source": [
    "### **Keyword-only Arguments**\n",
    "Keyword-only arguments mean: You must use the argument name when calling the function."
   ]
  },
  {
   "cell_type": "code",
   "execution_count": 25,
   "id": "7cdc40f5",
   "metadata": {},
   "outputs": [
    {
     "name": "stdout",
     "output_type": "stream",
     "text": [
      "Hello Shariq, age 18\n"
     ]
    }
   ],
   "source": [
    "def greet(*, name, age):\n",
    "    print(f\"Hello {name}, age {age}\")\n",
    "    return\n",
    "\n",
    "greet(name=\"Shariq\", age=18)   # ✅ OK\n",
    "# greet(\"Shariq\", 18)            # ❌ Error (must use keywords)\n",
    "\n",
    "# (*) means all arguments after (*) must be passed as keyword-only arguments."
   ]
  },
  {
   "cell_type": "markdown",
   "id": "390a5458",
   "metadata": {},
   "source": [
    "### **Arbitrary or Variable-length Armuments**\n",
    "Sometimes you don’t know how many arguments a user will pass.\n",
    "Python lets you handle that using: Use (*) for many positional arguments."
   ]
  },
  {
   "cell_type": "code",
   "execution_count": 32,
   "id": "5b625c93",
   "metadata": {},
   "outputs": [
    {
     "name": "stdout",
     "output_type": "stream",
     "text": [
      "26.0\n"
     ]
    }
   ],
   "source": [
    "def add(*number):\n",
    "    total = sum(number)\n",
    "    print(total)\n",
    "\n",
    "add(10, 1.1, 3.2, 5.9, 5.4, 0.4)"
   ]
  },
  {
   "cell_type": "markdown",
   "id": "f310305e",
   "metadata": {},
   "source": [
    "### **`**kwargs` For many keyword arguments**"
   ]
  },
  {
   "cell_type": "code",
   "execution_count": 33,
   "id": "6dceb54a",
   "metadata": {},
   "outputs": [
    {
     "name": "stdout",
     "output_type": "stream",
     "text": [
      "{'name': 'Shariq', 'age': 18}\n"
     ]
    }
   ],
   "source": [
    "def show_info(**details):\n",
    "    print(details)\n",
    "\n",
    "show_info(name=\"Shariq\", age=18)\n",
    "# Output: {'name': 'Shariq', 'age': 18}"
   ]
  },
  {
   "cell_type": "code",
   "execution_count": 34,
   "id": "a3ccd92e",
   "metadata": {},
   "outputs": [
    {
     "name": "stdout",
     "output_type": "stream",
     "text": [
      "(1, 2)\n",
      "{'name': 'Shariq', 'age': 18}\n"
     ]
    }
   ],
   "source": [
    "# Both Together\n",
    "\n",
    "def demo(*args, **kwargs):\n",
    "    print(args)\n",
    "    print(kwargs)\n",
    "\n",
    "demo(1, 2, name=\"Shariq\", age=18)\n",
    "# args → (1, 2)\n",
    "# kwargs → {'name': 'Shariq', 'age': 18}"
   ]
  },
  {
   "cell_type": "markdown",
   "id": "7e009bfc",
   "metadata": {},
   "source": [
    "### **Python Function with Return Value**\n",
    "A return value is the result a function gives back when it finishes. The return keyword as the last statement in function definition indicates end of function block, and the program flow goes back to the calling function."
   ]
  },
  {
   "cell_type": "code",
   "execution_count": 35,
   "id": "dcd3e3de",
   "metadata": {},
   "outputs": [
    {
     "name": "stdout",
     "output_type": "stream",
     "text": [
      "13\n"
     ]
    }
   ],
   "source": [
    "def add(a, b):\n",
    "    return a + b\n",
    "\n",
    "result = add(5, 8)\n",
    "print(result)"
   ]
  },
  {
   "cell_type": "markdown",
   "id": "17471652",
   "metadata": {},
   "source": [
    "**Why use return?**: To send data back. To reuse the result later. Without return can't store the result"
   ]
  }
 ],
 "metadata": {
  "kernelspec": {
   "display_name": "base",
   "language": "python",
   "name": "python3"
  },
  "language_info": {
   "codemirror_mode": {
    "name": "ipython",
    "version": 3
   },
   "file_extension": ".py",
   "mimetype": "text/x-python",
   "name": "python",
   "nbconvert_exporter": "python",
   "pygments_lexer": "ipython3",
   "version": "3.12.7"
  }
 },
 "nbformat": 4,
 "nbformat_minor": 5
}
