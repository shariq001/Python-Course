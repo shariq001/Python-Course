{
 "cells": [
  {
   "cell_type": "markdown",
   "id": "2de9bd67",
   "metadata": {},
   "source": [
    "# **Python Course | Muhammad Shariq**"
   ]
  },
  {
   "cell_type": "markdown",
   "id": "849877bb",
   "metadata": {},
   "source": [
    "## GC: Garbage Collection\n",
    "### Python has a garbage collection mechanism.\n",
    "Python's garbage collector is a Memory Management System that automatically frees up memory occupied by objects that are no longer needed or referenced. This helps prevent memory leaks and allows Python to manage memory efficiently.\n",
    "\n",
    "### Here's how it works:\n",
    "1. **Reference Counting (Primary mechanism):**\n",
    "    - Every object in Python has a reference count — the number of references pointing to it.\n",
    "\n",
    "    - Python uses a reference counting algorithm to track the number of references to each object. When an object is created, its reference count is set to 1. Each time a new reference to the object is created (e.g., assigning it to a variable or passing it as an argument), the reference count is incremented.\n",
    "\n",
    "    - When the count drops to zero, the object is immediately deleted.\n",
    "\n",
    "\n",
    "2. **Garbage Collection:** \n",
    "\n",
    "    When an object's reference count reaches 0, it is no longer needed and becomes eligible for garbage collection. The garbage collector periodically runs in the background to identify and free up memory occupied by these objects."
   ]
  },
  {
   "cell_type": "markdown",
   "id": "b34a7ef9",
   "metadata": {},
   "source": [
    "### Python's Garbage Collector is:\n",
    "- Automatic: You don't need to manually manage memory or explicitly free up memory.\n",
    "\n",
    "- Periodic: The garbage collector runs periodically to clean up memory.\n",
    "\n",
    "- Reference-based: It uses reference counting to determine which objects are no longer needed.\n",
    "\n",
    "You can also manually trigger the garbage collector using the gc.collect() function from the gc module:"
   ]
  },
  {
   "cell_type": "code",
   "execution_count": 1,
   "id": "58505142",
   "metadata": {},
   "outputs": [
    {
     "name": "stdout",
     "output_type": "stream",
     "text": [
      "(19, 0, 0)\n"
     ]
    }
   ],
   "source": [
    "import gc\n",
    "\n",
    "gc.collect()\n",
    "print(gc.get_count())\n",
    "# prints the number of collected objects, unreachable objects, and reference cycles"
   ]
  },
  {
   "cell_type": "markdown",
   "id": "8056ca18",
   "metadata": {},
   "source": [
    "However, this is usually not necessary, as the garbage collector runs automatically in the background.\n",
    "\n",
    "Some benefits of Python's garbage collection:\n",
    "\n",
    "* **Memory safety**: Prevents memory leaks and ensures memory is freed up when no longer needed.\n",
    "* **Convenience**: You don't need to worry about manually managing memory.\n",
    "* **Efficiency**: The garbage collector runs periodically to optimize memory usage.\n",
    "\n",
    "Note that Python's garbage collection is not perfect, and there are some cases where it may not work as expected (e.g., circular references, file descriptors). However, it provides a convenient and efficient way to manage memory in most cases."
   ]
  },
  {
   "cell_type": "markdown",
   "id": "8e8786c8",
   "metadata": {},
   "source": [
    "# Follow me on LinkedIn for more Tips and News! [Muhammad Shariq](https://www.linkedin.com/in/muhammad---shariq)"
   ]
  }
 ],
 "metadata": {
  "kernelspec": {
   "display_name": "base",
   "language": "python",
   "name": "python3"
  },
  "language_info": {
   "codemirror_mode": {
    "name": "ipython",
    "version": 3
   },
   "file_extension": ".py",
   "mimetype": "text/x-python",
   "name": "python",
   "nbconvert_exporter": "python",
   "pygments_lexer": "ipython3",
   "version": "3.12.7"
  }
 },
 "nbformat": 4,
 "nbformat_minor": 5
}
