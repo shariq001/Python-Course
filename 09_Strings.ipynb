{
 "cells": [
  {
   "cell_type": "markdown",
   "id": "b4165f4f",
   "metadata": {},
   "source": [
    "# Python Course | Muhammad Shariq"
   ]
  },
  {
   "cell_type": "markdown",
   "id": "cf08ad5f",
   "metadata": {},
   "source": [
    "## Strings in Python\n",
    "In Python, a string is a sequence of characters enclosed in quotes (either single, double, or triple quotes). \n",
    "Strings are immutable, meaning they cannot be changed after they are created.\n",
    "\n",
    "### Creating Strings\n",
    "There are several ways to create strings in Python:\n",
    "\n",
    "1. Single Quotes: my_string = 'Hello, World!'\n",
    "2. Double Quotes: my_string = \"Hello, World!\"\n",
    "3. Triple Quotes: my_string = '''Hello, World!''' (can span multiple lines)\n",
    "4. Raw Strings: my_string = r'Hello, World!' (treats backslashes as literal characters)"
   ]
  },
  {
   "cell_type": "code",
   "execution_count": 1,
   "id": "8e314952",
   "metadata": {},
   "outputs": [
    {
     "name": "stdout",
     "output_type": "stream",
     "text": [
      "Hello,\n",
      "World!\n"
     ]
    }
   ],
   "source": [
    "#for multi line string use triple quotes '''any string'''\n",
    "my_string: str = '''Hello,\n",
    "World!'''\n",
    "print(my_string)"
   ]
  },
  {
   "cell_type": "code",
   "execution_count": 2,
   "id": "a6e5d682",
   "metadata": {},
   "outputs": [
    {
     "name": "stdout",
     "output_type": "stream",
     "text": [
      "Hello,\n",
      " World!\n"
     ]
    }
   ],
   "source": [
    "my_string = 'Hello,\\n World!'\n",
    "print(my_string)"
   ]
  },
  {
   "cell_type": "markdown",
   "id": "1e524fc4",
   "metadata": {},
   "source": [
    "### Escape Sequence Characters in Python\n",
    "In Python, escape sequence characters are used to represent special characters that have a specific meaning in a string. These characters are denoted by a backslash (\\) followed by a character."
   ]
  },
  {
   "cell_type": "code",
   "execution_count": 3,
   "id": "c9f57bcc",
   "metadata": {},
   "outputs": [
    {
     "name": "stdout",
     "output_type": "stream",
     "text": [
      "Hello World!\n",
      "Hello,\tWorld!\n",
      "Hello, \"World!\"\n",
      "Hello,\\ World!\n"
     ]
    }
   ],
   "source": [
    "print(\"Hello,\\b World!\") #\\b backspace\n",
    "print(\"Hello,\\tWorld!\")  #\\t tab\n",
    "print(\"Hello, \\\"World!\\\"\")\n",
    "print(\"Hello,\\\\ World!\")"
   ]
  },
  {
   "cell_type": "markdown",
   "id": "7c301c65",
   "metadata": {},
   "source": [
    "### Unicode Characters\n",
    "Python also supports Unicode escape sequence characters, which are used to represent Unicode characters. These characters are denoted by \\u followed by a four-digit hexadecimal code.\n",
    "\n",
    "Unicode characters are special codes that represent text from all languages (like English, Arabic, Chinese, Emojis, etc.)."
   ]
  },
  {
   "cell_type": "code",
   "execution_count": 4,
   "id": "efb3bd06",
   "metadata": {},
   "outputs": [
    {
     "name": "stdout",
     "output_type": "stream",
     "text": [
      "\\u0041 =  A\n",
      "\\u0042 =  B\n",
      "\\u0043 =  C\n"
     ]
    }
   ],
   "source": [
    "print(r\"\\u0041 = \", \"\\u0041\")\n",
    "print(r\"\\u0042 = \", \"\\u0042\")\n",
    "print(r\"\\u0043 = \", \"\\u0043\")"
   ]
  },
  {
   "cell_type": "markdown",
   "id": "2863b6fa",
   "metadata": {},
   "source": [
    "## Performing Different Operations on String Object\n",
    "\n",
    "S# | Operation | Example\n",
    "-- | --------- | -------\n",
    "1 | Concatenation | my_string = 'Hello, ' + 'World!'\n",
    "2 | Indexing | my_string = 'Hello, World!'; print(my_string[0]) # prints 'H'\n",
    "3 | Slicing | my_string = 'Hello, World!'; print(my_string[7:]) # prints 'World!'\n",
    "4 | Length | my_string = 'Hello, World!'; print(len(my_string)) # prints 13\n",
    "5 | Upper Case | \tmy_string = 'Hello, World!'; print(my_string.upper()) # prints 'HELLO, WORLD!'\n",
    "6 | Lower Case | my_string = 'Hello, World!'; print(my_string.lower()) # prints 'hello, world!'"
   ]
  },
  {
   "cell_type": "code",
   "execution_count": 5,
   "id": "dda532a3",
   "metadata": {},
   "outputs": [
    {
     "name": "stdout",
     "output_type": "stream",
     "text": [
      "Hello, World!\n"
     ]
    }
   ],
   "source": [
    "my_string = 'Hello, ' + 'World!' #Concatenation using + sign\n",
    "print(my_string)"
   ]
  },
  {
   "cell_type": "code",
   "execution_count": 6,
   "id": "5a4fbc93",
   "metadata": {},
   "outputs": [
    {
     "name": "stdout",
     "output_type": "stream",
     "text": [
      "e\n"
     ]
    }
   ],
   "source": [
    "#Indexing, index value starts with 0 zero, so  the first character\n",
    "#have index vlaue 0, second character have index value 1 and the third one\n",
    "#have index value 2 and so on.\n",
    "print(my_string[1]) #It will print 'e'"
   ]
  },
  {
   "cell_type": "code",
   "execution_count": 7,
   "id": "518fdbfb",
   "metadata": {},
   "outputs": [
    {
     "name": "stdout",
     "output_type": "stream",
     "text": [
      "World!\n",
      "Hello\n"
     ]
    }
   ],
   "source": [
    "my_string: str = 'Hello, World!'\n",
    "print(my_string[7:]) #It starts from 7 till the end of the string\n",
    "print(my_string[0:5]) #It starts from 0 till the index 4 - (0,1,2,3,4) = 5 characters"
   ]
  },
  {
   "cell_type": "code",
   "execution_count": 8,
   "id": "85540811",
   "metadata": {},
   "outputs": [
    {
     "name": "stdout",
     "output_type": "stream",
     "text": [
      "15\n"
     ]
    }
   ],
   "source": [
    "print(len(\" Hello, World! \"))#calculating length of a string even the space will be treated as character"
   ]
  },
  {
   "cell_type": "code",
   "execution_count": 9,
   "id": "589d4dc2",
   "metadata": {},
   "outputs": [
    {
     "name": "stdout",
     "output_type": "stream",
     "text": [
      "HELLO, WORLD!\n",
      "hello, world!\n"
     ]
    }
   ],
   "source": [
    "print(my_string.upper()) #Upper Case\n",
    "print(my_string.lower()) #Lower Case"
   ]
  },
  {
   "cell_type": "markdown",
   "id": "35464113",
   "metadata": {},
   "source": [
    "Here are some commonly used string methods:\n",
    "\n",
    "1. split(): splits a string into a list of substrings based on a delimiter\n",
    "2. join(): joins a list of strings into a single string\n",
    "3. replace(): replaces a substring with another substring\n",
    "4. find(): returns the index of a substring\n",
    "5. count(): returns the number of occurrences of a substring"
   ]
  },
  {
   "cell_type": "markdown",
   "id": "85e146f7",
   "metadata": {},
   "source": [
    "#### split()"
   ]
  },
  {
   "cell_type": "code",
   "execution_count": 10,
   "id": "bc62f47b",
   "metadata": {},
   "outputs": [
    {
     "name": "stdout",
     "output_type": "stream",
     "text": [
      "my_string.split()    =  ['Hello!', 'World']\n",
      "my_string.split(\" \") =  ['Hello!', 'World']\n",
      "my_string.split(\"l\") =  ['He', '', 'o! Wor', 'd']\n"
     ]
    }
   ],
   "source": [
    "my_string: str = 'Hello! World'\n",
    "\n",
    "# split into a list of words\n",
    "words: str = my_string.split()\n",
    "print(\"my_string.split()    = \", words)\n",
    "\n",
    "words = my_string.split(\" \") # Space as a delimiter\n",
    "print('my_string.split(\" \") = ',words)\n",
    "\n",
    "words = my_string.split(\"l\") # Splitting using 'l' as the delimiter\n",
    "print('my_string.split(\"l\") = ', words)"
   ]
  },
  {
   "cell_type": "markdown",
   "id": "a239473f",
   "metadata": {},
   "source": [
    "Steps of Execution:\n",
    "\n",
    "- The split(\"l\") method breaks the string \"Hello! World\" wherever the letter l appears.\n",
    "\n",
    "After splitting, the parts are:\n",
    "\n",
    "\n",
    "Before the first l:\n",
    "\n",
    "- \"He\" Between the first and second l: \"\" (empty string, as there’s no character between the two ls)\n",
    "\n",
    "After the second l: \"o! Wor\"\n",
    "\n",
    "- The resulting list is: [\"He\", \"\", \"o!, Wor\", \"d\"]."
   ]
  },
  {
   "cell_type": "code",
   "execution_count": 11,
   "id": "9c56f374",
   "metadata": {},
   "outputs": [
    {
     "name": "stdout",
     "output_type": "stream",
     "text": [
      "['He', '', 'o! Wor', 'd']\n"
     ]
    }
   ],
   "source": [
    "words: str = my_string.split(\"l\") # Splitting using 'l' as the delimiter\n",
    "print(words)"
   ]
  },
  {
   "cell_type": "markdown",
   "id": "eb05756c",
   "metadata": {},
   "source": [
    "#### join()\n",
    "The argument of join() is the iterable, and the my_string acts as a separator that is placed between the elements of the iterable.\n",
    "\n",
    "my_string = ','\n",
    "\n",
    "The variable my_string is assigned the value ','. This string (comma followed by a space) will be used as the separator for joining elements of a list."
   ]
  },
  {
   "cell_type": "code",
   "execution_count": 12,
   "id": "b5e7e49b",
   "metadata": {},
   "outputs": [
    {
     "name": "stdout",
     "output_type": "stream",
     "text": [
      "Pakistan, USA, Canada, France, Japan\n"
     ]
    }
   ],
   "source": [
    "# join the words back into a single string\n",
    "my_string: str = ', '\n",
    "joined_string: str = my_string.join(['Pakistan', 'USA', 'Canada', 'France', 'Japan'])\n",
    "print(joined_string)  # Pakistan, USA, Canada, France, Japan"
   ]
  },
  {
   "cell_type": "code",
   "execution_count": 13,
   "id": "d8f776a6",
   "metadata": {},
   "outputs": [
    {
     "name": "stdout",
     "output_type": "stream",
     "text": [
      "P, a, k, i, s, t, a, n\n",
      "Apple-Banana-Cherry\n"
     ]
    }
   ],
   "source": [
    "joined_string: str = my_string.join('Pakistan') # my_string works as a seprator for each character in the word 'Pakistan', because string is a sequence of caharacter\n",
    "\n",
    "print(joined_string) # P, a, k, i, s, t, a, n\n",
    "\n",
    "print('-'.join(['Apple', 'Banana', 'Cherry'])); # ; The line terminitor"
   ]
  },
  {
   "cell_type": "markdown",
   "id": "22ed3332",
   "metadata": {},
   "source": [
    "#### replace()"
   ]
  },
  {
   "cell_type": "code",
   "execution_count": 15,
   "id": "7fe9a463",
   "metadata": {},
   "outputs": [
    {
     "name": "stdout",
     "output_type": "stream",
     "text": [
      "Salam, World! Salam, Pakistan\n"
     ]
    }
   ],
   "source": [
    "my_string: str = \"Hello, World! Hello, Pakistan\"\n",
    "# replace a substring\n",
    "my_string = my_string.replace('Hello', 'Salam')\n",
    "print(my_string)  # prints 'Salam, World! Salam, Pakistan'"
   ]
  },
  {
   "cell_type": "markdown",
   "id": "eac027d3",
   "metadata": {},
   "source": [
    "#### find()"
   ]
  },
  {
   "cell_type": "code",
   "execution_count": 16,
   "id": "04d59a0d",
   "metadata": {},
   "outputs": [
    {
     "name": "stdout",
     "output_type": "stream",
     "text": [
      "starting_index =  0\n"
     ]
    }
   ],
   "source": [
    "my_string: str = \"Hello, World! Hello, Pakistan\"\n",
    "# find the index of a substring\n",
    "starting_index = my_string.find('Hello') # Index value of the first occurance of the word 'Hello'\n",
    "print(\"starting_index = \", starting_index)  # prints 0"
   ]
  },
  {
   "cell_type": "markdown",
   "id": "433447d2",
   "metadata": {},
   "source": [
    "#### count()\n"
   ]
  },
  {
   "cell_type": "code",
   "execution_count": 18,
   "id": "42444e7c",
   "metadata": {},
   "outputs": [
    {
     "name": "stdout",
     "output_type": "stream",
     "text": [
      "4\n"
     ]
    }
   ],
   "source": [
    "my_string: str = \"Hello Pakistan Hello World Hello Hello\"\n",
    "\n",
    "counted_string: str = my_string.count(\"Hello\")\n",
    "\n",
    "print(counted_string)"
   ]
  },
  {
   "cell_type": "code",
   "execution_count": 19,
   "id": "c5d42fc8",
   "metadata": {},
   "outputs": [
    {
     "name": "stdout",
     "output_type": "stream",
     "text": [
      "-1\n"
     ]
    }
   ],
   "source": [
    "print(my_string.find(\"Hello7\")) # -1 for not found"
   ]
  },
  {
   "cell_type": "code",
   "execution_count": 20,
   "id": "7eb17a96",
   "metadata": {},
   "outputs": [
    {
     "name": "stdout",
     "output_type": "stream",
     "text": [
      "my_string.count('Hello') =  2\n",
      "my_string.count('P')     =  1\n",
      "my_string.count('o')     =  3\n",
      "my_string.count('hello') =  0\n"
     ]
    }
   ],
   "source": [
    "my_string = \"Hello, World! Hello, Pakistan\"\n",
    "# count the occurrences of a substring\n",
    "count = my_string.count('Hello')\n",
    "print(\"my_string.count('Hello') = \", count)  # prints 2\n",
    "\n",
    "# count the occurrences of a substring\n",
    "count = my_string.count('P')\n",
    "print(\"my_string.count('P')     = \", count)  # prints 1\n",
    "\n",
    "# count the occurrences of a substring\n",
    "count = my_string.count('o')\n",
    "print(\"my_string.count('o')     = \", count)  # prints 2\n",
    "\n",
    "# count the occurrences of a substring\n",
    "count = my_string.count('hello') # case sensitive\n",
    "print(\"my_string.count('hello') = \", count)  # prints 0"
   ]
  },
  {
   "cell_type": "markdown",
   "id": "77ea9257",
   "metadata": {},
   "source": [
    "# Follow me on LinkedIn for more Tips and News! [Muhammad Shariq](https://www.linkedin.com/in/muhammad---shariq)"
   ]
  }
 ],
 "metadata": {
  "kernelspec": {
   "display_name": "base",
   "language": "python",
   "name": "python3"
  },
  "language_info": {
   "codemirror_mode": {
    "name": "ipython",
    "version": 3
   },
   "file_extension": ".py",
   "mimetype": "text/x-python",
   "name": "python",
   "nbconvert_exporter": "python",
   "pygments_lexer": "ipython3",
   "version": "3.12.7"
  }
 },
 "nbformat": 4,
 "nbformat_minor": 5
}
