{
 "cells": [
  {
   "cell_type": "markdown",
   "id": "bba2ce3d",
   "metadata": {},
   "source": [
    "# **Python Course | Muhammad Shariq**"
   ]
  },
  {
   "cell_type": "markdown",
   "id": "55f04c37",
   "metadata": {},
   "source": [
    "## Loops\n",
    "Loops are used to repeat a block of code multiple times. Python supports two types of loops:\n",
    "\n",
    "- for loops: Used to iterate over a sequence (e.g., lists, strings, or ranges).\n",
    "- while loops: Used to repeat a block of code as long as a condition is True.\n",
    "When to use scenario:\n",
    "\n",
    "#### A. For Loop:\n",
    "- Grading a class of students: You have a list of 30 students and you want to calculate the average score for each student. You use a for loop to iterate over the list of students and calculate the average score for each one.\n",
    "\n",
    "- Washing Machine(number spins), Microwave Oven e.t.c.\n",
    "\n",
    "#### B. While Loop:\n",
    "\n",
    "- Filling up a gas tank: You want to fill up your gas tank until it's full. You don't know how many times you'll need to fill up the tank, but you'll keep filling it up until it's full. You use a while loop to fill up the tank until it's full.\n",
    "\n",
    "- Air Conditioner, Refigrator, Heater, Washing Machine(filling water) e.t.c."
   ]
  },
  {
   "cell_type": "markdown",
   "id": "9771f805",
   "metadata": {},
   "source": [
    "### The for Loop\n",
    "The for loop iterates over a sequence (like a list, string, or range) and executes a block of code for each item for a specified or fixed number of times."
   ]
  },
  {
   "cell_type": "code",
   "execution_count": 3,
   "id": "9058edfb",
   "metadata": {},
   "outputs": [
    {
     "name": "stdout",
     "output_type": "stream",
     "text": [
      "Apple\n",
      "Orange\n",
      "Kiwi\n"
     ]
    }
   ],
   "source": [
    "# Iterates over a list\n",
    "fruits: list = [\"Apple\", \"Orange\", \"Kiwi\"]\n",
    "\n",
    "for fruit in fruits:\n",
    "    print(fruit)\n",
    "    \n",
    "# Note: Membership Operators in Python in, not in"
   ]
  },
  {
   "cell_type": "code",
   "execution_count": 4,
   "id": "7dade7b8",
   "metadata": {},
   "outputs": [
    {
     "name": "stdout",
     "output_type": "stream",
     "text": [
      "P\n",
      "y\n",
      "t\n",
      "h\n",
      "o\n",
      "n\n"
     ]
    }
   ],
   "source": [
    "# Iterate over a string\n",
    "word: str = \"Python\"\n",
    "for letter in word:\n",
    "    print(letter)"
   ]
  },
  {
   "cell_type": "markdown",
   "id": "94f7e84f",
   "metadata": {},
   "source": [
    "### for Loop with else in Python\n",
    "In Python, a for loop can have an else block. The else block runs only if the loop completes without a break statement.\n",
    "\n",
    "### Example 1: for loop with else (No break)"
   ]
  },
  {
   "cell_type": "code",
   "execution_count": 5,
   "id": "49f4e7f9",
   "metadata": {},
   "outputs": [
    {
     "name": "stdout",
     "output_type": "stream",
     "text": [
      "1\n",
      "2\n",
      "3\n",
      "4\n",
      "5\n",
      "Loop completed successfully!\n"
     ]
    }
   ],
   "source": [
    "numbers = [1, 2, 3, 4, 5]\n",
    "\n",
    "for num in numbers:\n",
    "    print(num)\n",
    "else:\n",
    "    print(\"Loop completed successfully!\")"
   ]
  },
  {
   "cell_type": "markdown",
   "id": "afb75804",
   "metadata": {},
   "source": [
    "### Example 2: for loop with break (Skipping else)"
   ]
  },
  {
   "cell_type": "code",
   "execution_count": 6,
   "id": "7e1ae2e3",
   "metadata": {},
   "outputs": [
    {
     "name": "stdout",
     "output_type": "stream",
     "text": [
      "1\n",
      "2\n",
      "3\n",
      "Breaking the loop!\n"
     ]
    }
   ],
   "source": [
    "numbers = [1, 2, 3, 4, 5]\n",
    "\n",
    "for num in numbers:\n",
    "    print(num)\n",
    "    if num == 3:\n",
    "        print(\"Breaking the loop!\")\n",
    "        break\n",
    "else:\n",
    "    print(\"Loop completed successfully!\")  # This will NOT run"
   ]
  },
  {
   "cell_type": "markdown",
   "id": "f2aebbdd",
   "metadata": {},
   "source": [
    "### Example 3: Searching with else"
   ]
  },
  {
   "cell_type": "code",
   "execution_count": 7,
   "id": "7a97c37f",
   "metadata": {},
   "outputs": [
    {
     "name": "stdout",
     "output_type": "stream",
     "text": [
      "Number not found!\n"
     ]
    }
   ],
   "source": [
    "numbers = [1, 2, 3, 4, 5]\n",
    "\n",
    "for num in numbers:\n",
    "    if num == 6:\n",
    "        print(\"Number found!\")\n",
    "        break\n",
    "else:\n",
    "    print(\"Number not found!\")  # Runs because 6 is not in the list"
   ]
  },
  {
   "cell_type": "markdown",
   "id": "3515e8ce",
   "metadata": {},
   "source": [
    "<font color=\"Green\" size=3> In Lesson 03 we learned about range() </font>"
   ]
  },
  {
   "cell_type": "code",
   "execution_count": 13,
   "id": "35a37ed5",
   "metadata": {},
   "outputs": [
    {
     "name": "stdout",
     "output_type": "stream",
     "text": [
      "0\n",
      "1\n",
      "2\n",
      "3\n",
      "4\n"
     ]
    }
   ],
   "source": [
    "# Print numbers from 0 to 4\n",
    "for i in range(5):\n",
    "    print(i)"
   ]
  },
  {
   "cell_type": "code",
   "execution_count": 14,
   "id": "09ea5788",
   "metadata": {},
   "outputs": [
    {
     "name": "stdout",
     "output_type": "stream",
     "text": [
      "2\n",
      "4\n",
      "6\n",
      "8\n",
      "10\n"
     ]
    }
   ],
   "source": [
    "# Print even numbers from 2 to 10\n",
    "for i in range(2, 11, 2):\n",
    "    print(i)"
   ]
  },
  {
   "cell_type": "code",
   "execution_count": 15,
   "id": "a5d25d7e",
   "metadata": {},
   "outputs": [
    {
     "name": "stdout",
     "output_type": "stream",
     "text": [
      "0 Hello\n",
      "1 Hello\n",
      "2 Hello\n",
      "3 Hello\n",
      "4 Hello\n"
     ]
    }
   ],
   "source": [
    "for i in range(5):\n",
    "    print(i, \"Hello\")"
   ]
  },
  {
   "cell_type": "markdown",
   "id": "188626d7",
   "metadata": {},
   "source": [
    "_ (underscore) This is a throwaway variable, which is a common Python convention for a variable that you don't plan to use. In this case, the loop variable is not used within the loop, so it's assigned to _.\n",
    "\n",
    "If you want to use the loop variable, you can replace _ with a more meaningful variable name. For example:"
   ]
  },
  {
   "cell_type": "code",
   "execution_count": 17,
   "id": "ab246bd8",
   "metadata": {},
   "outputs": [
    {
     "name": "stdout",
     "output_type": "stream",
     "text": [
      "Hello, World! Iteration 0\n",
      "Hello, World! Iteration 1\n",
      "Hello, World! Iteration 2\n",
      "Hello, World! Iteration 3\n",
      "Hello, World! Iteration 4\n",
      "Hello, World! Iteration 5\n",
      "Hello, World! Iteration 6\n",
      "Hello, World! Iteration 7\n",
      "Hello, World! Iteration 8\n",
      "Hello, World! Iteration 9\n"
     ]
    }
   ],
   "source": [
    "for _ in range(10): # Just to show that _ is a loop variable, but its throwaway variable\n",
    "    \n",
    "    print(f\"Hello, World! Iteration { _ }\")"
   ]
  },
  {
   "cell_type": "markdown",
   "id": "2e9a29e7",
   "metadata": {},
   "source": [
    "## The while Loop\n",
    "The while loop repeats a block of code as long as a condition is True."
   ]
  },
  {
   "cell_type": "code",
   "execution_count": null,
   "id": "047b0713",
   "metadata": {},
   "outputs": [
    {
     "name": "stdout",
     "output_type": "stream",
     "text": [
      "1\n",
      "2\n",
      "3\n",
      "4\n",
      "5\n"
     ]
    }
   ],
   "source": [
    "# Print numbers from 1 to 5\n",
    "count: int = 1\n",
    "\n",
    "while count <= 5:\n",
    "    print(count)\n",
    "    count += 1"
   ]
  },
  {
   "cell_type": "markdown",
   "id": "2fa4e329",
   "metadata": {},
   "source": [
    "### Controlling Loops\n",
    "Python provides two keywords (break & continue) to control loops:\n",
    "\n",
    "- break: Exits the loop immediately.\n",
    "- continue: Skips the rest of the code in the current iteration and moves to the next iteration."
   ]
  },
  {
   "cell_type": "code",
   "execution_count": 19,
   "id": "bcd8e765",
   "metadata": {},
   "outputs": [
    {
     "name": "stdout",
     "output_type": "stream",
     "text": [
      "0\n",
      "1\n",
      "2\n",
      "3\n",
      "4\n"
     ]
    }
   ],
   "source": [
    "# Break example\n",
    "for i in range(10):\n",
    "    if i == 5:\n",
    "        break\n",
    "    print(i)  # Prints 0, 1, 2, 3, 4"
   ]
  },
  {
   "cell_type": "code",
   "execution_count": 20,
   "id": "c04c4946",
   "metadata": {},
   "outputs": [
    {
     "name": "stdout",
     "output_type": "stream",
     "text": [
      "0\n",
      "1\n",
      "2\n",
      "4\n"
     ]
    }
   ],
   "source": [
    "# Continue example\n",
    "for i in range(5):\n",
    "    if i == 3:\n",
    "        continue\n",
    "    print(i)  # Prints 0, 1, 2, 4"
   ]
  },
  {
   "cell_type": "markdown",
   "id": "d9277492",
   "metadata": {},
   "source": [
    "## Nested Loops\n",
    "Nested loops, also known as inner loops or nested iterations, refer to the process of placing one loop inside another loop. The inner loop will iterate through its entire cycle for each iteration of the outer loop."
   ]
  },
  {
   "cell_type": "code",
   "execution_count": 21,
   "id": "b48f3eef",
   "metadata": {},
   "outputs": [
    {
     "name": "stdout",
     "output_type": "stream",
     "text": [
      "Multiplication table for 1:\n",
      "1 * 1 = 1\n",
      "1 * 2 = 2\n",
      "1 * 3 = 3\n",
      "1 * 4 = 4\n",
      "1 * 5 = 5\n",
      "\n",
      "Multiplication table for 2:\n",
      "2 * 1 = 2\n",
      "2 * 2 = 4\n",
      "2 * 3 = 6\n",
      "2 * 4 = 8\n",
      "2 * 5 = 10\n",
      "\n",
      "Multiplication table for 3:\n",
      "3 * 1 = 3\n",
      "3 * 2 = 6\n",
      "3 * 3 = 9\n",
      "3 * 4 = 12\n",
      "3 * 5 = 15\n",
      "\n",
      "Multiplication table for 4:\n",
      "4 * 1 = 4\n",
      "4 * 2 = 8\n",
      "4 * 3 = 12\n",
      "4 * 4 = 16\n",
      "4 * 5 = 20\n",
      "\n",
      "Multiplication table for 5:\n",
      "5 * 1 = 5\n",
      "5 * 2 = 10\n",
      "5 * 3 = 15\n",
      "5 * 4 = 20\n",
      "5 * 5 = 25\n",
      "\n"
     ]
    }
   ],
   "source": [
    "# Multiplication table\n",
    "for outer in range(1, 6): # outer loop\n",
    "    print(f\"Multiplication table for {outer}:\")\n",
    "    for inner in range(1, 6): # nested inner loop\n",
    "        print(f\"{outer} * {inner} = {outer * inner}\")\n",
    "    print()  # Add a blank line after each row"
   ]
  },
  {
   "cell_type": "markdown",
   "id": "34dd66aa",
   "metadata": {},
   "source": [
    "### Use Cases for Nested Loops\n",
    "\n",
    "Nested loops are useful in various scenarios, such as:\n",
    "\n",
    "1. Matrix operations: When working with matrices, you often need to iterate over each element in a two-dimensional array. Nested loops can help you achieve this.\n",
    "\n",
    "2. Iterating over multiple lists: If you have multiple lists and want to perform operations on each combination of elements, nested loops can be used.\n",
    "\n",
    "3. Games and simulations: Nested loops can be used to create game boards, simulate complex systems, or iterate over multiple levels of data.\n",
    "\n",
    "4. Data processing: When dealing with large datasets, nested loops can help you process and analyze the data by iterating over each element and performing operations.\n",
    "\n",
    "### Best Practices for Using Nested Loops\n",
    "\n",
    "While nested loops can be powerful, it's essential to use them wisely to avoid performance issues and improve readability:\n",
    "\n",
    "1. Minimize nesting: Try to limit the number of nested loops to three levels or less, as excessive nesting can lead to performance degradation and decreased readability.\n",
    "\n",
    "2. Use meaningful variable names: Use clear and descriptive variable names to help distinguish between the outer and inner loops.\n",
    "\n",
    "3. Optimize loop conditions: Ensure that the loop conditions are optimized to minimize unnecessary iterations."
   ]
  },
  {
   "cell_type": "code",
   "execution_count": 23,
   "id": "1027357d",
   "metadata": {},
   "outputs": [
    {
     "name": "stdout",
     "output_type": "stream",
     "text": [
      "Sum of numbers from 1 to 100: 5050\n"
     ]
    }
   ],
   "source": [
    "# Sum numbers from 1 to 100\n",
    "total: int = 0\n",
    "for i in range(1, 101):\n",
    "    total += i\n",
    "print(\"Sum of numbers from 1 to 100:\", total)"
   ]
  },
  {
   "cell_type": "code",
   "execution_count": 24,
   "id": "0acd346a",
   "metadata": {},
   "outputs": [
    {
     "name": "stdout",
     "output_type": "stream",
     "text": [
      "Factors of 24: [1, 2, 3, 4, 6, 8, 12]\n"
     ]
    }
   ],
   "source": [
    "# Find factors of a number\n",
    "num: int = 24\n",
    "factors = []\n",
    "for i in range(1, num):\n",
    "    if num % i == 0:\n",
    "        factors.append(i)\n",
    "print(f\"Factors of {num}: {factors}\")"
   ]
  },
  {
   "cell_type": "markdown",
   "id": "afac662c",
   "metadata": {},
   "source": [
    "# Follow me on LinkedIn for more Tips and News! [Muhammad Shariq](https://www.linkedin.com/in/muhammad---shariq)"
   ]
  }
 ],
 "metadata": {
  "kernelspec": {
   "display_name": "base",
   "language": "python",
   "name": "python3"
  },
  "language_info": {
   "codemirror_mode": {
    "name": "ipython",
    "version": 3
   },
   "file_extension": ".py",
   "mimetype": "text/x-python",
   "name": "python",
   "nbconvert_exporter": "python",
   "pygments_lexer": "ipython3",
   "version": "3.12.7"
  }
 },
 "nbformat": 4,
 "nbformat_minor": 5
}
