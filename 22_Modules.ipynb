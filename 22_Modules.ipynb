{
 "cells": [
  {
   "cell_type": "markdown",
   "id": "31b5827d",
   "metadata": {},
   "source": [
    "# **Python Course | Muhammad Shariq**"
   ]
  },
  {
   "cell_type": "markdown",
   "id": "e7d60267",
   "metadata": {},
   "source": [
    "## Module\n",
    "A module in Python is a file that contains Python code (functions, classes, variables, or even runnable code) and is used to organize and reuse code efficiently.\n",
    "\n",
    "* A module is simply a .py file that can be imported and used in other Python programs.\n",
    "\n",
    "* Modules help keep the code modular, readable, and maintainable.\n",
    "* Python has built-in modules (like math, random, os) and also allows users to create custom modules."
   ]
  },
  {
   "cell_type": "markdown",
   "id": "c2a0b260",
   "metadata": {},
   "source": [
    "### Types of Modules in Python\n",
    "\n",
    "### **1. Built-in Modules (Standard Library)**\n",
    "- Pre-installed modules in Python.\n",
    "- Example: math, random, os, sys\n",
    "\n",
    "#### **Example usage:**"
   ]
  },
  {
   "cell_type": "code",
   "execution_count": 1,
   "id": "5087265a",
   "metadata": {},
   "outputs": [
    {
     "name": "stdout",
     "output_type": "stream",
     "text": [
      "5.0\n"
     ]
    }
   ],
   "source": [
    "import math\n",
    "print(math.sqrt(25)) # Output: 5.0"
   ]
  },
  {
   "cell_type": "markdown",
   "id": "9f3ccc53",
   "metadata": {},
   "source": [
    "### **2. User-Defined Modules (Custom Modules):**\n",
    "- Any Python file (.py) you create can be used as a module\n",
    "\n",
    "#### **Example**:\n",
    "- Create a file called mymodule.py: `(Use VSCode/Cursor on local computer)`"
   ]
  },
  {
   "cell_type": "code",
   "execution_count": null,
   "id": "6adfccb5",
   "metadata": {},
   "outputs": [],
   "source": [
    "def add(a, b):\n",
    "    return a + b"
   ]
  },
  {
   "cell_type": "markdown",
   "id": "dbc26e7d",
   "metadata": {},
   "source": [
    "- Import and use it in another script: `(Use VSCode/Cursor on local computer)`"
   ]
  },
  {
   "cell_type": "code",
   "execution_count": 3,
   "id": "337a0700",
   "metadata": {},
   "outputs": [
    {
     "name": "stdout",
     "output_type": "stream",
     "text": [
      "8\n"
     ]
    }
   ],
   "source": [
    "import mymodule\n",
    "print(mymodule.add(5, 3)) # Output: 8"
   ]
  },
  {
   "cell_type": "markdown",
   "id": "0d73d3e3",
   "metadata": {},
   "source": [
    "### **3. External Modules (Third-Party Libraries)**\n",
    "- Installed via pip `(pip install module_name)`\n",
    "- Example: numpy, pandas, requests\n",
    "- Example usage:"
   ]
  },
  {
   "cell_type": "code",
   "execution_count": null,
   "id": "ca0144e9",
   "metadata": {},
   "outputs": [
    {
     "name": "stdout",
     "output_type": "stream",
     "text": [
      "Requirement already satisfied: requests in c:\\users\\dell\\anaconda3\\lib\\site-packages (2.32.3)\n",
      "Requirement already satisfied: charset-normalizer<4,>=2 in c:\\users\\dell\\anaconda3\\lib\\site-packages (from requests) (3.3.2)\n",
      "Requirement already satisfied: idna<4,>=2.5 in c:\\users\\dell\\anaconda3\\lib\\site-packages (from requests) (3.7)\n",
      "Requirement already satisfied: urllib3<3,>=1.21.1 in c:\\users\\dell\\anaconda3\\lib\\site-packages (from requests) (2.2.3)\n",
      "Requirement already satisfied: certifi>=2017.4.17 in c:\\users\\dell\\anaconda3\\lib\\site-packages (from requests) (2024.8.30)\n",
      "Note: you may need to restart the kernel to use updated packages.\n"
     ]
    }
   ],
   "source": [
    "%pip install requests \n",
    "# Use ! instead of % in command line"
   ]
  },
  {
   "cell_type": "code",
   "execution_count": 8,
   "id": "f3302658",
   "metadata": {},
   "outputs": [
    {
     "name": "stdout",
     "output_type": "stream",
     "text": [
      "200\n"
     ]
    }
   ],
   "source": [
    "import requests\n",
    "\n",
    "response = requests.get(\"https://www.example.com\")\n",
    "print(response.status_code)"
   ]
  },
  {
   "cell_type": "markdown",
   "id": "d1d30970",
   "metadata": {},
   "source": [
    "### **How to Import a Module in Python**\n",
    "Python provides several ways to import modules:\n",
    "\n",
    "#### **1. Basic Import**"
   ]
  },
  {
   "cell_type": "code",
   "execution_count": 9,
   "id": "c22546f5",
   "metadata": {},
   "outputs": [
    {
     "name": "stdout",
     "output_type": "stream",
     "text": [
      "3.141592653589793\n"
     ]
    }
   ],
   "source": [
    "import math\n",
    "print(math.pi)  # Output: 3.141592653589793"
   ]
  },
  {
   "cell_type": "markdown",
   "id": "a43af1a7",
   "metadata": {},
   "source": [
    "#### **2. Import with Alias (as)**"
   ]
  },
  {
   "cell_type": "code",
   "execution_count": 10,
   "id": "a9c862fb",
   "metadata": {},
   "outputs": [
    {
     "name": "stdout",
     "output_type": "stream",
     "text": [
      "[1 2 3]\n"
     ]
    }
   ],
   "source": [
    "import numpy as np\n",
    "print(np.array([1, 2, 3]))"
   ]
  },
  {
   "cell_type": "markdown",
   "id": "8ec9aadd",
   "metadata": {},
   "source": [
    "#### **3. Import Specific Functions or Variables (from ... import ...)**"
   ]
  },
  {
   "cell_type": "code",
   "execution_count": 17,
   "id": "ba9ef3cd",
   "metadata": {},
   "outputs": [
    {
     "name": "stdout",
     "output_type": "stream",
     "text": [
      "4.0\n",
      "3.141592653589793\n"
     ]
    }
   ],
   "source": [
    "from math import sqrt, pi\n",
    "print(sqrt(16))  # Output: 4.0\n",
    "print(pi)        # Output: 3.141592653589793"
   ]
  },
  {
   "cell_type": "code",
   "execution_count": 18,
   "id": "03b2c431",
   "metadata": {},
   "outputs": [
    {
     "name": "stdout",
     "output_type": "stream",
     "text": [
      "4.0\n",
      "3.141592653589793\n"
     ]
    }
   ],
   "source": [
    "from math import sqrt as s, pi as p\n",
    "\n",
    "print(s(16))\n",
    "print(p )"
   ]
  },
  {
   "cell_type": "markdown",
   "id": "74fc4336",
   "metadata": {},
   "source": [
    "#### **4. Import Everything (from module import `*`) (Not recommended for large modules)**  "
   ]
  },
  {
   "cell_type": "code",
   "execution_count": 22,
   "id": "8130a42f",
   "metadata": {},
   "outputs": [
    {
     "name": "stdout",
     "output_type": "stream",
     "text": [
      "0.8414709848078965\n"
     ]
    }
   ],
   "source": [
    "from math import * # wild card\n",
    "print(sin(1))  # Output: 0.0"
   ]
  },
  {
   "cell_type": "code",
   "execution_count": null,
   "id": "3e2360fd",
   "metadata": {},
   "outputs": [],
   "source": [
    "# Case 1: 'import math' (Lazy-loading)\n",
    "\n",
    "import math  # Only loads the module object\n",
    "\n",
    "# No extra memory used until `math.sqrt()` is called.\n",
    "\n",
    "\n",
    "# Case 2: 'from math import *' (Eager-loading)\n",
    "\n",
    "from math import *  # Loads ALL names (pi, sin, cos, sqrt, ...)\n",
    "\n",
    "# Memory usage increases even if you never use `pi` or `sin`."
   ]
  },
  {
   "cell_type": "markdown",
   "id": "89f2ef35",
   "metadata": {},
   "source": [
    "Import Style | Bytecode Impact | Readability | Performance\n",
    "------------ | --------------- | ----------- | -----------\n",
    "import module | ✅ Minimal | ✅ Clear | ✅ Fast\n",
    "from module import *   | ❌ Bigger | ❌ Confusing | ❌ Slower\n",
    "from module import foo | ✅ Lean & Clear  | ✅ Clear     | ✅ Efficient"
   ]
  },
  {
   "cell_type": "markdown",
   "id": "8cc6ce68",
   "metadata": {},
   "source": [
    "### What's Happening in this Namespace Overlap?\n",
    "You're executing:"
   ]
  },
  {
   "cell_type": "code",
   "execution_count": 1,
   "id": "0c7bf4e8",
   "metadata": {},
   "outputs": [
    {
     "name": "stdout",
     "output_type": "stream",
     "text": [
      "3.141592653589793\n"
     ]
    }
   ],
   "source": [
    "from math import *\n",
    "from numpy import *\n",
    "print(pi)  # Which `pi` is being printed? math.pi or numpy.pi?"
   ]
  },
  {
   "cell_type": "markdown",
   "id": "14b7abff",
   "metadata": {},
   "source": [
    "\n",
    "This is a **classic namespace collision** caused by wildcard imports (`from ... import *`). Here’s what Python does:\n",
    "\n",
    "----------\n",
    "\n",
    "### **How Python Resolves the Conflict**\n",
    "\n",
    "-   `from math import *` → Dumps **all** of `math`’s names (e.g., `pi`, `sin`, `sqrt`) into the global namespace.\n",
    "-   `from numpy import *` → Dumps **all** of `numpy`’s names into the same namespace, **overwriting any duplicates**.\n",
    "\n",
    "#### **Which `pi` Wins?**\n",
    "\n",
    "-   The **last imported `pi`** takes precedence (in this case, `numpy.pi`).\n",
    "-   So, `print(pi)` will output `numpy.pi` (≈ `3.141592653589793`), **not** `math.pi`.\n",
    "\n",
    "----------\n"
   ]
  },
  {
   "cell_type": "markdown",
   "id": "858d2ed1",
   "metadata": {},
   "source": [
    "## **Advantages of Using Modules**\n",
    "\n",
    "✔ **Code Reusability** – Write once, use anywhere.\n",
    "\n",
    "✔ **Organization** – Keep related functions together.\n",
    "\n",
    "✔ **Namespace Management** – Prevents variable conflicts.\n",
    "\n",
    "✔ **Faster Development** – Use existing libraries instead of writing everything from scratch."
   ]
  },
  {
   "cell_type": "markdown",
   "id": "aa1fafa0",
   "metadata": {},
   "source": [
    "# Follow me on LinkedIn for more Tips and News! [Muhammad Shariq](https://www.linkedin.com/in/muhammad---shariq)"
   ]
  }
 ],
 "metadata": {
  "kernelspec": {
   "display_name": "base",
   "language": "python",
   "name": "python3"
  },
  "language_info": {
   "codemirror_mode": {
    "name": "ipython",
    "version": 3
   },
   "file_extension": ".py",
   "mimetype": "text/x-python",
   "name": "python",
   "nbconvert_exporter": "python",
   "pygments_lexer": "ipython3",
   "version": "3.12.7"
  }
 },
 "nbformat": 4,
 "nbformat_minor": 5
}
