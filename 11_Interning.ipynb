{
 "cells": [
  {
   "cell_type": "markdown",
   "id": "da28cd3b",
   "metadata": {},
   "source": [
    "# **Python Course | Muhammad Shariq**"
   ]
  },
  {
   "cell_type": "markdown",
   "id": "def85def",
   "metadata": {},
   "source": [
    "## Interning in Python\n",
    "\n",
    "### 1. What is Interning?\n",
    "Interning is a process where Python stores only one copy of certain strings in memory and reuses them whenever the same string is used again. This is done to save memory and speed up comparisons.\n",
    "\n",
    "### 2. Which Strings are Interned?\n",
    "- Short strings: Usually strings that are 20 characters or fewer.\n",
    "- Identifiers: Strings that look like variable names (e.g., \"x\", \"my_var\").\n",
    "- Explicit interning: You can manually intern a string using the sys.intern() function.\n",
    "\n",
    "### 3. Manual Interning:\n"
   ]
  },
  {
   "cell_type": "code",
   "execution_count": 4,
   "id": "944be438",
   "metadata": {},
   "outputs": [
    {
     "name": "stdout",
     "output_type": "stream",
     "text": [
      "True\n"
     ]
    }
   ],
   "source": [
    "import sys\n",
    "a = sys.intern(\"hello world!\")\n",
    "b = sys.intern(\"hello world!\")\n",
    "\n",
    "print(a is b) # True (manually interned) make sure strings are same!"
   ]
  },
  {
   "cell_type": "markdown",
   "id": "e7f8b0fe",
   "metadata": {},
   "source": [
    "## String Literal Pool in Python\n",
    "\n",
    "### 1. What is the String Literal Pool?\n",
    "The string literal pool is a cache of string literals that appear in the code. When Python encounters a string literal (e.g., \"hello\"), it checks the pool to see if the string already exists. If it does, Python reuses the existing string instead of creating a new one.\n",
    "\n",
    "### 2. How Does It Work?\n",
    "- The pool is used for string literals explicitly written in the code (e.g., \"hello\", \"world\").\n",
    "- It does not apply to dynamically created strings (e.g., \"hello\" + \"world\").\n"
   ]
  },
  {
   "cell_type": "code",
   "execution_count": 5,
   "id": "06e5ab96",
   "metadata": {},
   "outputs": [
    {
     "name": "stdout",
     "output_type": "stream",
     "text": [
      "True\n"
     ]
    }
   ],
   "source": [
    "a = \"hello\"\n",
    "b = \"hello\"\n",
    "print(a is b) # True (both refer to the same string in the pool)"
   ]
  },
  {
   "cell_type": "markdown",
   "id": "933cb270",
   "metadata": {},
   "source": [
    "## String Interning vs String Pool:\n",
    "String interning and string pool are two concepts that are often confused with each other, but they are not exactly the same thing.\n",
    "\n",
    "### String Interning:\n",
    "String interning is a process where the compiler or interpreter checks if a string already exists in memory before creating a new one. If the string already exists, the compiler or interpreter returns a reference to the existing string instead of creating a new one. This process is also known as \"string caching\" or \"string sharing\".\n",
    "\n",
    "### String Pool:\n",
    "A string pool, on the other hand, is a memory space where all the strings in a program are stored. When a string is created, it is added to the string pool. The string pool is used to manage the memory for string objects.\n",
    "\n",
    "### Here are the key differences between string interning and string pool:\n",
    "1. Scope: String interning is a process that can be applied to any type of object, not just strings. String pool, on the other hand, is a memory space specifically designed for strings.\n",
    "\n",
    "2. Purpose: The purpose of string interning is to optimize memory usage by avoiding duplicate objects. The purpose of a string pool is to manage the memory for string objects.\n",
    "\n",
    "3. Implementation: String interning can be implemented using a hash table or a dictionary, where the keys are the strings and the values are the corresponding string objects. A string pool, on the other hand, is typically implemented as a contiguous block of memory where all the strings are stored.\n",
    "\n",
    "4. Behavior: String interning can be enabled or disabled depending on the language or framework. A string pool, on the other hand, is typically always enabled for strings.\n",
    "\n",
    "### Process = Interning\n",
    "### Memory Space = Pool of String Literals"
   ]
  },
  {
   "cell_type": "markdown",
   "id": "de33330c",
   "metadata": {},
   "source": [
    "### When Are Strings Not Interned or Pooled?\n",
    "1. Long Strings: Strings longer than 20 characters are usually not interned automatically."
   ]
  },
  {
   "cell_type": "code",
   "execution_count": 6,
   "id": "d3c303ab",
   "metadata": {},
   "outputs": [
    {
     "name": "stdout",
     "output_type": "stream",
     "text": [
      "False\n",
      "2733575608784\n",
      "2733575611024\n"
     ]
    }
   ],
   "source": [
    "a = \"this is a very long string\"\n",
    "b = \"this is a very long string\"\n",
    "\n",
    "print(a is b) # False (not interned)\n",
    "print(id(a))\n",
    "print(id(b))"
   ]
  },
  {
   "cell_type": "code",
   "execution_count": 7,
   "id": "b0530465",
   "metadata": {},
   "outputs": [
    {
     "name": "stdout",
     "output_type": "stream",
     "text": [
      "True\n",
      "2733575597840\n",
      "2733575597840\n"
     ]
    }
   ],
   "source": [
    "import sys\n",
    "\n",
    "a = sys.intern(\"this is a very long string\")\n",
    "b = sys.intern(\"this is a very long string\")\n",
    "\n",
    "print(a is b) # True (manually interned)\n",
    "print(id(a))\n",
    "print(id(b))"
   ]
  },
  {
   "cell_type": "markdown",
   "id": "d76c2bc1",
   "metadata": {},
   "source": [
    "2. Dynamically Created Strings: Strings created at runtime (e.g., concatenation) are not interned or pooled."
   ]
  },
  {
   "cell_type": "code",
   "execution_count": 8,
   "id": "d840bbfb",
   "metadata": {},
   "outputs": [
    {
     "name": "stdout",
     "output_type": "stream",
     "text": [
      "c is d =  False\n",
      "helloworld  - id(c) 2733575815536\n",
      "helloworld  - id(d) 2733575826800\n"
     ]
    }
   ],
   "source": [
    "a = \"hello\"\n",
    "b = \"world\"\n",
    "c = a + b  # Dynamically created string\n",
    "d = \"helloworld\"\n",
    "print(\"c is d = \", c is d)  # False (not interned or pooled)\n",
    "print(c, \" - id(c)\", id(c))\n",
    "print(d, \" - id(d)\", id(d))"
   ]
  },
  {
   "cell_type": "code",
   "execution_count": 9,
   "id": "919f533e",
   "metadata": {},
   "outputs": [
    {
     "name": "stdout",
     "output_type": "stream",
     "text": [
      "c is c1 =  False\n",
      "helloworld  - id(c1) 2733575824880\n",
      "helloworld  - id(c)  2733575815536\n",
      "is content same =  True\n"
     ]
    }
   ],
   "source": [
    "c1 = a + b\n",
    "print(\"c is c1 = \",  c is c1)\n",
    "\n",
    "print(c1, \" - id(c1)\", id(c1))\n",
    "print(c,  \" - id(c) \", id(c))\n",
    "\n",
    "print(\"is content same = \", c == c1)"
   ]
  },
  {
   "cell_type": "code",
   "execution_count": 10,
   "id": "0be3148b",
   "metadata": {},
   "outputs": [
    {
     "data": {
      "text/plain": [
       "['capitalize',\n",
       " 'casefold',\n",
       " 'center',\n",
       " 'count',\n",
       " 'encode',\n",
       " 'endswith',\n",
       " 'expandtabs',\n",
       " 'find',\n",
       " 'format',\n",
       " 'format_map',\n",
       " 'index',\n",
       " 'isalnum',\n",
       " 'isalpha',\n",
       " 'isascii',\n",
       " 'isdecimal',\n",
       " 'isdigit',\n",
       " 'isidentifier',\n",
       " 'islower',\n",
       " 'isnumeric',\n",
       " 'isprintable',\n",
       " 'isspace',\n",
       " 'istitle',\n",
       " 'isupper',\n",
       " 'join',\n",
       " 'ljust',\n",
       " 'lower',\n",
       " 'lstrip',\n",
       " 'maketrans',\n",
       " 'partition',\n",
       " 'removeprefix',\n",
       " 'removesuffix',\n",
       " 'replace',\n",
       " 'rfind',\n",
       " 'rindex',\n",
       " 'rjust',\n",
       " 'rpartition',\n",
       " 'rsplit',\n",
       " 'rstrip',\n",
       " 'split',\n",
       " 'splitlines',\n",
       " 'startswith',\n",
       " 'strip',\n",
       " 'swapcase',\n",
       " 'title',\n",
       " 'translate',\n",
       " 'upper',\n",
       " 'zfill']"
      ]
     },
     "execution_count": 10,
     "metadata": {},
     "output_type": "execute_result"
    }
   ],
   "source": [
    "# prompt: print list of str functions using dir(), dont show function starting with\"__\"\n",
    "\n",
    "# Get the list of string methods\n",
    "string_methods: str = dir(str)\n",
    "\n",
    "# Filter out methods starting with \"__\"\n",
    "filtered_methods: str = [method for method in string_methods if not method.startswith(\"__\")]\n",
    "\n",
    "# Print the filtered list\n",
    "filtered_methods"
   ]
  },
  {
   "cell_type": "markdown",
   "id": "e48cc753",
   "metadata": {},
   "source": [
    "### String Repetition\n",
    "\n",
    "String repetition in Python is a straightforward way to create a new string by concatenating multiple copies of an existing string. You achieve this using the asterisk (*) operator.\n",
    "\n",
    "Here's a concise breakdown:\n",
    "\n",
    "- The Basics:\n",
    "    - You take a string and multiply it by an integer.\n",
    "    - The result is a new string containing the original string repeated the specified number of times.\n",
    "\n",
    "- Example:\n",
    "    - \"abc\" * 3 results in \"abcabcabc\".\n",
    "    - \"Python! \" * 2 results in \"Python! Python! \".\n",
    "\n",
    "- Key Points:\n",
    "    - The * operator requires an integer as the multiplier.\n",
    "    - Multiplying a string by zero results in an empty string.\n",
    "    - This is a very efficient way to create a longer string when you need repeating patterns.\n",
    "\n",
    "- Use Cases:\n",
    "    - Creating visual separators (e.g., \"-\" * 20).\n",
    "    - Generating repetitive patterns for text-based displays.\n",
    "    - Quickly building strings with repeated elements.\n",
    "\n",
    "---"
   ]
  },
  {
   "cell_type": "code",
   "execution_count": 11,
   "id": "ec8d39b9",
   "metadata": {},
   "outputs": [
    {
     "name": "stdout",
     "output_type": "stream",
     "text": [
      "Original string: Hello\n",
      "Repeated string: HelloHelloHello\n",
      "------------------------------\n",
      "* * * * * \n",
      "Empty string: ''\n",
      "*\n",
      "**\n",
      "***\n",
      "****\n",
      "*****\n"
     ]
    }
   ],
   "source": [
    "# String repetition examples\n",
    "\n",
    "base_string = \"Hello\"\n",
    "repetition_count = 3\n",
    "\n",
    "repeated_string = base_string * repetition_count\n",
    "\n",
    "print(f\"Original string: {base_string}\")\n",
    "print(f\"Repeated string: {repeated_string}\")\n",
    "\n",
    "# Using repetition for visual separators\n",
    "separator = \"-\" * 30\n",
    "print(separator)\n",
    "\n",
    "# Repeating with different strings and counts\n",
    "pattern = \"* \"\n",
    "repeated_pattern = pattern * 5\n",
    "print(repeated_pattern)\n",
    "\n",
    "# Repeating zero times\n",
    "empty_string = \"Test\" * 0\n",
    "print(f\"Empty string: '{empty_string}'\")\n",
    "\n",
    "#using string repetition in a loop.\n",
    "for i in range(1,6):\n",
    "  print(\"*\"*i)"
   ]
  },
  {
   "cell_type": "markdown",
   "id": "f8d35686",
   "metadata": {},
   "source": [
    "### Explanation:\n",
    "1. Basic Repetition:\n",
    "    - We define a base_string and a repetition_count.\n",
    "    - The * operator multiplies the string by the count, creating repeated_string.\n",
    "    - f-strings are used to print the results.\n",
    "\n",
    "2. Visual Separators:\n",
    "    - We create a separator line using \"-\" * 30.\n",
    "\n",
    "3. Different Patterns:\n",
    "    - We demostrate creating a different repeating pattern.\n",
    "\n",
    "4. Zero Repetition:\n",
    "    - Demonstrates that multiplying by zero results in an empty string.\n",
    "\n",
    "5. Loop Example\n",
    "    - A for loop is used to print an increasing number of asterisks on each line, creating a triangle like pattern."
   ]
  },
  {
   "cell_type": "markdown",
   "id": "80834a39",
   "metadata": {},
   "source": [
    "### Comparision Operators for Strings in Python\n",
    "In Python, comparison operators work with strings based on lexicographical order (dictionary order), which follows the Unicode values of characters.\n",
    "\n",
    "### Examples of String Comparisons"
   ]
  },
  {
   "cell_type": "code",
   "execution_count": 12,
   "id": "8f695f50",
   "metadata": {},
   "outputs": [
    {
     "name": "stdout",
     "output_type": "stream",
     "text": [
      "str1 == str2 =  False\n",
      "str1 != str2 =  True\n",
      "str1 > str2  =  False\n",
      "str1 < str2  =  True\n"
     ]
    }
   ],
   "source": [
    "# Define two strings\n",
    "str1 = \"apple\"\n",
    "str2 = \"banana\"\n",
    "\n",
    "print(\"str1 == str2 = \",str1 == str2)  # False (because \"apple\" is not equal to \"banana\")\n",
    "print(\"str1 != str2 = \",str1 != str2)  # True  (because \"apple\" is different from \"banana\")\n",
    "print(\"str1 > str2  = \", str1 > str2)   # False (because \"apple\" comes before \"banana\" in dictionary order)\n",
    "print(\"str1 < str2  = \", str1 < str2)   # True  (because \"apple\" comes before \"banana\")"
   ]
  },
  {
   "cell_type": "markdown",
   "id": "11d4a137",
   "metadata": {},
   "source": [
    "### How String Comparison Works?\n",
    "- Python compares strings character by character using their Unicode values.\n",
    "\n",
    "- 'a' < 'b' because the Unicode value of 'a' (97) is smaller than that of 'b' (98).\n",
    "\n",
    "- 'apple' < 'banana' → 'a' < 'b', so Python stops there.\n",
    "\n",
    "### Comparing Strings with Different Cases"
   ]
  },
  {
   "cell_type": "code",
   "execution_count": 13,
   "id": "53b596bb",
   "metadata": {},
   "outputs": [
    {
     "name": "stdout",
     "output_type": "stream",
     "text": [
      "\"Apple\" > \"apple\"   =  False\n",
      "\"apple\" == \"APPLE\") =  False\n",
      "\"abc\" < \"abd\"       =  True\n"
     ]
    }
   ],
   "source": [
    "print('\"Apple\" > \"apple\"   = ', \"Apple\" > \"apple\")  # False ('A' has a smaller Unicode value than 'a')\n",
    "print('\"apple\" == \"APPLE\") = ', \"apple\" == \"APPLE\") # False (case-sensitive)\n",
    "print('\"abc\" < \"abd\"       = ', \"abc\" < \"abd\")      # True ('c' < 'd')"
   ]
  },
  {
   "cell_type": "markdown",
   "id": "70e12801",
   "metadata": {},
   "source": [
    "### Using Comparison Operators in an If Statement"
   ]
  },
  {
   "cell_type": "code",
   "execution_count": 14,
   "id": "1b3ecba2",
   "metadata": {},
   "outputs": [
    {
     "name": "stdout",
     "output_type": "stream",
     "text": [
      "mango comes after apple in alphabetical order\n"
     ]
    }
   ],
   "source": [
    "word = \"mango\"\n",
    "\n",
    "if word > \"apple\":\n",
    "    print(f\"{word} comes after apple in alphabetical order\")\n",
    "else:\n",
    "    print(f\"{word} comes before apple in alphabetical order\")"
   ]
  },
  {
   "cell_type": "markdown",
   "id": "19323820",
   "metadata": {},
   "source": [
    "# Follow me on LinkedIn for more Tips and News! [Muhammad Shariq](https://www.linkedin.com/in/muhammad---shariq)"
   ]
  }
 ],
 "metadata": {
  "kernelspec": {
   "display_name": "base",
   "language": "python",
   "name": "python3"
  },
  "language_info": {
   "codemirror_mode": {
    "name": "ipython",
    "version": 3
   },
   "file_extension": ".py",
   "mimetype": "text/x-python",
   "name": "python",
   "nbconvert_exporter": "python",
   "pygments_lexer": "ipython3",
   "version": "3.12.7"
  }
 },
 "nbformat": 4,
 "nbformat_minor": 5
}
