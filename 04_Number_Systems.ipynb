{
 "cells": [
  {
   "cell_type": "markdown",
   "id": "1304cc9b",
   "metadata": {},
   "source": [
    "# Python Course | Muhammad Shariq"
   ]
  },
  {
   "cell_type": "markdown",
   "id": "5c1bec50",
   "metadata": {},
   "source": [
    "## Number Systems\n",
    "- ### ASCII:\n",
    "    \n",
    "    The (American Standard Code for Information Interchange) is a way to represent text using numbers.\n",
    "    Each letter, number, or symbol is given a unique number from 0 to 127.\n",
    "    \n",
    "    For Example:\n",
    "    - A = 65\n",
    "    - a = 97\n",
    "    - 0 = 48"
   ]
  },
  {
   "cell_type": "markdown",
   "id": "374ac2ae",
   "metadata": {},
   "source": [
    "- ### Decimal\n",
    "\n",
    "    The Decimal number system is the number system we use everyday.\n",
    "    - It has 10 digits: 0, 1, 2, 3, 4, 5, 6, 7, 8, 9\n",
    "    - It is a base-10 system\n",
    "    - Each digits's value depends on its position (place value)\n",
    "\n",
    "    For example, in the number 345:\n",
    "    - 3 is in the hundreds place -> 3 x 100\n",
    "    - 4 is in the tens place -> 4 x 10\n",
    "    - 5 is in the ones place -> 5 x 1\n",
    "    So, 345 = 300 + 40 + 5\n",
    "\n",
    "    This system is also called the base-10 number system because it's based on powers of 10."
   ]
  },
  {
   "cell_type": "markdown",
   "id": "94202119",
   "metadata": {},
   "source": [
    "- ### Hexadecimal\n",
    "\n",
    "    - It uses 16 symbols:\n",
    "\n",
    "        0, 1, 2, 3, 4, 5, 6, 7, 8, 9, A, B, C, D, E, F\n",
    "\n",
    "        (A = 10, B = 11, ... F = 15)\n",
    "    - It is base-16, meaning each digit's place value is a power of 16.\n",
    "    - Commonly used in computers, especially for colors and memory addresses.\n",
    "    Example: #FF0000 is red in web colors. "
   ]
  },
  {
   "cell_type": "markdown",
   "id": "0dd9d46b",
   "metadata": {},
   "source": [
    "- ### Octal\n",
    "\n",
    "    - Uses 8 digits: 0, 1, 2, 3, 4, 5, 6, 7\n",
    "    - It is base-8, meaning each digit's place value is a power of 8.\n",
    "    - Mostly used in computer systems (earlier times, like Unix file permissions)."
   ]
  },
  {
   "cell_type": "markdown",
   "id": "fda97702",
   "metadata": {},
   "source": [
    "- ### Binary\n",
    "\n",
    "    - Uses only 2 digits 0 and 1\n",
    "    - It is the language of computers -- all data is stored in binary form.\n",
    "    - Each digit (bit) represents of 2."
   ]
  },
  {
   "cell_type": "markdown",
   "id": "b6b33bbe",
   "metadata": {},
   "source": [
    "-----------------------------------------------------------------------------"
   ]
  },
  {
   "cell_type": "markdown",
   "id": "37a986f5",
   "metadata": {},
   "source": [
    "## What is a Base in Number Systems?\n",
    "A base (or radix) in a number system refers to the number of unique digits (including zero) used to represent numbers. It defines how place values are assigned to digits in a numeral."
   ]
  },
  {
   "cell_type": "code",
   "execution_count": 1,
   "id": "3ceaf762",
   "metadata": {},
   "outputs": [
    {
     "name": "stdout",
     "output_type": "stream",
     "text": [
      "<class 'bytearray'> Bytearray:  bytearray(b'ABCD')\n",
      "65\n",
      "A\n",
      "Empty bytearray:  bytearray(b'')\n"
     ]
    }
   ],
   "source": [
    "byte_array: bytearray = bytearray({65, 66, 67, 68}) # 65 = A, 66 = B ...\n",
    "\n",
    "print(type(byte_array), \"Bytearray: \", byte_array)\n",
    "\n",
    "print(byte_array[0]) # A\n",
    "\n",
    "print(chr(byte_array[0])), # 0 = 65 = A\n",
    "\n",
    "print(\"Empty bytearray: \", bytearray())"
   ]
  },
  {
   "cell_type": "markdown",
   "id": "c2ef8186",
   "metadata": {},
   "source": [
    "-----------------------------------------------------------------------------"
   ]
  },
  {
   "cell_type": "markdown",
   "id": "7686edb9",
   "metadata": {},
   "source": [
    "### What is UTF-8\n",
    "UTF-8 is a way to store text on a computer so that it can handle all languages and symbols using only numbers.\n",
    "It is the most common text format used today because it is fast, small, and universal.\n",
    "\n",
    "When you type \"A\", the computer saves it as the number 65 in UTF-8.\n",
    "When you type \"😊\", UTF-8 saves it using a few numbers together, like 240, 159, 152, 138.\n",
    "\n",
    "So, small letters use small space, and big symbols use more space — that's how UTF-8 is smart!"
   ]
  },
  {
   "cell_type": "code",
   "execution_count": 3,
   "id": "bc67a89b",
   "metadata": {},
   "outputs": [
    {
     "name": "stdout",
     "output_type": "stream",
     "text": [
      "Decoded string:  ABCD\n"
     ]
    }
   ],
   "source": [
    "byte_array: bytearray = bytearray([65, 66, 67, 68])\n",
    "\n",
    "# Converting the entire bytearray to a string using decode()\n",
    "\n",
    "print(\"Decoded string: \", byte_array.decode('utf-8')) "
   ]
  },
  {
   "cell_type": "markdown",
   "id": "74b08206",
   "metadata": {},
   "source": [
    "### Memoryview (mmoryview)\n",
    "The memoryview object in Python provides an efficient way to work with binary data by allowing you to access and manipulate the memory of another object (like bytes or bytearray) without copying the data. This is particularly useful when working with large datasets or binary streams, as it avoids the overhead of creating additional copies."
   ]
  },
  {
   "cell_type": "code",
   "execution_count": 4,
   "id": "7a35d349",
   "metadata": {},
   "outputs": [
    {
     "name": "stdout",
     "output_type": "stream",
     "text": [
      "<class 'memoryview'> Memory View:  <memory at 0x00000197F681E080>\n",
      "b'Hello'\n",
      "<memory at 0x00000197F681DF00>\n"
     ]
    }
   ],
   "source": [
    "mem_view: memoryview = memoryview(b\"Hello World\")\n",
    "\n",
    "print(type(mem_view), \"Memory View: \", mem_view)\n",
    "\n",
    "print(bytes(mem_view[0:5])) # casting to bytes to show output rather than memory address\n",
    "\n",
    "print(mem_view[6:11])"
   ]
  },
  {
   "cell_type": "markdown",
   "id": "b0b7c302",
   "metadata": {},
   "source": [
    "-----------------------------------------------------------------------------"
   ]
  },
  {
   "cell_type": "markdown",
   "id": "29b2c73a",
   "metadata": {},
   "source": [
    "### None Data Type in Python\n",
    "In Python, None is a special data type that represents the absence of a value or a null object reference. It is a singleton object, meaning that there is only one instance of None in the entire Python environment.\n",
    "\n",
    "- No value: None represents the absence of a value or a null object reference."
   ]
  },
  {
   "cell_type": "code",
   "execution_count": 6,
   "id": "8ecf72b6",
   "metadata": {},
   "outputs": [
    {
     "name": "stdout",
     "output_type": "stream",
     "text": [
      "<class 'NoneType'>\n",
      "value of x = None\n",
      "x == y =  True\n",
      "id(x) =  140730433877968\n",
      "id(y) =  140730433877968\n",
      "id(z) =  140730433877968\n",
      "x is y =  True\n",
      "x is z =  True\n",
      "id(x) is id(z) =  False\n",
      "id(x) == id(z) =  True\n"
     ]
    }
   ],
   "source": [
    "x: str = None\n",
    "y: str = None\n",
    "z: str = x\n",
    "\n",
    "#display the data type of x:\n",
    "print(type(x))\n",
    "\n",
    "print(\"value of x = \" + str(x) )\n",
    "\n",
    "print(\"x == y = \", x == y)\n",
    "\n",
    "print(\"id(x) = \", id(x))\n",
    "\n",
    "print(\"id(y) = \", id(y))\n",
    "\n",
    "print(\"id(z) = \", id(z))\n",
    "\n",
    "print(\"x is y = \", x is y)\n",
    "\n",
    "print(\"x is z = \", x is z)\n",
    "\n",
    "print(\"id(x) is id(z) = \", id(x) is id(z)) # False :( why? you will get the answer in topic 'Integer Literals in Python'\n",
    "\n",
    "print(\"id(x) == id(z) = \", id(x) == id(z)) # True\n",
    "\n",
    "\n",
    "# In Python, `==` is the equality operator, which checks if the values of two objects are equal.\n",
    "# On the other hand, `is` is the identity operator, which checks if two objects are the same object in memory.\n"
   ]
  },
  {
   "cell_type": "code",
   "execution_count": 7,
   "id": "67afe9a0",
   "metadata": {},
   "outputs": [
    {
     "name": "stdout",
     "output_type": "stream",
     "text": [
      "None is None            =  True\n",
      "None == None            =  True\n",
      "None == x               =  True\n",
      "None is x               =  True\n",
      "id(None) is id(None)    =  False\n"
     ]
    }
   ],
   "source": [
    "print(\"None is None            = \", None is None) # True\n",
    "print(\"None == None            = \", None == None) # True\n",
    "print(\"None == x               = \", None == x)\n",
    "print(\"None is x               = \", None is x)\n",
    "print(\"id(None) is id(None)    = \", id(None) is id(None)) # 'is' check memory space sharing\n",
    "#If number is out of integer literal range -5 to 256 then even the same number are considered as seprate object"
   ]
  },
  {
   "cell_type": "markdown",
   "id": "423891d4",
   "metadata": {},
   "source": [
    "-----------------------------------------------------------------------------"
   ]
  },
  {
   "cell_type": "markdown",
   "id": "d0f6f570",
   "metadata": {},
   "source": [
    "### Id Function id() in Python\n",
    "The id() function in Python returns the unique identifier for an object. This identifier is a small integer that is unique among all objects currently in existence of your python environment.\n",
    "\n",
    "- Check object equality: By checking the id() of two objects, you can determine if they are the same object in memory.\n",
    "- Debugging: The id() function can be useful for debugging purposes, such as identifying which object is being referenced by a variable."
   ]
  },
  {
   "cell_type": "code",
   "execution_count": 8,
   "id": "838ca747",
   "metadata": {},
   "outputs": [
    {
     "name": "stdout",
     "output_type": "stream",
     "text": [
      "Variable x, y & z have 'None' value, as we know that 'None' is a singleton object,\n",
      "meaning that there is only one instance of `None` in the entire Python environment.\n",
      "So the id(x), id(y) & id(z) represents the same object id in memory.\n",
      "\n",
      "ID of variable x  = 140730433877968\n",
      "ID of variable y  = 140730433877968\n",
      "ID of variable z  = 140730433877968\n",
      "\n",
      "Is variable x & y shares the same memory space? \n",
      "The answer is: True\n"
     ]
    }
   ],
   "source": [
    "print(\"\"\"Variable x, y & z have 'None' value, as we know that 'None' is a singleton object,\n",
    "meaning that there is only one instance of `None` in the entire Python environment.\n",
    "So the id(x), id(y) & id(z) represents the same object id in memory.\\n\"\"\")\n",
    "\n",
    "x: str = None\n",
    "y: str = None\n",
    "z: str = x\n",
    "\n",
    "print(\"ID of variable x  = \" + str(id(x)))\n",
    "print(\"ID of variable y  = \" + str(id(y)))\n",
    "print(\"ID of variable z  = \" + str(id(z)))\n",
    "\n",
    "print(\"\\nIs variable x & y shares the same memory space? \\nThe answer is: \" + str(id(x) == id(y)))"
   ]
  },
  {
   "cell_type": "markdown",
   "id": "79a8a368",
   "metadata": {},
   "source": [
    "False in a boolean context: None is considered False in a boolean context, meaning that it can be used in conditional statements."
   ]
  },
  {
   "cell_type": "code",
   "execution_count": 9,
   "id": "dd12e9d0",
   "metadata": {},
   "outputs": [
    {
     "name": "stdout",
     "output_type": "stream",
     "text": [
      "else block: As None is considered False, so this line of code will execute\n"
     ]
    }
   ],
   "source": [
    "if(None):\n",
    "  print(\"if block: This line of code will not execute because in Python 'None' is considered False\")\n",
    "else:\n",
    "  print(\"else block: As None is considered False, so this line of code will execute\")"
   ]
  },
  {
   "cell_type": "markdown",
   "id": "b1c63217",
   "metadata": {},
   "source": [
    "# Follow me on LinkedIn for more Tips and News! [Muhammad Shariq](https://www.linkedin.com/in/muhammad---shariq)"
   ]
  }
 ],
 "metadata": {
  "kernelspec": {
   "display_name": "base",
   "language": "python",
   "name": "python3"
  },
  "language_info": {
   "codemirror_mode": {
    "name": "ipython",
    "version": 3
   },
   "file_extension": ".py",
   "mimetype": "text/x-python",
   "name": "python",
   "nbconvert_exporter": "python",
   "pygments_lexer": "ipython3",
   "version": "3.12.7"
  }
 },
 "nbformat": 4,
 "nbformat_minor": 5
}
