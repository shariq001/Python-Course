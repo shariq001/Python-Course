{
 "cells": [
  {
   "cell_type": "markdown",
   "id": "1304cc9b",
   "metadata": {},
   "source": [
    "# Python Course | Muhammad Shariq"
   ]
  },
  {
   "cell_type": "markdown",
   "id": "5c1bec50",
   "metadata": {},
   "source": [
    "## Number Systems\n",
    "- ### ASCII:\n",
    "    \n",
    "    The (American Standard Code for Information Interchange) is a way to represent text using numbers.\n",
    "    Each letter, number, or symbol is given a unique number from 0 to 127.\n",
    "    \n",
    "    For Example:\n",
    "    - A = 65\n",
    "    - a = 97\n",
    "    - 0 = 48"
   ]
  },
  {
   "cell_type": "markdown",
   "id": "374ac2ae",
   "metadata": {},
   "source": [
    "- ### Decimal\n",
    "\n",
    "    The Decimal number system is the number system we use everyday.\n",
    "    - It has 10 digits: 0, 1, 2, 3, 4, 5, 6, 7, 8, 9\n",
    "    - It is a base-10 system\n",
    "    - Each digits's value depends on its position (place value)\n",
    "\n",
    "    For example, in the number 345:\n",
    "    - 3 is in the hundreds place -> 3 x 100\n",
    "    - 4 is in the tens place -> 4 x 10\n",
    "    - 5 is in the ones place -> 5 x 1\n",
    "    So, 345 = 300 + 40 + 5\n",
    "\n",
    "    This system is also called the base-10 number system because it's based on powers of 10."
   ]
  },
  {
   "cell_type": "markdown",
   "id": "94202119",
   "metadata": {},
   "source": [
    "- ### Hexadecimal\n",
    "\n",
    "    - It uses 16 symbols:\n",
    "\n",
    "        0, 1, 2, 3, 4, 5, 6, 7, 8, 9, A, B, C, D, E, F\n",
    "\n",
    "        (A = 10, B = 11, ... F = 15)\n",
    "    - It is base-16, meaning each digit's place value is a power of 16.\n",
    "    - Commonly used in computers, especially for colors and memory addresses.\n",
    "    Example: #FF0000 is red in web colors. "
   ]
  },
  {
   "cell_type": "markdown",
   "id": "0dd9d46b",
   "metadata": {},
   "source": [
    "- ### Octal\n",
    "\n",
    "    - Uses 8 digits: 0, 1, 2, 3, 4, 5, 6, 7\n",
    "    - It is base-8, meaning each digit's place value is a power of 8.\n",
    "    - Mostly used in computer systems (earlier times, like Unix file permissions)."
   ]
  },
  {
   "cell_type": "markdown",
   "id": "fda97702",
   "metadata": {},
   "source": [
    "- ### Binary\n",
    "\n",
    "    - Uses only 2 digits 0 and 1\n",
    "    - It is the language of computers -- all data is stored in binary form.\n",
    "    - Each digit (bit) represents of 2."
   ]
  },
  {
   "cell_type": "markdown",
   "id": "b6b33bbe",
   "metadata": {},
   "source": [
    "-----------------------------------------------------------------------------"
   ]
  },
  {
   "cell_type": "markdown",
   "id": "37a986f5",
   "metadata": {},
   "source": [
    "## What is a Base in Number Systems?\n",
    "A base (or radix) in a number system refers to the number of unique digits (including zero) used to represent numbers. It defines how place values are assigned to digits in a numeral."
   ]
  },
  {
   "cell_type": "code",
   "execution_count": 1,
   "id": "3ceaf762",
   "metadata": {},
   "outputs": [
    {
     "name": "stdout",
     "output_type": "stream",
     "text": [
      "<class 'bytearray'> Bytearray:  bytearray(b'ABCD')\n",
      "65\n",
      "A\n",
      "Empty bytearray:  bytearray(b'')\n"
     ]
    }
   ],
   "source": [
    "byte_array: bytearray = bytearray({65, 66, 67, 68}) # 65 = A, 66 = B ...\n",
    "\n",
    "print(type(byte_array), \"Bytearray: \", byte_array)\n",
    "\n",
    "print(byte_array[0]) # A\n",
    "\n",
    "print(chr(byte_array[0])), # 0 = 65 = A\n",
    "\n",
    "print(\"Empty bytearray: \", bytearray())"
   ]
  }
 ],
 "metadata": {
  "kernelspec": {
   "display_name": "base",
   "language": "python",
   "name": "python3"
  },
  "language_info": {
   "codemirror_mode": {
    "name": "ipython",
    "version": 3
   },
   "file_extension": ".py",
   "mimetype": "text/x-python",
   "name": "python",
   "nbconvert_exporter": "python",
   "pygments_lexer": "ipython3",
   "version": "3.12.7"
  }
 },
 "nbformat": 4,
 "nbformat_minor": 5
}
