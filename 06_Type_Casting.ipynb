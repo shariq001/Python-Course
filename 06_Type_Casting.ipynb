{
 "cells": [
  {
   "cell_type": "markdown",
   "id": "1af34fe9",
   "metadata": {},
   "source": [
    "# **Python Course | Muhammad Shariq**"
   ]
  },
  {
   "cell_type": "markdown",
   "id": "91af3f35",
   "metadata": {},
   "source": [
    "## Type Casting\n",
    "Type casting is the process of converting a value of one data type to another data type. Python supports several types of type casting, including:\n",
    "\n",
    "- Implicit Type Casting: Python automatically converts a value of one data type to another data type when necessary. For example, when you add an integer and a float, Python converts the integer to a float.\n",
    "\n",
    "\n",
    "- Explicit Type Casting: You can use functions like int(), float(), str(), and bool() to explicitly convert a value of one data type to another data type."
   ]
  },
  {
   "cell_type": "code",
   "execution_count": null,
   "id": "3662820e",
   "metadata": {},
   "outputs": [
    {
     "name": "stdout",
     "output_type": "stream",
     "text": [
      "Value of i = 10,     Type of i = <class 'int'>\n",
      "Value of f = 30.6,   Type of f = <class 'float'>\n",
      "Value of f1 = 66.89, Type of i = <class 'float'>\n",
      "Value of i1 = 66,    Type of i = <class 'int'>\n",
      "Value of f2 = 25.8,  Type of i = <class 'float'>\n",
      "Value of i2 = 25.8, Type of i = <class 'float'>\n"
     ]
    }
   ],
   "source": [
    "i: int = 10\n",
    "print(\"Value of i = \" + str(i) + \",     Type of i = \" + str(type(i)))\n",
    "\n",
    "j: float = 20.6\n",
    "\n",
    "f: float = i + j #Implicit Type Casting\n",
    "print(\"Value of f = \" + str(f) + \",   Type of f = \" + str(type(f)))\n",
    "\n",
    "f1: float = 66.89\n",
    "print(\"Value of f1 = \" + str(f1) + \", Type of i = \" + str(type(f1)))\n",
    "\n",
    "i1: int = int(f1) #When ever you type cast a float value into an integer it truncate the decimal part and only keeps the whole number\n",
    "print(\"Value of i1 = \" + str(i1) + \",    Type of i = \" + str(type(i1)))\n",
    "\n",
    "s: str = \"25.8\"\n",
    "f2: float = float(s)\n",
    "print(\"Value of f2 = \" + str(f2) + \",  Type of i = \" + str(type(f2)))\n",
    "\n",
    "# uncomment the below line of code to see error\n",
    "\n",
    "# i2 = int(s) #correct this error by casting with float()\n",
    "# print(\"Value of i2 = \" + str(i2) + \", Type of i = \" + str(type(i2)))"
   ]
  },
  {
   "cell_type": "markdown",
   "id": "60deeeac",
   "metadata": {},
   "source": [
    "### Truthy and Falsy Values in context of boolean data type\n",
    "In Python, some values are considered truthy, while others are considered falsy. Truthy values are treated as True in a boolean context, while falsy values are treated as False.\n",
    "\n",
    "Here are some examples of truthy and falsy values:\n",
    "\n",
    "- Truthy values:\n",
    "    - Non-zero integers (e.g., 1, 2, -3, etc.)\n",
    "    - Non-empty strings (e.g., \"hello\", \"world\", etc.)\n",
    "    - Non-empty lists (e.g., [1, 2, 3], [\"a\", \"b\", \"c\"], etc.)\n",
    "    - Non-empty dictionaries (e.g., {\"a\": 1, \"b\": 2}, etc.)\n",
    "\n",
    "\n",
    "- Falsy values:\n",
    "    - Zero (e.g., 0)\n",
    "    - Empty strings (e.g., \"\")\n",
    "    - Empty lists (e.g., [])\n",
    "    - Empty dictionaries (e.g., {})\n",
    "    - None"
   ]
  },
  {
   "cell_type": "code",
   "execution_count": 4,
   "id": "ba5ec681",
   "metadata": {},
   "outputs": [
    {
     "name": "stdout",
     "output_type": "stream",
     "text": [
      "Value of b = True, Type of b = <class 'bool'>\n",
      "\n",
      " =================== \n",
      "\n",
      "if block: This line of code will execute if we provide any integer value\n",
      "          other then '0' ZERO\n",
      "\n",
      " =================== \n",
      "\n",
      "check: bool(\"55\")             =  True\n",
      "check: bool(\"\")               =  False\n",
      "check: bool([1, 2, 3])        =  True\n",
      "check: bool({\"key\", \"value\"}) =  True\n",
      "check: bool([])               =  False\n",
      "check: bool({})               =  False\n"
     ]
    }
   ],
   "source": [
    "k: int = -9 #Any number either positive or negative, beside '0' ZERO is considered True\n",
    "b: bool = bool(k)\n",
    "print(\"Value of b = \" + str(b) + \", Type of b = \" + str(type(b)))\n",
    "\n",
    "print(\"\\n =================== \\n\")\n",
    "\n",
    "if(k):\n",
    "  print(\"\"\"if block: This line of code will execute if we provide any integer value\n",
    "          other then '0' ZERO\"\"\")\n",
    "else:\n",
    "  print(\"else block: As '0' is considered False, so this line of code will not execute\")\n",
    "\n",
    "print(\"\\n =================== \\n\")\n",
    "\n",
    "print(\"check: bool(\\\"55\\\")             = \", bool(\"55\"))\n",
    "print(\"check: bool(\\\"\\\")               = \", bool(\"\"))\n",
    "print(\"check: bool([1, 2, 3])        = \", bool([1, 2, 3]))\n",
    "print(\"check: bool({\\\"key\\\", \\\"value\\\"}) = \", bool({\"key\", \"value\"}))\n",
    "\n",
    "#Note: we will learn about list and dictionary in up comming classes\n",
    "print(\"check: bool([])               = \", bool([])) #[] square brackets used to represent list\n",
    "print(\"check: bool({})               = \", bool({})) #{} curly brackets used to represent dictionary"
   ]
  },
  {
   "cell_type": "markdown",
   "id": "b3f7fca0",
   "metadata": {},
   "source": [
    "-----------------------------------------------------------------------------"
   ]
  },
  {
   "cell_type": "markdown",
   "id": "e641499e",
   "metadata": {},
   "source": [
    "### isinstance() Function in Python\n",
    "The isinstance() function in Python is used to check if an object (first argument) is an instance of a class (second argument). It returns True if the object is an instance of the class, and False otherwise."
   ]
  },
  {
   "cell_type": "code",
   "execution_count": 7,
   "id": "1cac338a",
   "metadata": {},
   "outputs": [
    {
     "name": "stdout",
     "output_type": "stream",
     "text": [
      "True\n"
     ]
    }
   ],
   "source": [
    "# The syntax of the isinstance() function is as follows:\n",
    "\n",
    "# isinstance(object, classinfo)\n",
    "\n",
    "x = 5\n",
    "print(isinstance(x, int))  # True"
   ]
  },
  {
   "cell_type": "code",
   "execution_count": 8,
   "id": "3d1d10c7",
   "metadata": {},
   "outputs": [
    {
     "name": "stdout",
     "output_type": "stream",
     "text": [
      "check: isinstance(age, int)      =  True\n",
      "check: isinstance(weight, int)   =  False\n",
      "check: isinstance(weight, float) =  True\n"
     ]
    }
   ],
   "source": [
    "age: int = 20\n",
    "weight: float = 66.89\n",
    "print(\"check: isinstance(age, int)      = \", isinstance(age, int))\n",
    "print(\"check: isinstance(weight, int)   = \", isinstance(weight, int))\n",
    "print(\"check: isinstance(weight, float) = \", isinstance(weight, float))"
   ]
  },
  {
   "cell_type": "markdown",
   "id": "8376df2b",
   "metadata": {},
   "source": [
    "# Follow me on LinkedIn for more Tips and News! [Muhammad Shariq](https://www.linkedin.com/in/muhammad---shariq)"
   ]
  }
 ],
 "metadata": {
  "kernelspec": {
   "display_name": "base",
   "language": "python",
   "name": "python3"
  },
  "language_info": {
   "codemirror_mode": {
    "name": "ipython",
    "version": 3
   },
   "file_extension": ".py",
   "mimetype": "text/x-python",
   "name": "python",
   "nbconvert_exporter": "python",
   "pygments_lexer": "ipython3",
   "version": "3.12.7"
  }
 },
 "nbformat": 4,
 "nbformat_minor": 5
}
