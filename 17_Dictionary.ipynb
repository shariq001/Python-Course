{
 "cells": [
  {
   "cell_type": "markdown",
   "id": "e43069c2",
   "metadata": {},
   "source": [
    "# Python Course | Muhammad Shariq"
   ]
  },
  {
   "cell_type": "markdown",
   "id": "6c068cb3",
   "metadata": {},
   "source": [
    "## Dictionaries\n",
    "A dictionary is a collection of key-value pairs. It is:\n",
    "\n",
    "- Ordered (since Python 3.7): Items are stored in the order they were inserted.\n",
    "\n",
    "- Mutable: Items can be added, removed, or modified after the dictionary is created.\n",
    "\n",
    "- Un-indexed: Items are accessed using keys, not indices.\n",
    "\n",
    "- Without duplicates: Keys must be unique, but values can be duplicated.\n",
    "\n",
    "Before Python 3.7, dictionaries were unordered, meaning that items were not stored in a specific order. However, with the introduction of Python 3.7, dictionaries now maintain their insertion order."
   ]
  },
  {
   "cell_type": "code",
   "execution_count": 3,
   "id": "4a29f859",
   "metadata": {},
   "outputs": [
    {
     "name": "stdout",
     "output_type": "stream",
     "text": [
      "{'name': 'Muhammad Shariq', 'age': 18, 'isMarried': False}\n"
     ]
    }
   ],
   "source": [
    "# Creating a dictionary to store a person's details\n",
    "\n",
    "person: dict = {\n",
    "    \"name\": \"Muhammad Shariq\",\n",
    "    \"age\": 18,\n",
    "    \"isMarried\": False\n",
    "}\n",
    "\n",
    "print(person)"
   ]
  },
  {
   "cell_type": "code",
   "execution_count": 4,
   "id": "72cdb375",
   "metadata": {},
   "outputs": [
    {
     "name": "stdout",
     "output_type": "stream",
     "text": [
      "<class 'dict'>  -  {'name': 'Shariq', 'age': 18, 'country': 'Pakistan'}\n"
     ]
    }
   ],
   "source": [
    "thisdict: dict = dict(name = \"Shariq\", age = 18, country = \"Pakistan\")\n",
    "print(type(thisdict),\" - \", thisdict, )"
   ]
  },
  {
   "cell_type": "markdown",
   "id": "ba9e0c5c",
   "metadata": {},
   "source": [
    "### Accessing Values"
   ]
  },
  {
   "cell_type": "code",
   "execution_count": 7,
   "id": "6c246550",
   "metadata": {},
   "outputs": [
    {
     "name": "stdout",
     "output_type": "stream",
     "text": [
      "Muhammad Shariq\n",
      "18\n",
      "Default Value\n"
     ]
    }
   ],
   "source": [
    "print(person[\"name\"])\n",
    "\n",
    "print(person.get(\"age\", \"99\")) # Output: 18, if not found it will return 99 (default value)\n",
    "\n",
    "print(person.get(\"country\", \"Default Value\"))"
   ]
  },
  {
   "cell_type": "markdown",
   "id": "c477696d",
   "metadata": {},
   "source": [
    "### Modifying a Dictionary"
   ]
  },
  {
   "cell_type": "code",
   "execution_count": 9,
   "id": "ade7081f",
   "metadata": {},
   "outputs": [
    {
     "name": "stdout",
     "output_type": "stream",
     "text": [
      "{'name': 'Muhammad Shariq', 'age': 18, 'isMarried': False, 'email': 'example@gmail.com'}\n",
      "{'name': 'Muhammad Shariq', 'age': 19, 'isMarried': False, 'email': 'example@gmail.com'}\n"
     ]
    }
   ],
   "source": [
    "person[\"email\"] = \"example@gmail.com\"\n",
    "print(person)\n",
    "\n",
    "# Modifying an existing value\n",
    "person[\"age\"] = 19\n",
    "print(person)"
   ]
  },
  {
   "cell_type": "code",
   "execution_count": 10,
   "id": "f4a89a0a",
   "metadata": {},
   "outputs": [
    {
     "name": "stdout",
     "output_type": "stream",
     "text": [
      "{'name': 'Shariq', 'age': 18, 'email': 'shariq@example.com', 'city': ['Hyderabad', 'Hyderabad', 'Lahore']}\n"
     ]
    }
   ],
   "source": [
    "person: dict = {'name': 'Shariq', 'age': 18, 'email': 'shariq@example.com', 'city': ['Hyderabad', 'Hyderabad', 'Lahore']}\n",
    "print(person)"
   ]
  },
  {
   "cell_type": "code",
   "execution_count": null,
   "id": "6ac2d41b",
   "metadata": {},
   "outputs": [],
   "source": [
    "# Remove a key-value pair using del\n",
    "del person[\"city\"]\n",
    "print(person)"
   ]
  },
  {
   "cell_type": "code",
   "execution_count": null,
   "id": "d6a52e18",
   "metadata": {},
   "outputs": [],
   "source": [
    "# Remove a key-value pair using pop\n",
    "age: int = person.pop(\"age\")\n",
    "print(\"Removed age:\", age)\n",
    "print(person)\n",
    "\n",
    "print(\"\\n-----\\n\")\n",
    "#Again remove a key which is already removed to check the default value\n",
    "# age: int = person.pop(\"age\")\n",
    "# print(\"key 'age' not found in dict so returning default value: \", age)"
   ]
  }
 ],
 "metadata": {
  "kernelspec": {
   "display_name": "base",
   "language": "python",
   "name": "python3"
  },
  "language_info": {
   "codemirror_mode": {
    "name": "ipython",
    "version": 3
   },
   "file_extension": ".py",
   "mimetype": "text/x-python",
   "name": "python",
   "nbconvert_exporter": "python",
   "pygments_lexer": "ipython3",
   "version": "3.12.7"
  }
 },
 "nbformat": 4,
 "nbformat_minor": 5
}
