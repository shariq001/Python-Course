{
 "cells": [
  {
   "cell_type": "markdown",
   "id": "e43069c2",
   "metadata": {},
   "source": [
    "# **Python Course | Muhammad Shariq**"
   ]
  },
  {
   "cell_type": "markdown",
   "id": "6c068cb3",
   "metadata": {},
   "source": [
    "## Dictionaries\n",
    "A dictionary is a collection of key-value pairs. It is:\n",
    "\n",
    "- Ordered (since Python 3.7): Items are stored in the order they were inserted.\n",
    "\n",
    "- Mutable: Items can be added, removed, or modified after the dictionary is created.\n",
    "\n",
    "- Un-indexed: Items are accessed using keys, not indices.\n",
    "\n",
    "- Without duplicates: Keys must be unique, but values can be duplicated.\n",
    "\n",
    "Before Python 3.7, dictionaries were unordered, meaning that items were not stored in a specific order. However, with the introduction of Python 3.7, dictionaries now maintain their insertion order."
   ]
  },
  {
   "cell_type": "code",
   "execution_count": 3,
   "id": "4a29f859",
   "metadata": {},
   "outputs": [
    {
     "name": "stdout",
     "output_type": "stream",
     "text": [
      "{'name': 'Muhammad Shariq', 'age': 18, 'isMarried': False}\n"
     ]
    }
   ],
   "source": [
    "# Creating a dictionary to store a person's details\n",
    "\n",
    "person: dict = {\n",
    "    \"name\": \"Muhammad Shariq\",\n",
    "    \"age\": 18,\n",
    "    \"isMarried\": False\n",
    "}\n",
    "\n",
    "print(person)"
   ]
  },
  {
   "cell_type": "code",
   "execution_count": 4,
   "id": "72cdb375",
   "metadata": {},
   "outputs": [
    {
     "name": "stdout",
     "output_type": "stream",
     "text": [
      "<class 'dict'>  -  {'name': 'Shariq', 'age': 18, 'country': 'Pakistan'}\n"
     ]
    }
   ],
   "source": [
    "thisdict: dict = dict(name = \"Shariq\", age = 18, country = \"Pakistan\")\n",
    "print(type(thisdict),\" - \", thisdict, )"
   ]
  },
  {
   "cell_type": "markdown",
   "id": "ba9e0c5c",
   "metadata": {},
   "source": [
    "### Accessing Values"
   ]
  },
  {
   "cell_type": "code",
   "execution_count": 7,
   "id": "6c246550",
   "metadata": {},
   "outputs": [
    {
     "name": "stdout",
     "output_type": "stream",
     "text": [
      "Muhammad Shariq\n",
      "18\n",
      "Default Value\n"
     ]
    }
   ],
   "source": [
    "print(person[\"name\"])\n",
    "\n",
    "print(person.get(\"age\", \"99\")) # Output: 18, if not found it will return 99 (default value)\n",
    "\n",
    "print(person.get(\"country\", \"Default Value\"))"
   ]
  },
  {
   "cell_type": "markdown",
   "id": "c477696d",
   "metadata": {},
   "source": [
    "### Modifying a Dictionary"
   ]
  },
  {
   "cell_type": "code",
   "execution_count": 9,
   "id": "ade7081f",
   "metadata": {},
   "outputs": [
    {
     "name": "stdout",
     "output_type": "stream",
     "text": [
      "{'name': 'Muhammad Shariq', 'age': 18, 'isMarried': False, 'email': 'example@gmail.com'}\n",
      "{'name': 'Muhammad Shariq', 'age': 19, 'isMarried': False, 'email': 'example@gmail.com'}\n"
     ]
    }
   ],
   "source": [
    "person[\"email\"] = \"example@gmail.com\"\n",
    "print(person)\n",
    "\n",
    "# Modifying an existing value\n",
    "person[\"age\"] = 19\n",
    "print(person)"
   ]
  },
  {
   "cell_type": "code",
   "execution_count": 10,
   "id": "f4a89a0a",
   "metadata": {},
   "outputs": [
    {
     "name": "stdout",
     "output_type": "stream",
     "text": [
      "{'name': 'Shariq', 'age': 18, 'email': 'shariq@example.com', 'city': ['Hyderabad', 'Hyderabad', 'Lahore']}\n"
     ]
    }
   ],
   "source": [
    "person: dict = {'name': 'Shariq', 'age': 18, 'email': 'shariq@example.com', 'city': ['Hyderabad', 'Hyderabad', 'Lahore']}\n",
    "print(person)"
   ]
  },
  {
   "cell_type": "code",
   "execution_count": null,
   "id": "6ac2d41b",
   "metadata": {},
   "outputs": [],
   "source": [
    "# Remove a key-value pair using del\n",
    "del person[\"city\"]\n",
    "print(person)"
   ]
  },
  {
   "cell_type": "code",
   "execution_count": null,
   "id": "d6a52e18",
   "metadata": {},
   "outputs": [],
   "source": [
    "# Remove a key-value pair using pop\n",
    "age: int = person.pop(\"age\")\n",
    "print(\"Removed age:\", age)\n",
    "print(person)\n",
    "\n",
    "print(\"\\n-----\\n\")\n",
    "#Again remove a key which is already removed to check the default value\n",
    "# age: int = person.pop(\"age\")\n",
    "# print(\"key 'age' not found in dict so returning default value: \", age)"
   ]
  },
  {
   "cell_type": "markdown",
   "id": "5800ad15",
   "metadata": {},
   "source": [
    "### Dictionary Methods\n",
    "\n",
    "Method | Description\n",
    "------ | -----------\n",
    "keys() | Returns a list of all keys in the dictionary.\n",
    "values() | Returns a list of all values in the dictionary.\n",
    "items() | Returns a list of all key-value pairs as tuples.\n",
    "clear() | Removes all items from the dictionary.\n",
    "update() | Adds or updates multiple key-value pairs from another dictionary.\t"
   ]
  },
  {
   "cell_type": "code",
   "execution_count": 5,
   "id": "21b28a9a",
   "metadata": {},
   "outputs": [
    {
     "name": "stdout",
     "output_type": "stream",
     "text": [
      "person.keys()         =  dict_keys(['name', 'email'])\n",
      "person.values()       =  dict_values(['Muhammad Shariq', 'shariq@example.com'])\n",
      "person.items()        =  dict_items([('name', 'Muhammad Shariq'), ('email', 'shariq@example.com')])\n",
      "After: person.update  =  {'name': 'Muhammad Shariq', 'email': 'shariq@example.com', 'city': 'Hyderabad', 'age': 18}\n",
      "After: person.clear() =  {}\n"
     ]
    }
   ],
   "source": [
    "person : dict = {\n",
    "    \"name\": \"Muhammad Shariq\",\n",
    "    \"email\": \"shariq@example.com\"\n",
    "}\n",
    "\n",
    "# Get all keys\n",
    "print(\"person.keys()         = \", person.keys()  )  # Output: dict_keys(['name', 'email', 'city', 'age'])\n",
    "\n",
    "# Get all values\n",
    "print(\"person.values()       = \", person.values())  # Output: dict_values(['Alice', 'alice@example.com', 'Los Angeles', 27])\n",
    "\n",
    "# Get all key-value pairs\n",
    "print(\"person.items()        = \", person.items())  # Output: dict_items([('name', 'Alice'), ('email', 'alice@example.com'), ('city', 'Los Angeles'), ('age', 27)])\n",
    "\n",
    "# Update the dictionary\n",
    "person.update({\"city\": \"Hyderabad\", \"age\": 18})\n",
    "print(\"After: person.update  = \", person)\n",
    "\n",
    "# Clear the dictionary\n",
    "person.clear()\n",
    "print(\"After: person.clear() = \", person)  # Output: {}"
   ]
  },
  {
   "cell_type": "markdown",
   "id": "0e49df3b",
   "metadata": {},
   "source": [
    "### Duplicate Key Not Allowed"
   ]
  },
  {
   "cell_type": "code",
   "execution_count": 6,
   "id": "e59c426e",
   "metadata": {},
   "outputs": [
    {
     "name": "stdout",
     "output_type": "stream",
     "text": [
      "{'brand': 'Ford', 'model': 'Mustang', 'year': 2020}\n"
     ]
    }
   ],
   "source": [
    "thisdict: dict = {\n",
    "  \"brand\": \"Ford\",\n",
    "  \"model\": \"Mustang\",\n",
    "  \"year\": 1964,\n",
    "  \"year\": 2020 # this will overwrite the previous key:vlaue\n",
    "}\n",
    "print(thisdict)"
   ]
  },
  {
   "cell_type": "markdown",
   "id": "24fc4d2b",
   "metadata": {},
   "source": [
    "### Iterating over a dictionary"
   ]
  },
  {
   "cell_type": "code",
   "execution_count": 12,
   "id": "5dafcf61",
   "metadata": {},
   "outputs": [
    {
     "name": "stdout",
     "output_type": "stream",
     "text": [
      "brand\n",
      "model\n",
      "year\n"
     ]
    }
   ],
   "source": [
    "for key in thisdict:\n",
    "    print(key)"
   ]
  },
  {
   "cell_type": "code",
   "execution_count": 13,
   "id": "c7f499c7",
   "metadata": {},
   "outputs": [
    {
     "name": "stdout",
     "output_type": "stream",
     "text": [
      "brand  :  Ford\n",
      "model  :  Mustang\n",
      "year  :  2020\n"
     ]
    }
   ],
   "source": [
    "for key, value in thisdict.items():\n",
    "    print(key,\" : \", value)"
   ]
  },
  {
   "cell_type": "markdown",
   "id": "3b2cb165",
   "metadata": {},
   "source": [
    "### Practical Example\n",
    "Example 1"
   ]
  },
  {
   "cell_type": "code",
   "execution_count": 15,
   "id": "b4b8d15c",
   "metadata": {},
   "outputs": [
    {
     "name": "stdout",
     "output_type": "stream",
     "text": [
      "ali is not in phonebook\n"
     ]
    }
   ],
   "source": [
    "# Creating a Phonebook\n",
    "phonebook: dict = {\n",
    "    \"Shariq\": \"111 222 333\",\n",
    "    \"Usman\": \"947 598 349\",\n",
    "    \"Adeel\": \"456 594 323\"\n",
    "}\n",
    "\n",
    "# Adding a New Contact\n",
    "phonebook[\"Muhib\"] = \"649 398 748\"\n",
    "\n",
    "# Searching for a contact\n",
    "name: str = input(\"Enter a name to search: \")\n",
    "\n",
    "if name in phonebook:\n",
    "    print(f\"{name}'s phone number is {phonebook[name]}\")\n",
    "\n",
    "else:\n",
    "    print(f\"{name} is not in phonebook\")"
   ]
  },
  {
   "cell_type": "markdown",
   "id": "cf9d28d4",
   "metadata": {},
   "source": [
    "Example 2"
   ]
  },
  {
   "cell_type": "code",
   "execution_count": 18,
   "id": "a1dae913",
   "metadata": {},
   "outputs": [
    {
     "name": "stdout",
     "output_type": "stream",
     "text": [
      "{'Hi': 1, \"I'm\": 1, 'Muhammad': 1, 'Shariq.': 1, 'Front-end': 1, 'Developer': 1, 'Intern': 1, 'at': 3, 'InnovaTech': 2, 'Currently': 2, 'enrolled': 2, 'in': 3, 'Cloud': 1, 'Applied': 1, 'Generative': 1, 'AI': 1, 'Engineering': 2, 'GIAIC.': 1, 'At': 1, 'I': 2, 'learn': 1, 'building': 1, 'Web': 2, 'Solutions': 1, 'for': 1, 'businesses.': 1, 'am': 1, 'also': 1, 'Full': 1, 'Stack': 1, 'NITSEP.': 1}\n"
     ]
    }
   ],
   "source": [
    "sentence: str = \"Hi I'm Muhammad Shariq. Front-end Developer Intern at InnovaTech Currently enrolled in Cloud Applied Generative AI Engineering at GIAIC. At InnovaTech I learn in building Web Solutions for businesses. I am also Currently enrolled in Full Stack Web Engineering at NITSEP.\"\n",
    "\n",
    "words: list = sentence.split()\n",
    "word_count = {}\n",
    "\n",
    "for word in words:\n",
    "    if word not in word_count:\n",
    "        word_count[word] = 1\n",
    "    else:\n",
    "        word_count[word] += 1\n",
    "\n",
    "print(word_count)"
   ]
  },
  {
   "cell_type": "code",
   "execution_count": 22,
   "id": "aa28f467",
   "metadata": {},
   "outputs": [
    {
     "name": "stdout",
     "output_type": "stream",
     "text": [
      "{'Hi': 1, \"I'm\": 1, 'Muhammad': 1, 'Shariq.': 1, 'Front-end': 1, 'Developer': 1, 'Intern': 1, 'Cloud': 1, 'Applied': 1, 'Generative': 1, 'AI': 1, 'GIAIC.': 1, 'At': 1, 'learn': 1, 'building': 1, 'Solutions': 1, 'for': 1, 'businesses.': 1, 'am': 1, 'also': 1, 'Full': 1, 'Stack': 1, 'NITSEP.': 1, 'InnovaTech': 2, 'Currently': 2, 'enrolled': 2, 'Engineering': 2, 'I': 2, 'Web': 2, 'at': 3, 'in': 3}\n"
     ]
    }
   ],
   "source": [
    "sorted_words = dict(sorted(word_count.items(), key=lambda item: item[1]))\n",
    "print(sorted_words)\n"
   ]
  },
  {
   "cell_type": "code",
   "execution_count": 23,
   "id": "d498490e",
   "metadata": {},
   "outputs": [
    {
     "name": "stdout",
     "output_type": "stream",
     "text": [
      "1. Accessing Items\n",
      "Name: John\n",
      "Age: 30\n",
      "City (using get): New York\n",
      "\n",
      "2. Adding Items\n",
      "Dictionary after adding email: {'name': 'John', 'age': 30, 'city': 'New York', 'email': 'john@example.com'}\n",
      "\n",
      "3. Modifying Items\n",
      "Dictionary after modifying age: {'name': 'John', 'age': 31, 'city': 'New York', 'email': 'john@example.com'}\n",
      "\n",
      "4. Removing Items\n",
      "Dictionary after removing city (using pop): {'name': 'John', 'age': 31, 'email': 'john@example.com'}\n",
      "Dictionary after removing email (using del): {'name': 'John', 'age': 31}\n",
      "\n",
      "5. Dictionary Methods\n",
      "Keys: dict_keys(['name', 'age'])\n",
      "Values: dict_values(['John', 31])\n",
      "Items: dict_items([('name', 'John'), ('age', 31)])\n",
      "\n",
      "6. Clearing the Dictionary\n",
      "Dictionary after clearing: {}\n",
      "\n",
      "7. Updating the Dictionary\n",
      "Dictionary after updating: {'name': 'John', 'age': 32, 'city': 'New York', 'country': 'USA'}\n",
      "\n",
      "8. Iterating Through a Dictionary\n",
      "Iterating through keys:\n",
      "name\n",
      "age\n",
      "city\n",
      "country\n",
      "\n",
      "Iterating through values:\n",
      "John\n",
      "32\n",
      "New York\n",
      "USA\n",
      "\n",
      "Iterating through items (key-value pairs):\n",
      "name: John\n",
      "age: 32\n",
      "city: New York\n",
      "country: USA\n",
      "\n",
      "9. checking if a key exist\n",
      "Name exist\n",
      "\n",
      "10. Dictionary Length\n",
      "Length of the dictionary: 4\n",
      "\n",
      "11. Creating a dictionary from iterable\n",
      "new dictionary: {'key1': 'value1', 'key2': 'value2', 'key3': 'value3'}\n",
      "\n",
      "12. Copying a dictionary\n",
      "Copied dictionary: {'name': 'John', 'age': 32, 'city': 'New York', 'country': 'USA'}\n",
      "\n",
      "13. Nested Dictionaries\n",
      "Nested dictionary: {'person1': {'name': 'Alice', 'age': 25}, 'person2': {'name': 'Bob', 'age': 30}}\n",
      "Alice's age: 25\n"
     ]
    }
   ],
   "source": [
    "# prompt: generate a working example of all dictionary function\n",
    "\n",
    "# Example Dictionary\n",
    "my_dict = {\n",
    "  \"name\": \"John\",\n",
    "  \"age\": 30,\n",
    "  \"city\": \"New York\"\n",
    "}\n",
    "\n",
    "# 1. Accessing Items\n",
    "print(\"1. Accessing Items\")\n",
    "print(\"Name:\", my_dict[\"name\"])  # Accessing by key\n",
    "print(\"Age:\", my_dict.get(\"age\"))  # Accessing using get()\n",
    "print(\"City (using get):\", my_dict.get(\"city\"))\n",
    "\n",
    "# 2. Adding Items\n",
    "print(\"\\n2. Adding Items\")\n",
    "my_dict[\"email\"] = \"john@example.com\"\n",
    "print(\"Dictionary after adding email:\", my_dict)\n",
    "\n",
    "# 3. Modifying Items\n",
    "print(\"\\n3. Modifying Items\")\n",
    "my_dict[\"age\"] = 31\n",
    "print(\"Dictionary after modifying age:\", my_dict)\n",
    "\n",
    "# 4. Removing Items\n",
    "print(\"\\n4. Removing Items\")\n",
    "my_dict.pop(\"city\")\n",
    "print(\"Dictionary after removing city (using pop):\", my_dict)\n",
    "del my_dict[\"email\"]\n",
    "print(\"Dictionary after removing email (using del):\", my_dict)\n",
    "\n",
    "# 5. Dictionary Methods\n",
    "print(\"\\n5. Dictionary Methods\")\n",
    "print(\"Keys:\", my_dict.keys())\n",
    "print(\"Values:\", my_dict.values())\n",
    "print(\"Items:\", my_dict.items())\n",
    "\n",
    "# 6. Clearing the Dictionary\n",
    "print(\"\\n6. Clearing the Dictionary\")\n",
    "my_dict.clear()\n",
    "print(\"Dictionary after clearing:\", my_dict)\n",
    "\n",
    "# Adding items back for further examples\n",
    "my_dict = {\n",
    "  \"name\": \"John\",\n",
    "  \"age\": 30,\n",
    "  \"city\": \"New York\"\n",
    "}\n",
    "\n",
    "# 7. Updating the Dictionary\n",
    "print(\"\\n7. Updating the Dictionary\")\n",
    "my_dict.update({\"age\": 32, \"country\": \"USA\"})\n",
    "print(\"Dictionary after updating:\", my_dict)\n",
    "\n",
    "# 8. Iterating Through a Dictionary\n",
    "print(\"\\n8. Iterating Through a Dictionary\")\n",
    "print(\"Iterating through keys:\")\n",
    "for key in my_dict:\n",
    "  print(key)\n",
    "\n",
    "print(\"\\nIterating through values:\")\n",
    "for value in my_dict.values():\n",
    "  print(value)\n",
    "\n",
    "print(\"\\nIterating through items (key-value pairs):\")\n",
    "for key, value in my_dict.items():\n",
    "  print(f\"{key}: {value}\")\n",
    "\n",
    "#9 checking if a key exist\n",
    "print(\"\\n9. checking if a key exist\")\n",
    "if \"name\" in my_dict:\n",
    "    print(\"Name exist\")\n",
    "else:\n",
    "    print(\"Name do not exist\")\n",
    "\n",
    "# 10. Dictionary Length\n",
    "print(\"\\n10. Dictionary Length\")\n",
    "print(\"Length of the dictionary:\", len(my_dict))\n",
    "\n",
    "# 11. Creating a dictionary from iterable\n",
    "print(\"\\n11. Creating a dictionary from iterable\")\n",
    "iterable = [(\"key1\", \"value1\"), (\"key2\", \"value2\"), (\"key3\", \"value3\")]\n",
    "new_dict = dict(iterable)\n",
    "print(\"new dictionary:\", new_dict)\n",
    "\n",
    "# 12. Copying a dictionary\n",
    "print(\"\\n12. Copying a dictionary\")\n",
    "copied_dict = my_dict.copy()\n",
    "print(\"Copied dictionary:\", copied_dict)\n",
    "\n",
    "# 13. Nested Dictionaries\n",
    "print(\"\\n13. Nested Dictionaries\")\n",
    "nested_dict = {\n",
    "    \"person1\": {\"name\": \"Alice\", \"age\": 25},\n",
    "    \"person2\": {\"name\": \"Bob\", \"age\": 30}\n",
    "}\n",
    "print(\"Nested dictionary:\", nested_dict)\n",
    "print(\"Alice's age:\", nested_dict[\"person1\"][\"age\"])\n"
   ]
  },
  {
   "cell_type": "markdown",
   "id": "6213ee06",
   "metadata": {},
   "source": [
    "### Dictionary Comprehensions\n",
    "Dictionary comprehensions provide a concise way to create dictionaries in Python. They are similar to list comprehensions but used for creating dictionaries instead of lists. Let's explore how dictionary comprehensions work and see some examples."
   ]
  },
  {
   "cell_type": "code",
   "execution_count": 24,
   "id": "ebf0a5ca",
   "metadata": {},
   "outputs": [
    {
     "name": "stdout",
     "output_type": "stream",
     "text": [
      "original_dict =  {'a': 1, 'b': 2, 'c': 3}\n",
      "doubled_dict  =  {'a': 2, 'b': 4, 'c': 6}\n"
     ]
    }
   ],
   "source": [
    "# {key_expression: value_expression for item in iterable if condition}\n",
    "\n",
    "original_dict = {'a': 1, 'b': 2, 'c': 3}\n",
    "print(\"original_dict = \", original_dict)\n",
    "doubled_dict = {k: v*2 for k, v in original_dict.items()}\n",
    "print(\"doubled_dict  = \", doubled_dict)  # Output: {'a': 2, 'b': 4, 'c': 6}"
   ]
  },
  {
   "cell_type": "code",
   "execution_count": 31,
   "id": "c7f3051b",
   "metadata": {},
   "outputs": [
    {
     "name": "stdout",
     "output_type": "stream",
     "text": [
      "{'10c': '283k', '35c': '308k', '42c': '315k', '55c': '328k', '66c': '339k'}\n"
     ]
    }
   ],
   "source": [
    "# Celcius to Kelvin Dictionary\n",
    "celcius_temp: list = [10, 35, 42, 55, 66]\n",
    "\n",
    "kelving_temp = {str(c)+\"c\" : str(c + 273)+\"k\" for c in celcius_temp}\n",
    "\n",
    "print(kelving_temp)"
   ]
  },
  {
   "cell_type": "markdown",
   "id": "85ef2369",
   "metadata": {},
   "source": [
    "# Follow me on LinkedIn for more Tips and News! [Muhammad Shariq](https://www.linkedin.com/in/muhammad---shariq)"
   ]
  }
 ],
 "metadata": {
  "kernelspec": {
   "display_name": "base",
   "language": "python",
   "name": "python3"
  },
  "language_info": {
   "codemirror_mode": {
    "name": "ipython",
    "version": 3
   },
   "file_extension": ".py",
   "mimetype": "text/x-python",
   "name": "python",
   "nbconvert_exporter": "python",
   "pygments_lexer": "ipython3",
   "version": "3.12.7"
  }
 },
 "nbformat": 4,
 "nbformat_minor": 5
}
