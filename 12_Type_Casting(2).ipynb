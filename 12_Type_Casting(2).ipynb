{
 "cells": [
  {
   "cell_type": "markdown",
   "id": "530e8eac",
   "metadata": {},
   "source": [
    "# Python Course | Muhammad Shariq"
   ]
  },
  {
   "cell_type": "markdown",
   "id": "3f58246b",
   "metadata": {},
   "source": [
    "## Comprehensive Guide to Type Casting in Python\n",
    "### What is Type Casting?\n",
    "\n",
    "Type casting (or type conversion) is the process of converting one data type into another. Python supports two types of type casting:\n",
    "\n",
    "- Implicit Type Casting – Done automatically by Python.\n",
    "- Explicit Type Casting – Done manually using built-in functions."
   ]
  },
  {
   "cell_type": "markdown",
   "id": "391ffb22",
   "metadata": {},
   "source": [
    "### Implicit Type Casting (Automatic Conversion)\n",
    "Python automatically converts one data type to another when no data loss occurs.\n",
    "\n",
    "#### Example 1: Converting int to float (Safe Conversion)"
   ]
  },
  {
   "cell_type": "code",
   "execution_count": 1,
   "id": "ae8d4f7b",
   "metadata": {},
   "outputs": [
    {
     "name": "stdout",
     "output_type": "stream",
     "text": [
      "15.5 <class 'float'>\n"
     ]
    }
   ],
   "source": [
    "num_int: int = 10\n",
    "num_float = num_int + 5.5  # int + float = float. skipped type hint to see what data type is assigned at runtime\n",
    "print(num_float, type(num_float))"
   ]
  },
  {
   "cell_type": "markdown",
   "id": "3b5cdf6e",
   "metadata": {},
   "source": [
    "#### Example 2: Converting int to complex\n",
    "Python automatically promotes int to complex, as complex numbers cannot be downgraded."
   ]
  },
  {
   "cell_type": "code",
   "execution_count": 2,
   "id": "2a47106e",
   "metadata": {},
   "outputs": [
    {
     "name": "stdout",
     "output_type": "stream",
     "text": [
      "(7+3j) <class 'complex'>\n",
      "(7+3j) <class 'complex'>\n"
     ]
    }
   ],
   "source": [
    "num_int: int = 7\n",
    "num_complex: complex = num_int + 3j  # int + complex → complex\n",
    "print(num_complex, type(num_complex))\n",
    "\n",
    "# num_int automatically promotes int to complex type\n",
    "num_int = num_complex\n",
    "print(num_int, type(num_int))"
   ]
  },
  {
   "cell_type": "markdown",
   "id": "715e262e",
   "metadata": {},
   "source": [
    "#### Example 3: No implicit Conversion Between str and int\n",
    "Error: Python does NOT implicitly convert str to int. We must convert explicitly."
   ]
  },
  {
   "cell_type": "code",
   "execution_count": null,
   "id": "44111bbf",
   "metadata": {},
   "outputs": [],
   "source": [
    "num_str = \"100\"\n",
    "num_int = 5\n",
    "\n",
    "print(num_str + num_int)  # ❌ TypeError"
   ]
  },
  {
   "cell_type": "markdown",
   "id": "79f064d5",
   "metadata": {},
   "source": [
    "### Explicit Type Casting (Manual Conversion)\n",
    "Python provides several built-in functions for type conversion:\n",
    "\n",
    "function | type\n",
    "-------- | ----\n",
    "int(x) | Integer\n",
    "float(x) | Float\n",
    "complex(x) | Complex Number\n",
    "str(x) | String\n",
    "bool(x) | Boolean\n",
    "list(x) | List\n",
    "tuple(x) | Tuple\n",
    "set(x) | Set\n",
    "dict(x) | Dictionary"
   ]
  },
  {
   "cell_type": "markdown",
   "id": "b2d14d9d",
   "metadata": {},
   "source": [
    "#### Integer Conversion (int())\n",
    "Used to convert float, string (if valid number), and boolean values to integers.\n",
    "\n",
    "Example 1: Float → Integer (Removes Decimal Part)\n",
    "\n",
    "Note: int() truncates (removes) the decimal part, it does not round."
   ]
  },
  {
   "cell_type": "code",
   "execution_count": 4,
   "id": "19d79864",
   "metadata": {},
   "outputs": [
    {
     "name": "stdout",
     "output_type": "stream",
     "text": [
      "9 <class 'int'>\n",
      "int(b) =  1\n"
     ]
    }
   ],
   "source": [
    "num_float: float = 9.8\n",
    "num_int = int(num_float) # skipped type hint to see what data type is assigned at runtime\n",
    "print(num_int, type(num_int))\n",
    "\n",
    "b: bool = True\n",
    "print(\"int(b) = \", int(b))"
   ]
  },
  {
   "cell_type": "markdown",
   "id": "07f98f16",
   "metadata": {},
   "source": [
    "Example 2: String → Integer (Only Valid Numbers)\n",
    "\n",
    "Invalid Case: \"123abc\" cannot be converted to int(). It will raise a ValueError."
   ]
  },
  {
   "cell_type": "code",
   "execution_count": 5,
   "id": "aad26672",
   "metadata": {},
   "outputs": [
    {
     "name": "stdout",
     "output_type": "stream",
     "text": [
      "123 <class 'int'>\n"
     ]
    }
   ],
   "source": [
    "num_str: str = \"123\"\n",
    "#num_str = \"123abc\" #uncomment to see error\n",
    "\n",
    "num_int = int(num_str) # skipped type hint to see what data type is assigned at runtime\n",
    "print(num_int, type(num_int))"
   ]
  },
  {
   "cell_type": "markdown",
   "id": "c00ee3b7",
   "metadata": {},
   "source": [
    "Example 3: Boolean --> Integer"
   ]
  },
  {
   "cell_type": "code",
   "execution_count": 6,
   "id": "b5b6e2f4",
   "metadata": {},
   "outputs": [
    {
     "name": "stdout",
     "output_type": "stream",
     "text": [
      "1\n",
      "0\n"
     ]
    }
   ],
   "source": [
    "print(int(True)) # Output 1\n",
    "print(int(False)) # Output 0"
   ]
  },
  {
   "cell_type": "markdown",
   "id": "968723ca",
   "metadata": {},
   "source": [
    "### Float Conversion (float())\n",
    "Converts integers, strings, and booleans to floating-point numbers.\n",
    "\n",
    "Example 1: Integer → Float"
   ]
  },
  {
   "cell_type": "code",
   "execution_count": 8,
   "id": "cf0d96b5",
   "metadata": {},
   "outputs": [
    {
     "name": "stdout",
     "output_type": "stream",
     "text": [
      "5.0 <class 'float'>\n"
     ]
    }
   ],
   "source": [
    "num_int : int = 5\n",
    "\n",
    "float_int: float = float(num_int)\n",
    "\n",
    "print(float_int, type(float_int))"
   ]
  },
  {
   "cell_type": "markdown",
   "id": "7ef61cd3",
   "metadata": {},
   "source": [
    "Example 2: String → Float"
   ]
  },
  {
   "cell_type": "code",
   "execution_count": null,
   "id": "1421e3cf",
   "metadata": {},
   "outputs": [
    {
     "name": "stdout",
     "output_type": "stream",
     "text": [
      "3.142\n"
     ]
    }
   ],
   "source": [
    "str_num : str = \"3.142\"\n",
    "\n",
    "float_str : float = float(str_num)\n",
    "\n",
    "print(float_str, type())"
   ]
  },
  {
   "cell_type": "markdown",
   "id": "dfc8c635",
   "metadata": {},
   "source": [
    "### String Conversion (str())\n",
    "Converts numbers, lists, tuples, dictionaries, and booleans to strings.\n",
    "\n",
    "Example 1: Number &rarr; String"
   ]
  },
  {
   "cell_type": "code",
   "execution_count": 10,
   "id": "637c0aa3",
   "metadata": {},
   "outputs": [
    {
     "name": "stdout",
     "output_type": "stream",
     "text": [
      "100 <class 'str'>\n"
     ]
    }
   ],
   "source": [
    "num: int = 100\n",
    "num_str = str(num) # skipped type hint to see what data type is assigned at runtime\n",
    "print(num_str, type(num_str))"
   ]
  },
  {
   "cell_type": "markdown",
   "id": "407a6cec",
   "metadata": {},
   "source": [
    "Example 2: Boolean &rarr; String"
   ]
  },
  {
   "cell_type": "code",
   "execution_count": 11,
   "id": "e8906889",
   "metadata": {},
   "outputs": [
    {
     "name": "stdout",
     "output_type": "stream",
     "text": [
      "True\n",
      "False\n"
     ]
    }
   ],
   "source": [
    "print(str(True))   # Output: \"True\"\n",
    "print(str(False))  # Output: \"False\""
   ]
  },
  {
   "cell_type": "markdown",
   "id": "927acb3f",
   "metadata": {},
   "source": [
    "### Boolean Conversion (bool())\n",
    "Converts other data types to boolean (True or False).\n",
    "\n",
    "Example:"
   ]
  },
  {
   "cell_type": "code",
   "execution_count": 12,
   "id": "35404f8d",
   "metadata": {},
   "outputs": [
    {
     "name": "stdout",
     "output_type": "stream",
     "text": [
      "bool(1)       =  True\n",
      "bool(0)       =  False\n",
      "bool(-10)     =  True\n",
      "bool(\"\")      =  False\n",
      "bool(\"Hello\") =  True\n",
      "bool([])      =  False\n",
      "bool([1, 2])  =  True\n"
     ]
    }
   ],
   "source": [
    "print(\"bool(1)       = \", bool(1))       # True\n",
    "print(\"bool(0)       = \", bool(0))       # False\n",
    "print(\"bool(-10)     = \", bool(-10))     # True (Non-zero numbers are True)\n",
    "print('bool(\"\")      = ', bool(\"\"))      # False (Empty string)\n",
    "print('bool(\"Hello\") = ', bool(\"Hello\")) # True (Non-empty string)\n",
    "print(\"bool([])      = \", bool([]))      # False (Empty list)\n",
    "print(\"bool([1, 2])  = \", bool([1, 2]))  # True (Non-empty list)"
   ]
  },
  {
   "cell_type": "markdown",
   "id": "2f8226fd",
   "metadata": {},
   "source": [
    "### List, Tuple & Set Conversions\n",
    "Python allows converting between lists, tuples, and sets.\n",
    "\n",
    "Example 1: Tuple &rarr; List"
   ]
  },
  {
   "cell_type": "code",
   "execution_count": 13,
   "id": "9bdb10dd",
   "metadata": {},
   "outputs": [
    {
     "name": "stdout",
     "output_type": "stream",
     "text": [
      "[1, 2.7, 3, 'OB'] <class 'list'>\n"
     ]
    }
   ],
   "source": [
    "tup: tuple = (1, 2.7, 3, 'OB')\n",
    "lst = list(tup) # skipped type hint to see what data type is assigned at runtime\n",
    "print(lst, type(lst))"
   ]
  },
  {
   "cell_type": "markdown",
   "id": "8615eb27",
   "metadata": {},
   "source": [
    "Example 2: List &rarr; Set (Removes Duplicates)"
   ]
  },
  {
   "cell_type": "code",
   "execution_count": 14,
   "id": "338b4e27",
   "metadata": {},
   "outputs": [
    {
     "name": "stdout",
     "output_type": "stream",
     "text": [
      "{1, 2, 3, 4, 5, 'Agentic AI'} <class 'set'>\n"
     ]
    }
   ],
   "source": [
    "lst: list = [1, 2, 2, 3, 4, 4, 5, \"Agentic AI\"]\n",
    "s = set(lst)      # skipped type hint to see what data type is assigned at runtime\n",
    "print(s, type(s))"
   ]
  },
  {
   "cell_type": "markdown",
   "id": "24e5e3d2",
   "metadata": {},
   "source": [
    "### Dictionay Conversion (dict())\n",
    "You can convert lists of key-value pairs into a dictionary.\n",
    "\n",
    "Example: List of Tuples → Dictionary"
   ]
  },
  {
   "cell_type": "code",
   "execution_count": 15,
   "id": "f4c17567",
   "metadata": {},
   "outputs": [
    {
     "name": "stdout",
     "output_type": "stream",
     "text": [
      "{'name': 'Alice', 'age': 25} <class 'dict'>\n"
     ]
    }
   ],
   "source": [
    "lst: list = [(\"name\", \"Alice\"), (\"age\", 25)]\n",
    "d = dict(lst)       # skipped type hint to see what data type is assigned at runtime\n",
    "print(d, type(d))"
   ]
  },
  {
   "cell_type": "markdown",
   "id": "a5a34f4b",
   "metadata": {},
   "source": [
    "### Complex Number Conversion (complex())\n",
    "Used to convert numbers into complex numbers (a + bj).\n",
    "\n",
    "Example:"
   ]
  },
  {
   "cell_type": "code",
   "execution_count": 16,
   "id": "1207e208",
   "metadata": {},
   "outputs": [
    {
     "name": "stdout",
     "output_type": "stream",
     "text": [
      "(5+0j) <class 'complex'>\n"
     ]
    }
   ],
   "source": [
    "num: int = 5\n",
    "comp = complex(num)   # skipped type hint to see what data type is assigned at runtime\n",
    "print(comp, type(comp))"
   ]
  },
  {
   "cell_type": "code",
   "execution_count": 17,
   "id": "bfd53bd9",
   "metadata": {},
   "outputs": [
    {
     "data": {
      "text/plain": [
       "'(5+0j)'"
      ]
     },
     "execution_count": 17,
     "metadata": {},
     "output_type": "execute_result"
    }
   ],
   "source": [
    "num = str(comp)     # skipped type hint to see what data type is assigned at runtime\n",
    "num"
   ]
  },
  {
   "cell_type": "code",
   "execution_count": null,
   "id": "7b036b9b",
   "metadata": {},
   "outputs": [],
   "source": [
    "# TypeError: int() argument must be a string, a bytes-like object or a real number, not 'complex'\n",
    "num = int(comp)\n",
    "num"
   ]
  },
  {
   "cell_type": "markdown",
   "id": "86f33dee",
   "metadata": {},
   "source": [
    "# Follow me on LinkedIn for more Tips and News! [Muhammad Shariq](https://www.linkedin.com/in/muhammad---shariq)"
   ]
  }
 ],
 "metadata": {
  "kernelspec": {
   "display_name": "base",
   "language": "python",
   "name": "python3"
  },
  "language_info": {
   "codemirror_mode": {
    "name": "ipython",
    "version": 3
   },
   "file_extension": ".py",
   "mimetype": "text/x-python",
   "name": "python",
   "nbconvert_exporter": "python",
   "pygments_lexer": "ipython3",
   "version": "3.12.7"
  }
 },
 "nbformat": 4,
 "nbformat_minor": 5
}
