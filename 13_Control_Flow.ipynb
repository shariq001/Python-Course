{
 "cells": [
  {
   "cell_type": "markdown",
   "id": "eb4ab55b",
   "metadata": {},
   "source": [
    "# Python Course | Muhammad Shariq"
   ]
  },
  {
   "cell_type": "markdown",
   "id": "a0de38e0",
   "metadata": {},
   "source": [
    "## Introduction to Control Flow\n",
    "Control flow refers to the order in which statements are executed in a program. In Python, decision-making is achieved using if, elif, and else statements, along with comparison and logical operators."
   ]
  },
  {
   "cell_type": "markdown",
   "id": "c92f87a0",
   "metadata": {},
   "source": [
    "## Comparison Operators\n",
    "<font color=\"Green\" size=3> (Already done in Lesson 07_Operators) </font>\n",
    "\n",
    "Comparison operators are used to compare values and return True or False. Here are the most common ones:\n",
    "\n",
    "- (==) (equal to)\n",
    "- (!=)  (not equal to)\n",
    "- (>)   (greater than)\n",
    "- (<)   (less than)\n",
    "- (>=) (greater than or equal to)\n",
    "- (<=) (less than or equal to)"
   ]
  },
  {
   "cell_type": "code",
   "execution_count": 1,
   "id": "f00d9ecc",
   "metadata": {},
   "outputs": [
    {
     "name": "stdout",
     "output_type": "stream",
     "text": [
      "x == y =  False\n",
      "x != y =  True\n",
      "x > y  =  False\n",
      "x < y  =  True\n",
      "x >= y =  False\n",
      "x <= y =  True\n"
     ]
    }
   ],
   "source": [
    "x: int = 10\n",
    "y: int = 20\n",
    "\n",
    "print(\"x == y = \", x == y)  # False\n",
    "print(\"x != y = \", x != y)  # True\n",
    "print(\"x > y  = \", x > y)   # False\n",
    "print(\"x < y  = \", x < y)   # True\n",
    "print(\"x >= y = \", x >= y)  # False\n",
    "print(\"x <= y = \", x <= y)  # True"
   ]
  },
  {
   "cell_type": "markdown",
   "id": "1116908a",
   "metadata": {},
   "source": [
    "## Logical Operators\n",
    "<font color=\"Green\" size=3> (Already done in Lesson 07_Operators) </font>\n",
    "\n",
    "Logical operators combine multiple conditions:\n",
    "\n",
    "- and (True if both conditions are True)\n",
    "- or (True if at least one condition is True)\n",
    "- not (reverses the result of a condition)"
   ]
  },
  {
   "cell_type": "code",
   "execution_count": 2,
   "id": "1f7ad69d",
   "metadata": {},
   "outputs": [
    {
     "name": "stdout",
     "output_type": "stream",
     "text": [
      "You are eligible for a student discount.\n"
     ]
    }
   ],
   "source": [
    "age: int = 25\n",
    "is_student: bool = True\n",
    "\n",
    "# Check if age is greater than 18 AND is_student is True\n",
    "if age > 18 and is_student:\n",
    "    print(\"You are eligible for a student discount.\")\n",
    "\n",
    "# Check if age is less than 12 OR greater than 60\n",
    "if age < 12 or age > 60:\n",
    "    print(\"You qualify for a special discount.\")\n",
    "\n",
    "# Check if the person is NOT a student\n",
    "if not is_student:\n",
    "    print(\"You are not a student.\")"
   ]
  },
  {
   "cell_type": "markdown",
   "id": "b541b1e6",
   "metadata": {},
   "source": [
    "## The if Statement\n",
    "The if statement is used to execute a block of code only if a condition is True."
   ]
  },
  {
   "cell_type": "code",
   "execution_count": 3,
   "id": "92ce67a5",
   "metadata": {},
   "outputs": [
    {
     "name": "stdout",
     "output_type": "stream",
     "text": [
      "The number is positive.\n"
     ]
    }
   ],
   "source": [
    "num: int = 10\n",
    "\n",
    "if num > 0:\n",
    "    print(\"The number is positive.\")"
   ]
  },
  {
   "cell_type": "markdown",
   "id": "77f8ecbf",
   "metadata": {},
   "source": [
    "## The else Statement\n",
    "The else statement is used to execute a block of code if the if condition is False."
   ]
  },
  {
   "cell_type": "code",
   "execution_count": 4,
   "id": "6452970f",
   "metadata": {},
   "outputs": [
    {
     "name": "stdout",
     "output_type": "stream",
     "text": [
      "The number is not positive.\n"
     ]
    }
   ],
   "source": [
    "num: int = -5\n",
    "\n",
    "if num > 0:\n",
    "    print(\"The number is positive.\")\n",
    "else:\n",
    "    print(\"The number is not positive.\")"
   ]
  },
  {
   "cell_type": "markdown",
   "id": "56aa4c25",
   "metadata": {},
   "source": [
    "## The elif Statement\n",
    "The elif statement is used to check multiple conditions. It stands for \"else if.\""
   ]
  },
  {
   "cell_type": "code",
   "execution_count": 5,
   "id": "bec539e0",
   "metadata": {},
   "outputs": [
    {
     "name": "stdout",
     "output_type": "stream",
     "text": [
      "The number is zero.\n"
     ]
    }
   ],
   "source": [
    "num: int = 0\n",
    "\n",
    "if num > 0: # Program execution step# 1 if condition = False\n",
    "    print(\"The number is positive.\")\n",
    "elif num < 0: # Program execution step# 2 if condition = False\n",
    "    print(\"The number is negative.\")\n",
    "else: # Program execution step# 3 python will execute the else block\n",
    "    print(\"The number is zero.\")"
   ]
  },
  {
   "cell_type": "markdown",
   "id": "2e2772ba",
   "metadata": {},
   "source": [
    "## Nested if Statements\n",
    "if statements can be nested inside other if statements to check multiple conditions."
   ]
  },
  {
   "cell_type": "code",
   "execution_count": 6,
   "id": "96f4ffa0",
   "metadata": {},
   "outputs": [
    {
     "name": "stdout",
     "output_type": "stream",
     "text": [
      "The number is positive and even.\n"
     ]
    }
   ],
   "source": [
    "num: int = 10\n",
    "#num: int = -10\n",
    "\n",
    "if num > 0: # check wather the number is positive or negative\n",
    "\n",
    "    if num % 2 == 0: # Modulus operator, remainder 0 = even_number,\n",
    "        print(\"The number is positive and even.\")\n",
    "    else: # remainder 1 = odd_number,\n",
    "        print(\"The number is positive and odd.\")\n",
    "\n",
    "else:\n",
    "    print(\"The number is negative.\")"
   ]
  },
  {
   "cell_type": "markdown",
   "id": "35c54b07",
   "metadata": {},
   "source": [
    "## Practical Examples:\n",
    "\n",
    "### 1. Simple Calculator"
   ]
  },
  {
   "cell_type": "code",
   "execution_count": 12,
   "id": "067219f5",
   "metadata": {},
   "outputs": [
    {
     "name": "stdout",
     "output_type": "stream",
     "text": [
      "Enter the operation to perform:  -\n",
      "Enter the first number:  1.5\n",
      "Enter the first number:  6.2\n",
      "Result -4.7\n"
     ]
    }
   ],
   "source": [
    "operation: str = input(\"Enter the Operation You want to Perform ( + , - , * , / ): \")\n",
    "\n",
    "num1: float = float(input(\"Enter your first number: \"))\n",
    "num2: float = float(input(\"Enter your second number: \"))\n",
    "\n",
    "if operation == \"+\":\n",
    "    result = num1 + num2\n",
    "elif operation == \"-\":\n",
    "    result = num1 - num2\n",
    "elif operation == \"*\":\n",
    "    result = num1 * num2\n",
    "elif operation == \"/\":\n",
    "    if num2 != 0:\n",
    "        result = num1 / num2\n",
    "    else:\n",
    "        print(\"Dividing by 0 results to infinity!\")\n",
    "else:\n",
    "    result(\"Please enter a valid input!\")\n",
    "    \n",
    "print(\"Enter the operation to perform: \", operation)     \n",
    "print(\"Enter the first number: \", num1) \n",
    "print(\"Enter the first number: \", num2)  \n",
    "print(\"Result\", result)"
   ]
  }
 ],
 "metadata": {
  "kernelspec": {
   "display_name": "base",
   "language": "python",
   "name": "python3"
  },
  "language_info": {
   "codemirror_mode": {
    "name": "ipython",
    "version": 3
   },
   "file_extension": ".py",
   "mimetype": "text/x-python",
   "name": "python",
   "nbconvert_exporter": "python",
   "pygments_lexer": "ipython3",
   "version": "3.12.7"
  }
 },
 "nbformat": 4,
 "nbformat_minor": 5
}
