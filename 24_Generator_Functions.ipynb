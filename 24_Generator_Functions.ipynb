{
 "cells": [
  {
   "cell_type": "markdown",
   "id": "2ad78b3f",
   "metadata": {},
   "source": [
    "# **Python Course | Muhammad Shariq**"
   ]
  },
  {
   "cell_type": "markdown",
   "id": "b012bfe3",
   "metadata": {},
   "source": [
    "## **Generator Function**\n",
    "A generator function is like a normal function, but instead of return, it uses yield to give back one value at a time.\n",
    "\n",
    "A generator function in Python is a special type of function that allows you to iterate over a sequence of values `without storing the entire sequence in memory`. \n",
    "\n",
    "**Instead of returning a single value using return, a generator function uses the `yield` keyword to produce a series of values, `one at a time`, `on-the-fly`**. This makes generator functions highly `memory-efficient` for working with `large` or `infinite sequences`."
   ]
  },
  {
   "cell_type": "markdown",
   "id": "f3465a52",
   "metadata": {},
   "source": [
    "### **Key Features of Generator Functions**\n",
    "\n",
    "1. **Lazy Evaluation**: Values are generated only when needed, not all at once.\n",
    "\n",
    "2.  **Memory Efficiency**: Only one value is stored in memory at a time.\n",
    "3.  **Iterable**: Generator functions return a generator object, which can be iterated over using a for loop or functions like next().\n",
    "4.  **Resumable**: The state of the generator function is saved between yield calls, allowing it to resume execution from where it left off."
   ]
  },
  {
   "cell_type": "markdown",
   "id": "1a1a1a6b",
   "metadata": {},
   "source": [
    "### **Syntax of a Generator Function**\n",
    "\n",
    "A generator function is defined like a normal function but uses the yield keyword instead of return.\n",
    "\n",
    "```python\n",
    "def generator_function():\n",
    "    yield value\n",
    "\n",
    "```"
   ]
  },
  {
   "cell_type": "markdown",
   "id": "2b62d3b3",
   "metadata": {},
   "source": [
    "### **How Generator Function Work**\n",
    "\n",
    "#### **1. Calling the function doesn't run it**\n",
    "When you call a generator function, it doesn’t run the code inside.\n",
    "Instead, it returns a generator object.\n",
    "\n",
    "```python\n",
    "def gen():\n",
    "    yield 1\n",
    "    yield 2\n",
    "\n",
    "g = gen()  # Function body not run yet!\n",
    "```\n",
    "\n",
    "#### **2. Starts running only when you iterate**\n",
    "Now you use `next(g)` or a `for` loop to start it.\n",
    "\n",
    "```python\n",
    "print(next(g)) # Output: 1\n",
    "```\n",
    "- It runs until it hits yield, then pauses and gives that value.\n",
    "\n",
    "#### **3. Saves the state**\n",
    "After yielding, it remembers:\n",
    "\n",
    "- Where it paused\n",
    "\n",
    "- The values of local variables\n",
    "\n",
    "So when you call `next(g)` again, it continues from where it stopped. \n",
    "\n",
    "#### **4. Keeps going until done**\n",
    "Each time you call `next(g)`, it moves to the next `yield`.\n",
    "\n",
    "When there are no more `yield`s, it stops."
   ]
  },
  {
   "cell_type": "markdown",
   "id": "a2b0f1cc",
   "metadata": {},
   "source": [
    "### **Example 1: Simple Generator Function**"
   ]
  },
  {
   "cell_type": "code",
   "execution_count": 1,
   "id": "5b4a2fec",
   "metadata": {},
   "outputs": [
    {
     "name": "stdout",
     "output_type": "stream",
     "text": [
      "<generator object simple_generator at 0x000001F7B8EC49E0>  :  <class 'generator'>\n",
      "1\n",
      "2\n",
      "3\n"
     ]
    }
   ],
   "source": [
    "def simple_generator():\n",
    "    yield 1\n",
    "    yield 2\n",
    "    yield 3\n",
    "    \n",
    "# Create a generator object\n",
    "gen = simple_generator()\n",
    "\n",
    "print(gen, \" : \", type(gen))\n",
    "\n",
    "# Iterate over the generator\n",
    "for value in gen:\n",
    "    print(value)"
   ]
  },
  {
   "cell_type": "markdown",
   "id": "667bfe83",
   "metadata": {},
   "source": [
    "**Once the generator is exhausted, calling next() will raise a StopIteration exception.**"
   ]
  },
  {
   "cell_type": "code",
   "execution_count": 2,
   "id": "b6e45965",
   "metadata": {},
   "outputs": [
    {
     "ename": "StopIteration",
     "evalue": "",
     "output_type": "error",
     "traceback": [
      "\u001b[1;31m---------------------------------------------------------------------------\u001b[0m",
      "\u001b[1;31mStopIteration\u001b[0m                             Traceback (most recent call last)",
      "Cell \u001b[1;32mIn[2], line 1\u001b[0m\n\u001b[1;32m----> 1\u001b[0m \u001b[38;5;28mprint\u001b[39m(\u001b[38;5;28mnext\u001b[39m(gen))\n",
      "\u001b[1;31mStopIteration\u001b[0m: "
     ]
    }
   ],
   "source": [
    "print(next(gen)) #error: StopIteration"
   ]
  },
  {
   "cell_type": "markdown",
   "id": "e03473ba",
   "metadata": {},
   "source": [
    "### **Example 2: Infinite Sequence**\n",
    "\n",
    "Generators are useful for generating infinite sequences since they don’t store all values in memory.\n",
    "\n",
    "### **How It Works:**\n",
    "\n",
    "1.  **infinite_sequence()**:\n",
    "    * This function starts with num = 0.\n",
    "\n",
    "    * Inside an infinite while True loop, it yields num and then increments it by 1.\n",
    "    * Since yield pauses execution, it remembers the state and resumes from there when next() is called.\n",
    "\n",
    "2.  **Creating the Generator:**\n",
    "\n",
    "    * gen = infinite_sequence() initializes the generator.\n",
    "    \n",
    "\n",
    "3.  **Printing First 5 Numbers:**\n",
    "\n",
    "    * Using next(gen), we retrieve values from the generator five times inside a loop.\n",
    "\n",
    "    * The next time we call next(gen), execution resumes from where it left off."
   ]
  },
  {
   "cell_type": "code",
   "execution_count": 6,
   "id": "e81d86a6",
   "metadata": {},
   "outputs": [
    {
     "name": "stdout",
     "output_type": "stream",
     "text": [
      "0\n",
      "1\n",
      "2\n",
      "3\n",
      "4\n"
     ]
    }
   ],
   "source": [
    "def infinite_sequence():\n",
    "    num: int = 0\n",
    "    \n",
    "    while True:\n",
    "        yield num\n",
    "        num += 1\n",
    "    \n",
    "# Creating a generator Function\n",
    "gen2 = infinite_sequence()\n",
    "\n",
    "# Printing Variables, _ is a throw away variable\n",
    "for _ in range(5):\n",
    "    print(next(gen2))"
   ]
  },
  {
   "cell_type": "code",
   "execution_count": null,
   "id": "35657c66",
   "metadata": {},
   "outputs": [],
   "source": [
    "def infinite_loop(): # Without yield it becomes infinite\n",
    "    num: int = 0\n",
    "    \n",
    "    while True:\n",
    "        num += 1\n",
    "        print(\"Infinite Loop: \", num)\n",
    "\n",
    "infinite_loop() \n",
    "# Running this will output in infinite loop"
   ]
  },
  {
   "cell_type": "markdown",
   "id": "310d9543",
   "metadata": {},
   "source": [
    "### **Generator Expressions**\n",
    "A generator expression is a short way to create a generator, similar to list comprehensions — but without square brackets.\n",
    "\n",
    "Example:"
   ]
  },
  {
   "cell_type": "code",
   "execution_count": 2,
   "id": "74c185c8",
   "metadata": {},
   "outputs": [
    {
     "name": "stdout",
     "output_type": "stream",
     "text": [
      "<class 'generator'>\n",
      "0\n",
      "1\n",
      "4\n",
      "9\n",
      "16\n"
     ]
    }
   ],
   "source": [
    "gen = (x * x for x in range(5))\n",
    "print(type(gen))\n",
    "\n",
    "# Iterate over the generator\n",
    "for value in gen:\n",
    "    print(value)"
   ]
  },
  {
   "cell_type": "markdown",
   "id": "f19f77ba",
   "metadata": {},
   "source": [
    "### **Recursive Function**\n",
    "A recursive function is a function that calls itself to solve smaller parts of a problem.\n",
    "\n",
    "It breaks down a problem into smaller, more manageable subproblems, solving each one recursively until a base case is reached. The base case is the condition that stops the recursion, preventing infinite loops."
   ]
  },
  {
   "cell_type": "markdown",
   "id": "78810c84",
   "metadata": {},
   "source": [
    "### **Key Components of a Recursive Function**\n",
    "\n",
    "*   **Base Case**: The condition that stops the recursion.\n",
    "*   **Recursive Case**: The part of the function where it calls itself with a modified input."
   ]
  },
  {
   "cell_type": "code",
   "execution_count": 5,
   "id": "8133b821",
   "metadata": {},
   "outputs": [
    {
     "name": "stdout",
     "output_type": "stream",
     "text": [
      "5\n",
      "4\n",
      "3\n",
      "2\n",
      "1\n",
      "Done!\n"
     ]
    }
   ],
   "source": [
    "def countdown(n):\n",
    "    if n > 0:\n",
    "        print(n)\n",
    "        countdown(n - 1)\n",
    "    else:\n",
    "        print(\"Done!\")\n",
    "\n",
    "countdown(5)"
   ]
  },
  {
   "cell_type": "markdown",
   "id": "127ad8cd",
   "metadata": {},
   "source": [
    "### **Advantages of Recursive Functions**\n",
    "\n",
    "1.    Simplifies Code: Breaks complex problems into smaller, easier-to-understand parts.\n",
    "2.    Elegant Solutions: Often provides a clean and concise solution for problems like tree traversals, sorting, and mathematical computations.\n",
    "3.    Natural Fit for Certain Problems: Works well for problems with recursive structures (e.g., factorial, Fibonacci, tree traversals)."
   ]
  },
  {
   "cell_type": "markdown",
   "id": "89884cd7",
   "metadata": {},
   "source": [
    "### **Disadvantages of Recursive Functions**\n",
    "\n",
    "*   Stack Overflow: Deep recursion can lead to a stack overflow if the base case is not reached.\n",
    "*   Performance Issues: Recursive functions can be slower and use more memory compared to iterative solutions due to repeated function calls.\n",
    "*   Debugging Complexity: Recursive logic can be harder to debug and trace."
   ]
  },
  {
   "cell_type": "markdown",
   "id": "8baa17d6",
   "metadata": {},
   "source": [
    "### **When to Use Recursive Functions**\n",
    "\n",
    "* When the problem can be naturally divided into smaller subproblems.\n",
    "* When the depth of recursion is limited and won’t cause stack overflow.\n",
    "* For problems like tree traversals, divide-and-conquer algorithms, or mathematical sequences."
   ]
  },
  {
   "cell_type": "code",
   "execution_count": null,
   "id": "4183c422",
   "metadata": {},
   "outputs": [
    {
     "name": "stdout",
     "output_type": "stream",
     "text": [
      "The factorial of 5 is 120\n"
     ]
    }
   ],
   "source": [
    "# Example of recursive function\n",
    "\n",
    "def factorial(n):\n",
    "    if n == 0:\n",
    "        return 1\n",
    "    else:\n",
    "        return n * factorial(n - 1)\n",
    "    \n",
    "number = int(input(\"Enter the number of which you want factorial: \"))\n",
    "\n",
    "result = factorial(number)\n",
    "\n",
    "print(f\"The factorial of {number} is {result}\")"
   ]
  },
  {
   "cell_type": "markdown",
   "id": "0ba6e5b7",
   "metadata": {},
   "source": [
    "### **Multi Type Return in Function**\n",
    "\n",
    "\n",
    "In Python, a function can return multiple values of different types by packaging them into a tuple, list, dictionary, or even a custom object. This is often referred to as a multi-type return. For example, a function can return an int, a list, and a dict together, providing flexibility in handling complex data. Type annotations (e.g., Tuple[int, List[str], Dict[str, int]]) can be used to specify the expected return types, making the code more readable and maintainable. Multi-type returns are useful when a function needs to provide diverse outputs, such as a status code, a list of results, and a dictionary of metadata, all in a single call."
   ]
  },
  {
   "cell_type": "code",
   "execution_count": 11,
   "id": "0a7853b6",
   "metadata": {},
   "outputs": [
    {
     "name": "stdout",
     "output_type": "stream",
     "text": [
      "(3, [3.14, 2.71], {'name': 'Muhammad Shariq', 'age': 18})\n",
      "(11.0, [2.0, 3.0], {'country': 'Pakistan', 'city': 'Hyderabad'})\n"
     ]
    }
   ],
   "source": [
    "def example_function(a : int, b : int = 0, *args: float, **kwargs: str) -> tuple[int, list[float], dict[str, str]]:\n",
    "    \n",
    "    \"\"\"\n",
    "    Example function demonstrating varous parameter types.\n",
    "    \n",
    "    Args: \n",
    "        a: An Integer.\n",
    "        b: An integere with a default value of 0.\n",
    "        *args: Variable length positional arguments of type float.\n",
    "        **kwargs: Variable-length keyword arguments of type string.\n",
    "        \n",
    "    Returns:\n",
    "        A tuple containing:\n",
    "        - The sum of \"a\" + \"b\"\n",
    "        - A list of the variable-length positional arguments ('args').\n",
    "        - A dictionary of the variable-length keyword arguments ('kwargs').\n",
    "        \n",
    "    \"\"\"\n",
    "    \n",
    "    sum_ab = a + b\n",
    "    args_list = list(args) # Convert tuple to a list\n",
    "    return sum_ab, args_list, kwargs\n",
    "\n",
    "\n",
    "result = example_function(1, 2, 3.14, 2.71, name=\"Muhammad Shariq\", age=18)\n",
    "print(result)\n",
    "\n",
    "result = example_function(10, *[1.0, 2.0, 3.0], **{\"country\": \"Pakistan\", \"city\": \"Hyderabad\"})\n",
    "print(result)"
   ]
  },
  {
   "attachments": {
    "image.png": {
     "image/png": "[encoded data removed]"
    }
   },
   "cell_type": "markdown",
   "id": "f0208368",
   "metadata": {},
   "source": [
    "### **Order of args in function**\n",
    "![image.png](attachment:image.png)"
   ]
  },
  {
   "cell_type": "markdown",
   "id": "f689147b",
   "metadata": {},
   "source": [
    "\n",
    "### 🧭 **Python’s Precedence Rules for Name Resolution**\n",
    "\n",
    "This is based on something called the **LEGB rule** — it defines the order in which Python looks for **names** (variables, functions, etc.).\n",
    "\n",
    "#### 🧱 L → Local\n",
    "\n",
    "-   Inside the current function or method.\n",
    "    \n",
    "\n",
    "#### 🧱 E → Enclosing\n",
    "\n",
    "-   Functions inside other functions (closures).\n",
    "    \n",
    "\n",
    "#### 🧱 G → Global\n",
    "\n",
    "-   Top-level of the script/module.\n",
    "    \n",
    "\n",
    "#### 🧱 B → Built-in\n",
    "\n",
    "-   Python’s built-in names like `len`, `sum`, etc.\n",
    "\n",
    "---"
   ]
  },
  {
   "cell_type": "markdown",
   "id": "35cb2aae",
   "metadata": {},
   "source": [
    "### **Variable Precedence Table**\n",
    "\n",
    "Situation | Python Looks where first | Then...\n",
    "--------- | ------------------------ | -------\n",
    "Inside a function | Local (L) | Enclosing -> Global -> Built-in\n",
    "Inside a nested function | Local (L) | Enclosing (E) -> G -> B\n",
    "Outside any function | Global (G) | Then Built-in (B)"
   ]
  },
  {
   "cell_type": "markdown",
   "id": "61c03cce",
   "metadata": {},
   "source": [
    "### **Full LEGB Precedence Example in One Go:**"
   ]
  },
  {
   "cell_type": "code",
   "execution_count": 1,
   "id": "2359ab14",
   "metadata": {},
   "outputs": [
    {
     "name": "stdout",
     "output_type": "stream",
     "text": [
      "Math: pi           =  3.141592653589793\n",
      "Global: pi         =  1\n",
      "MyClass: pi        =  2\n",
      "my_function: pi    =  3\n",
      "inner_function: pi =  4\n"
     ]
    }
   ],
   "source": [
    "from math import *\n",
    "\n",
    "print(\"Math: pi           = \", pi)\n",
    "\n",
    "pi = 1\n",
    "print(\"Global: pi         = \", pi)\n",
    "\n",
    "class MyClass:\n",
    "  pi = 2\n",
    "  print(\"MyClass: pi        = \",pi)\n",
    "\n",
    "  def my_function():\n",
    "    pi = 3\n",
    "    print(\"my_function: pi    = \",pi)\n",
    "\n",
    "    def inner_function():\n",
    "      pi = 4\n",
    "      print(\"inner_function: pi = \",pi)\n",
    "\n",
    "\n",
    "    inner_function()\n",
    "\n",
    "  my_function()"
   ]
  },
  {
   "cell_type": "code",
   "execution_count": 2,
   "id": "629d4d44",
   "metadata": {},
   "outputs": [
    {
     "name": "stdout",
     "output_type": "stream",
     "text": [
      "Inside click_button()\n",
      "Total clicks (global): 1\n",
      "Page views (enclosing): 101\n",
      "After click_button(), page_views: 101\n",
      "After webpage(), total_clicks: 1\n"
     ]
    }
   ],
   "source": [
    "# This is a GLOBAL variable\n",
    "total_clicks = 0\n",
    "\n",
    "def webpage():\n",
    "    # This is an ENCLOSING variable\n",
    "    page_views = 100\n",
    "\n",
    "    def click_button():\n",
    "        # Let Python know we want to use and change the global variable\n",
    "        global total_clicks\n",
    "\n",
    "        # Let Python know we want to change the 'page_views' in the outer function\n",
    "        nonlocal page_views\n",
    "\n",
    "        # Now we modify both\n",
    "        total_clicks += 1\n",
    "        page_views += 1\n",
    "\n",
    "        print(\"Inside click_button()\")\n",
    "        print(\"Total clicks (global):\", total_clicks)\n",
    "        print(\"Page views (enclosing):\", page_views)\n",
    "\n",
    "    # Call the inner function\n",
    "    click_button()\n",
    "\n",
    "    # Check the value of page_views after inner function ran\n",
    "    print(\"After click_button(), page_views:\", page_views)\n",
    "\n",
    "# Call the outer function\n",
    "webpage()\n",
    "\n",
    "# Check the global total_clicks value\n",
    "print(\"After webpage(), total_clicks:\", total_clicks)"
   ]
  },
  {
   "cell_type": "markdown",
   "id": "e9eb8485",
   "metadata": {},
   "source": [
    "### **Deeper Explanation, Add `global` and `nonlocal`**\n",
    "\n",
    "This code explains the use of global and nonlocal keywords with the LEGB rule. Let's simplify and explain it step-by-step:\n",
    "\n",
    "Variable | Scope | Value Changes\n",
    "-------- | ----- | -------------\n",
    "total_click | Global | Changed using `global`\n",
    "page_view | Enclosing (webpage) | Changed using `nonlocal`\n",
    "\n",
    "\n",
    "```python\n",
    "total_clicks = 0\n",
    "```\n",
    "\n",
    "Global variable — starts at 0\n",
    "\n",
    "---\n",
    "```python\n",
    "def webpage():\n",
    "    page_views = 100\n",
    "```\n",
    "A function `webpage()` has its own variable `page_views = 100`\n",
    "(this is enclosing for the inner function)\n",
    "\n",
    "---\n",
    "Inside `webpage()` we define:\n",
    "```python\n",
    "def click_button():\n",
    "    global total_clicks\n",
    "    nonlocal page_views\n",
    "```\n",
    "- `global total_clicks`: lets us change the global variable `total_clicks`\n",
    "\n",
    "- `nonlocal page_views`: lets us change the enclosing function's `page_views`\n",
    "\n",
    "---\n",
    "```python\n",
    "total_clicks += 1\n",
    "page_views += 1\n",
    "```\n",
    "\n",
    "- `total_clicks` goes from 0 → 1\n",
    "\n",
    "- `page_views` goes from 100 → 101\n",
    "\n",
    "---\n",
    "Output\n",
    "```scss\n",
    "Inside click_button()\n",
    "Total clicks (global): 1\n",
    "Page views (enclosing): 101\n",
    "After click_button(), page_views: 101\n",
    "After webpage(), total_clicks: 1\n",
    "```\n",
    "---\n",
    "Summary:\n",
    "- `global` changes variables defined outside all functions\n",
    "\n",
    "- `nonlocal` changes variables from one level up (i.e., enclosing function)\n",
    "\n",
    "- Useful in nested functions where you want to modify outer variables"
   ]
  },
  {
   "cell_type": "markdown",
   "id": "f5f787a1",
   "metadata": {},
   "source": [
    "# **Follow me on LinkedIn for more Tips and News! [Muhammad Shariq](https://www.linkedin.com/in/muhammad---shariq)**"
   ]
  }
 ],
 "metadata": {
  "kernelspec": {
   "display_name": "base",
   "language": "python",
   "name": "python3"
  },
  "language_info": {
   "codemirror_mode": {
    "name": "ipython",
    "version": 3
   },
   "file_extension": ".py",
   "mimetype": "text/x-python",
   "name": "python",
   "nbconvert_exporter": "python",
   "pygments_lexer": "ipython3",
   "version": "3.12.7"
  }
 },
 "nbformat": 4,
 "nbformat_minor": 5
}
